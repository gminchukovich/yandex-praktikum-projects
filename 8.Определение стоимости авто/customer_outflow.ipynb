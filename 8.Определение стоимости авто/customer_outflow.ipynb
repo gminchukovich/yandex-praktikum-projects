{
 "cells": [
  {
   "cell_type": "markdown",
   "metadata": {},
   "source": [
    "# Определение стоимости автомобилей"
   ]
  },
  {
   "cell_type": "markdown",
   "metadata": {},
   "source": [
    "Сервис по продаже автомобилей с пробегом «Не бит, не крашен» разрабатывает приложение для привлечения новых клиентов. В нём можно быстро узнать рыночную стоимость своего автомобиля. В вашем распоряжении исторические данные: технические характеристики, комплектации и цены автомобилей. Вам нужно построить модель для определения стоимости. \n",
    "\n",
    "Заказчику важны:\n",
    "\n",
    "- качество предсказания;\n",
    "- скорость предсказания;\n",
    "- время обучения."
   ]
  },
  {
   "cell_type": "markdown",
   "metadata": {},
   "source": [
    "### Содержание:\n",
    "* [Подготовка данных](#1-section)\n",
    "* [Обучение моделе](#2-section)\n",
    "* [Анализ моделей.](#3-section)\n",
    "* [Выводы по проекту.](#4-section)"
   ]
  },
  {
   "cell_type": "code",
   "execution_count": 1,
   "metadata": {},
   "outputs": [],
   "source": [
    "import pandas as pd\n",
    "import numpy as np\n",
    "import time\n",
    "\n",
    "from sklearn.model_selection import train_test_split\n",
    "from sklearn.preprocessing import StandardScaler\n",
    "from sklearn.model_selection import GridSearchCV\n",
    "from sklearn.linear_model import LinearRegression\n",
    "from sklearn.tree import DecisionTreeRegressor\n",
    "from lightgbm import LGBMRegressor\n",
    "from catboost import CatBoostRegressor\n",
    "from sklearn.metrics import mean_squared_error"
   ]
  },
  {
   "cell_type": "markdown",
   "metadata": {},
   "source": [
    "## Подготовка данных<a id='1-section'></a>"
   ]
  },
  {
   "cell_type": "code",
   "execution_count": 2,
   "metadata": {},
   "outputs": [],
   "source": [
    "df = pd.read_csv('/datasets/autos.csv')"
   ]
  },
  {
   "cell_type": "code",
   "execution_count": 3,
   "metadata": {},
   "outputs": [
    {
     "data": {
      "text/plain": [
       "<bound method DataFrame.info of                 DateCrawled  Price  VehicleType  RegistrationYear Gearbox  \\\n",
       "0       2016-03-24 11:52:17    480          NaN              1993  manual   \n",
       "1       2016-03-24 10:58:45  18300        coupe              2011  manual   \n",
       "2       2016-03-14 12:52:21   9800          suv              2004    auto   \n",
       "3       2016-03-17 16:54:04   1500        small              2001  manual   \n",
       "4       2016-03-31 17:25:20   3600        small              2008  manual   \n",
       "...                     ...    ...          ...               ...     ...   \n",
       "354364  2016-03-21 09:50:58      0          NaN              2005  manual   \n",
       "354365  2016-03-14 17:48:27   2200          NaN              2005     NaN   \n",
       "354366  2016-03-05 19:56:21   1199  convertible              2000    auto   \n",
       "354367  2016-03-19 18:57:12   9200          bus              1996  manual   \n",
       "354368  2016-03-20 19:41:08   3400        wagon              2002  manual   \n",
       "\n",
       "        Power        Model  Kilometer  RegistrationMonth  FuelType  \\\n",
       "0           0         golf     150000                  0    petrol   \n",
       "1         190          NaN     125000                  5  gasoline   \n",
       "2         163        grand     125000                  8  gasoline   \n",
       "3          75         golf     150000                  6    petrol   \n",
       "4          69        fabia      90000                  7  gasoline   \n",
       "...       ...          ...        ...                ...       ...   \n",
       "354364      0         colt     150000                  7    petrol   \n",
       "354365      0          NaN      20000                  1       NaN   \n",
       "354366    101       fortwo     125000                  3    petrol   \n",
       "354367    102  transporter     150000                  3  gasoline   \n",
       "354368    100         golf     150000                  6  gasoline   \n",
       "\n",
       "                 Brand Repaired          DateCreated  NumberOfPictures  \\\n",
       "0           volkswagen      NaN  2016-03-24 00:00:00                 0   \n",
       "1                 audi      yes  2016-03-24 00:00:00                 0   \n",
       "2                 jeep      NaN  2016-03-14 00:00:00                 0   \n",
       "3           volkswagen       no  2016-03-17 00:00:00                 0   \n",
       "4                skoda       no  2016-03-31 00:00:00                 0   \n",
       "...                ...      ...                  ...               ...   \n",
       "354364      mitsubishi      yes  2016-03-21 00:00:00                 0   \n",
       "354365  sonstige_autos      NaN  2016-03-14 00:00:00                 0   \n",
       "354366           smart       no  2016-03-05 00:00:00                 0   \n",
       "354367      volkswagen       no  2016-03-19 00:00:00                 0   \n",
       "354368      volkswagen      NaN  2016-03-20 00:00:00                 0   \n",
       "\n",
       "        PostalCode             LastSeen  \n",
       "0            70435  2016-04-07 03:16:57  \n",
       "1            66954  2016-04-07 01:46:50  \n",
       "2            90480  2016-04-05 12:47:46  \n",
       "3            91074  2016-03-17 17:40:17  \n",
       "4            60437  2016-04-06 10:17:21  \n",
       "...            ...                  ...  \n",
       "354364        2694  2016-03-21 10:42:49  \n",
       "354365       39576  2016-04-06 00:46:52  \n",
       "354366       26135  2016-03-11 18:17:12  \n",
       "354367       87439  2016-04-07 07:15:26  \n",
       "354368       40764  2016-03-24 12:45:21  \n",
       "\n",
       "[354369 rows x 16 columns]>"
      ]
     },
     "execution_count": 3,
     "metadata": {},
     "output_type": "execute_result"
    }
   ],
   "source": [
    "df.info"
   ]
  },
  {
   "cell_type": "code",
   "execution_count": 4,
   "metadata": {
    "scrolled": true
   },
   "outputs": [
    {
     "data": {
      "text/html": [
       "<div>\n",
       "<style scoped>\n",
       "    .dataframe tbody tr th:only-of-type {\n",
       "        vertical-align: middle;\n",
       "    }\n",
       "\n",
       "    .dataframe tbody tr th {\n",
       "        vertical-align: top;\n",
       "    }\n",
       "\n",
       "    .dataframe thead th {\n",
       "        text-align: right;\n",
       "    }\n",
       "</style>\n",
       "<table border=\"1\" class=\"dataframe\">\n",
       "  <thead>\n",
       "    <tr style=\"text-align: right;\">\n",
       "      <th></th>\n",
       "      <th>DateCrawled</th>\n",
       "      <th>Price</th>\n",
       "      <th>VehicleType</th>\n",
       "      <th>RegistrationYear</th>\n",
       "      <th>Gearbox</th>\n",
       "      <th>Power</th>\n",
       "      <th>Model</th>\n",
       "      <th>Kilometer</th>\n",
       "      <th>RegistrationMonth</th>\n",
       "      <th>FuelType</th>\n",
       "      <th>Brand</th>\n",
       "      <th>Repaired</th>\n",
       "      <th>DateCreated</th>\n",
       "      <th>NumberOfPictures</th>\n",
       "      <th>PostalCode</th>\n",
       "      <th>LastSeen</th>\n",
       "    </tr>\n",
       "  </thead>\n",
       "  <tbody>\n",
       "    <tr>\n",
       "      <th>0</th>\n",
       "      <td>2016-03-24 11:52:17</td>\n",
       "      <td>480</td>\n",
       "      <td>NaN</td>\n",
       "      <td>1993</td>\n",
       "      <td>manual</td>\n",
       "      <td>0</td>\n",
       "      <td>golf</td>\n",
       "      <td>150000</td>\n",
       "      <td>0</td>\n",
       "      <td>petrol</td>\n",
       "      <td>volkswagen</td>\n",
       "      <td>NaN</td>\n",
       "      <td>2016-03-24 00:00:00</td>\n",
       "      <td>0</td>\n",
       "      <td>70435</td>\n",
       "      <td>2016-04-07 03:16:57</td>\n",
       "    </tr>\n",
       "    <tr>\n",
       "      <th>1</th>\n",
       "      <td>2016-03-24 10:58:45</td>\n",
       "      <td>18300</td>\n",
       "      <td>coupe</td>\n",
       "      <td>2011</td>\n",
       "      <td>manual</td>\n",
       "      <td>190</td>\n",
       "      <td>NaN</td>\n",
       "      <td>125000</td>\n",
       "      <td>5</td>\n",
       "      <td>gasoline</td>\n",
       "      <td>audi</td>\n",
       "      <td>yes</td>\n",
       "      <td>2016-03-24 00:00:00</td>\n",
       "      <td>0</td>\n",
       "      <td>66954</td>\n",
       "      <td>2016-04-07 01:46:50</td>\n",
       "    </tr>\n",
       "    <tr>\n",
       "      <th>2</th>\n",
       "      <td>2016-03-14 12:52:21</td>\n",
       "      <td>9800</td>\n",
       "      <td>suv</td>\n",
       "      <td>2004</td>\n",
       "      <td>auto</td>\n",
       "      <td>163</td>\n",
       "      <td>grand</td>\n",
       "      <td>125000</td>\n",
       "      <td>8</td>\n",
       "      <td>gasoline</td>\n",
       "      <td>jeep</td>\n",
       "      <td>NaN</td>\n",
       "      <td>2016-03-14 00:00:00</td>\n",
       "      <td>0</td>\n",
       "      <td>90480</td>\n",
       "      <td>2016-04-05 12:47:46</td>\n",
       "    </tr>\n",
       "    <tr>\n",
       "      <th>3</th>\n",
       "      <td>2016-03-17 16:54:04</td>\n",
       "      <td>1500</td>\n",
       "      <td>small</td>\n",
       "      <td>2001</td>\n",
       "      <td>manual</td>\n",
       "      <td>75</td>\n",
       "      <td>golf</td>\n",
       "      <td>150000</td>\n",
       "      <td>6</td>\n",
       "      <td>petrol</td>\n",
       "      <td>volkswagen</td>\n",
       "      <td>no</td>\n",
       "      <td>2016-03-17 00:00:00</td>\n",
       "      <td>0</td>\n",
       "      <td>91074</td>\n",
       "      <td>2016-03-17 17:40:17</td>\n",
       "    </tr>\n",
       "    <tr>\n",
       "      <th>4</th>\n",
       "      <td>2016-03-31 17:25:20</td>\n",
       "      <td>3600</td>\n",
       "      <td>small</td>\n",
       "      <td>2008</td>\n",
       "      <td>manual</td>\n",
       "      <td>69</td>\n",
       "      <td>fabia</td>\n",
       "      <td>90000</td>\n",
       "      <td>7</td>\n",
       "      <td>gasoline</td>\n",
       "      <td>skoda</td>\n",
       "      <td>no</td>\n",
       "      <td>2016-03-31 00:00:00</td>\n",
       "      <td>0</td>\n",
       "      <td>60437</td>\n",
       "      <td>2016-04-06 10:17:21</td>\n",
       "    </tr>\n",
       "    <tr>\n",
       "      <th>5</th>\n",
       "      <td>2016-04-04 17:36:23</td>\n",
       "      <td>650</td>\n",
       "      <td>sedan</td>\n",
       "      <td>1995</td>\n",
       "      <td>manual</td>\n",
       "      <td>102</td>\n",
       "      <td>3er</td>\n",
       "      <td>150000</td>\n",
       "      <td>10</td>\n",
       "      <td>petrol</td>\n",
       "      <td>bmw</td>\n",
       "      <td>yes</td>\n",
       "      <td>2016-04-04 00:00:00</td>\n",
       "      <td>0</td>\n",
       "      <td>33775</td>\n",
       "      <td>2016-04-06 19:17:07</td>\n",
       "    </tr>\n",
       "    <tr>\n",
       "      <th>6</th>\n",
       "      <td>2016-04-01 20:48:51</td>\n",
       "      <td>2200</td>\n",
       "      <td>convertible</td>\n",
       "      <td>2004</td>\n",
       "      <td>manual</td>\n",
       "      <td>109</td>\n",
       "      <td>2_reihe</td>\n",
       "      <td>150000</td>\n",
       "      <td>8</td>\n",
       "      <td>petrol</td>\n",
       "      <td>peugeot</td>\n",
       "      <td>no</td>\n",
       "      <td>2016-04-01 00:00:00</td>\n",
       "      <td>0</td>\n",
       "      <td>67112</td>\n",
       "      <td>2016-04-05 18:18:39</td>\n",
       "    </tr>\n",
       "    <tr>\n",
       "      <th>7</th>\n",
       "      <td>2016-03-21 18:54:38</td>\n",
       "      <td>0</td>\n",
       "      <td>sedan</td>\n",
       "      <td>1980</td>\n",
       "      <td>manual</td>\n",
       "      <td>50</td>\n",
       "      <td>other</td>\n",
       "      <td>40000</td>\n",
       "      <td>7</td>\n",
       "      <td>petrol</td>\n",
       "      <td>volkswagen</td>\n",
       "      <td>no</td>\n",
       "      <td>2016-03-21 00:00:00</td>\n",
       "      <td>0</td>\n",
       "      <td>19348</td>\n",
       "      <td>2016-03-25 16:47:58</td>\n",
       "    </tr>\n",
       "    <tr>\n",
       "      <th>8</th>\n",
       "      <td>2016-04-04 23:42:13</td>\n",
       "      <td>14500</td>\n",
       "      <td>bus</td>\n",
       "      <td>2014</td>\n",
       "      <td>manual</td>\n",
       "      <td>125</td>\n",
       "      <td>c_max</td>\n",
       "      <td>30000</td>\n",
       "      <td>8</td>\n",
       "      <td>petrol</td>\n",
       "      <td>ford</td>\n",
       "      <td>NaN</td>\n",
       "      <td>2016-04-04 00:00:00</td>\n",
       "      <td>0</td>\n",
       "      <td>94505</td>\n",
       "      <td>2016-04-04 23:42:13</td>\n",
       "    </tr>\n",
       "    <tr>\n",
       "      <th>9</th>\n",
       "      <td>2016-03-17 10:53:50</td>\n",
       "      <td>999</td>\n",
       "      <td>small</td>\n",
       "      <td>1998</td>\n",
       "      <td>manual</td>\n",
       "      <td>101</td>\n",
       "      <td>golf</td>\n",
       "      <td>150000</td>\n",
       "      <td>0</td>\n",
       "      <td>NaN</td>\n",
       "      <td>volkswagen</td>\n",
       "      <td>NaN</td>\n",
       "      <td>2016-03-17 00:00:00</td>\n",
       "      <td>0</td>\n",
       "      <td>27472</td>\n",
       "      <td>2016-03-31 17:17:06</td>\n",
       "    </tr>\n",
       "  </tbody>\n",
       "</table>\n",
       "</div>"
      ],
      "text/plain": [
       "           DateCrawled  Price  VehicleType  RegistrationYear Gearbox  Power  \\\n",
       "0  2016-03-24 11:52:17    480          NaN              1993  manual      0   \n",
       "1  2016-03-24 10:58:45  18300        coupe              2011  manual    190   \n",
       "2  2016-03-14 12:52:21   9800          suv              2004    auto    163   \n",
       "3  2016-03-17 16:54:04   1500        small              2001  manual     75   \n",
       "4  2016-03-31 17:25:20   3600        small              2008  manual     69   \n",
       "5  2016-04-04 17:36:23    650        sedan              1995  manual    102   \n",
       "6  2016-04-01 20:48:51   2200  convertible              2004  manual    109   \n",
       "7  2016-03-21 18:54:38      0        sedan              1980  manual     50   \n",
       "8  2016-04-04 23:42:13  14500          bus              2014  manual    125   \n",
       "9  2016-03-17 10:53:50    999        small              1998  manual    101   \n",
       "\n",
       "     Model  Kilometer  RegistrationMonth  FuelType       Brand Repaired  \\\n",
       "0     golf     150000                  0    petrol  volkswagen      NaN   \n",
       "1      NaN     125000                  5  gasoline        audi      yes   \n",
       "2    grand     125000                  8  gasoline        jeep      NaN   \n",
       "3     golf     150000                  6    petrol  volkswagen       no   \n",
       "4    fabia      90000                  7  gasoline       skoda       no   \n",
       "5      3er     150000                 10    petrol         bmw      yes   \n",
       "6  2_reihe     150000                  8    petrol     peugeot       no   \n",
       "7    other      40000                  7    petrol  volkswagen       no   \n",
       "8    c_max      30000                  8    petrol        ford      NaN   \n",
       "9     golf     150000                  0       NaN  volkswagen      NaN   \n",
       "\n",
       "           DateCreated  NumberOfPictures  PostalCode             LastSeen  \n",
       "0  2016-03-24 00:00:00                 0       70435  2016-04-07 03:16:57  \n",
       "1  2016-03-24 00:00:00                 0       66954  2016-04-07 01:46:50  \n",
       "2  2016-03-14 00:00:00                 0       90480  2016-04-05 12:47:46  \n",
       "3  2016-03-17 00:00:00                 0       91074  2016-03-17 17:40:17  \n",
       "4  2016-03-31 00:00:00                 0       60437  2016-04-06 10:17:21  \n",
       "5  2016-04-04 00:00:00                 0       33775  2016-04-06 19:17:07  \n",
       "6  2016-04-01 00:00:00                 0       67112  2016-04-05 18:18:39  \n",
       "7  2016-03-21 00:00:00                 0       19348  2016-03-25 16:47:58  \n",
       "8  2016-04-04 00:00:00                 0       94505  2016-04-04 23:42:13  \n",
       "9  2016-03-17 00:00:00                 0       27472  2016-03-31 17:17:06  "
      ]
     },
     "execution_count": 4,
     "metadata": {},
     "output_type": "execute_result"
    }
   ],
   "source": [
    "df.head(10)"
   ]
  },
  {
   "cell_type": "markdown",
   "metadata": {},
   "source": [
    "Проверим данные на наличие дубликатов."
   ]
  },
  {
   "cell_type": "code",
   "execution_count": 5,
   "metadata": {},
   "outputs": [
    {
     "data": {
      "text/plain": [
       "4"
      ]
     },
     "execution_count": 5,
     "metadata": {},
     "output_type": "execute_result"
    }
   ],
   "source": [
    "df.duplicated().sum()"
   ]
  },
  {
   "cell_type": "code",
   "execution_count": 6,
   "metadata": {},
   "outputs": [],
   "source": [
    "df = df.drop_duplicates()"
   ]
  },
  {
   "cell_type": "markdown",
   "metadata": {},
   "source": [
    "Изучим аномалии в столбцах."
   ]
  },
  {
   "cell_type": "code",
   "execution_count": 7,
   "metadata": {},
   "outputs": [
    {
     "data": {
      "text/plain": [
       "count    354365.000000\n",
       "mean       2004.234481\n",
       "std          90.228466\n",
       "min        1000.000000\n",
       "25%        1999.000000\n",
       "50%        2003.000000\n",
       "75%        2008.000000\n",
       "max        9999.000000\n",
       "Name: RegistrationYear, dtype: float64"
      ]
     },
     "execution_count": 7,
     "metadata": {},
     "output_type": "execute_result"
    }
   ],
   "source": [
    "df['RegistrationYear'].describe()"
   ]
  },
  {
   "cell_type": "markdown",
   "metadata": {},
   "source": [
    "Код регистрации не может быть позже даты последнего скачивания анкеты из базы."
   ]
  },
  {
   "cell_type": "code",
   "execution_count": 8,
   "metadata": {},
   "outputs": [
    {
     "data": {
      "text/plain": [
       "Timestamp('2016-04-07 14:36:58')"
      ]
     },
     "execution_count": 8,
     "metadata": {},
     "output_type": "execute_result"
    }
   ],
   "source": [
    "last_date = pd.to_datetime(df['DateCrawled'])\n",
    "last_date.max()"
   ]
  },
  {
   "cell_type": "code",
   "execution_count": 9,
   "metadata": {},
   "outputs": [],
   "source": [
    "df = df.query('1910 < RegistrationYear < 2017')"
   ]
  },
  {
   "cell_type": "markdown",
   "metadata": {},
   "source": [
    "\n",
    "<div class=\"alert alert-block alert-success\">\n",
    "<b>Успех:</b> С границами согласен\n",
    "</div>\n"
   ]
  },
  {
   "cell_type": "code",
   "execution_count": 10,
   "metadata": {
    "scrolled": true
   },
   "outputs": [
    {
     "data": {
      "text/plain": [
       "<AxesSubplot:>"
      ]
     },
     "execution_count": 10,
     "metadata": {},
     "output_type": "execute_result"
    },
    {
     "data": {
      "image/png": "[encoded data removed]",
      "text/plain": [
       "<Figure size 1080x720 with 1 Axes>"
      ]
     },
     "metadata": {
      "needs_background": "light"
     },
     "output_type": "display_data"
    }
   ],
   "source": [
    "df['RegistrationYear'].hist(bins=100, figsize = (15,10))"
   ]
  },
  {
   "cell_type": "markdown",
   "metadata": {},
   "source": [
    "Судя по графику сохраним значения значения года регистрации автомобиля с 1959 по 2017 год."
   ]
  },
  {
   "cell_type": "code",
   "execution_count": 11,
   "metadata": {},
   "outputs": [],
   "source": [
    "df = df.query('1959 < RegistrationYear < 2017')"
   ]
  },
  {
   "cell_type": "markdown",
   "metadata": {},
   "source": [
    "Проверим столбуц можности двигателя (Power) на наличие аномалий. За максимальное значение возьмем 2028 л.с., так как это максимально возможное их количество."
   ]
  },
  {
   "cell_type": "code",
   "execution_count": 12,
   "metadata": {},
   "outputs": [],
   "source": [
    "df = df.query('Power < 2028')"
   ]
  },
  {
   "cell_type": "code",
   "execution_count": 13,
   "metadata": {
    "scrolled": true
   },
   "outputs": [
    {
     "data": {
      "text/plain": [
       "<AxesSubplot:>"
      ]
     },
     "execution_count": 13,
     "metadata": {},
     "output_type": "execute_result"
    },
    {
     "data": {
      "image/png": "[encoded data removed]",
      "text/plain": [
       "<Figure size 1080x720 with 1 Axes>"
      ]
     },
     "metadata": {
      "needs_background": "light"
     },
     "output_type": "display_data"
    }
   ],
   "source": [
    "df['Power'].hist(bins=100, figsize = (15,10))"
   ]
  },
  {
   "cell_type": "markdown",
   "metadata": {},
   "source": [
    "Судя по графику установим максиум в 500 л.с. Также на граффике присутствуют нулевые значения, избавимся от них."
   ]
  },
  {
   "cell_type": "code",
   "execution_count": 14,
   "metadata": {},
   "outputs": [],
   "source": [
    "df = df.query('0 < Power < 500')"
   ]
  },
  {
   "cell_type": "markdown",
   "metadata": {},
   "source": [
    "Посмотрим на столбец цены."
   ]
  },
  {
   "cell_type": "code",
   "execution_count": 15,
   "metadata": {
    "scrolled": true
   },
   "outputs": [
    {
     "data": {
      "text/plain": [
       "<AxesSubplot:>"
      ]
     },
     "execution_count": 15,
     "metadata": {},
     "output_type": "execute_result"
    },
    {
     "data": {
      "image/png": "[encoded data removed]",
      "text/plain": [
       "<Figure size 1080x720 with 1 Axes>"
      ]
     },
     "metadata": {
      "needs_background": "light"
     },
     "output_type": "display_data"
    }
   ],
   "source": [
    "df['Price'].hist(bins=100, figsize = (15,10))"
   ]
  },
  {
   "cell_type": "markdown",
   "metadata": {},
   "source": [
    "Так ка это целевой признак, то нулевые значения восстанавливать не будем."
   ]
  },
  {
   "cell_type": "code",
   "execution_count": 16,
   "metadata": {},
   "outputs": [],
   "source": [
    "df = df.query('0 < Price')"
   ]
  },
  {
   "cell_type": "markdown",
   "metadata": {},
   "source": [
    "<div class=\"alert alert-block alert-success\">\n",
    "<b>Успех:</b>  А около-нулевые цены, не кажется подозрительными? Самое интересное, что на нескольких сайтов по продажам подержанных автомобилей в Германии (страну можно определить по почтовым индексам, большинство из них из Германии) показало, что цены начинаются действительно с 0 и 1 евро, но это единичные объявления и не понятно, то ли это ошибка при заполнении формы, то ли машины на металлолом. Но я  все-таки склоняюсь к тому, чтобы избавиться от таких данных\n",
    "</div>"
   ]
  },
  {
   "cell_type": "markdown",
   "metadata": {},
   "source": [
    "Некоторые столбцы не являются важными для нас, следовательно их можно удалить."
   ]
  },
  {
   "cell_type": "code",
   "execution_count": 17,
   "metadata": {},
   "outputs": [],
   "source": [
    "df = df.drop(columns=['DateCrawled', 'DateCreated', 'LastSeen', 'RegistrationMonth', 'PostalCode', 'NumberOfPictures'])"
   ]
  },
  {
   "cell_type": "markdown",
   "metadata": {},
   "source": [
    "\n",
    "<div class=\"alert alert-block alert-success\">\n",
    "<b>Успех:</b> Удалить неинформативные признаки - верное решение.\n",
    "</div>"
   ]
  },
  {
   "cell_type": "markdown",
   "metadata": {},
   "source": [
    "Проверим данные на пропуски"
   ]
  },
  {
   "cell_type": "code",
   "execution_count": 18,
   "metadata": {},
   "outputs": [
    {
     "data": {
      "text/plain": [
       "Price                   0\n",
       "VehicleType         11036\n",
       "RegistrationYear        0\n",
       "Gearbox              5370\n",
       "Power                   0\n",
       "Model               11139\n",
       "Kilometer               0\n",
       "FuelType            15551\n",
       "Brand                   0\n",
       "Repaired            42889\n",
       "dtype: int64"
      ]
     },
     "execution_count": 18,
     "metadata": {},
     "output_type": "execute_result"
    }
   ],
   "source": [
    "df.isna().sum()"
   ]
  },
  {
   "cell_type": "markdown",
   "metadata": {},
   "source": [
    "Так как мы не знаем причину пропусков в столбцах VehicleType и Model, введем категорию \"unknown\" (неизвестно)."
   ]
  },
  {
   "cell_type": "code",
   "execution_count": 19,
   "metadata": {},
   "outputs": [],
   "source": [
    "df['VehicleType'] = df['VehicleType'].fillna('un')"
   ]
  },
  {
   "cell_type": "code",
   "execution_count": 20,
   "metadata": {},
   "outputs": [],
   "source": [
    "df['Model'] = df['Model'].fillna('un')"
   ]
  },
  {
   "cell_type": "markdown",
   "metadata": {},
   "source": [
    "В столбце Repaired, пропуски скорее всего связаны с тем, что автомобиль не чинили. Поэтому переведем стобец в булевой тип, заменив yes (чинилась) на 1, no (не чинилась) на 0. "
   ]
  },
  {
   "cell_type": "code",
   "execution_count": 21,
   "metadata": {},
   "outputs": [],
   "source": [
    "df['Repaired'] = df['Repaired'].fillna('no')"
   ]
  },
  {
   "cell_type": "code",
   "execution_count": 22,
   "metadata": {},
   "outputs": [],
   "source": [
    "df.loc[(df['Repaired'] != 'yes'), 'Repaired'] = 1"
   ]
  },
  {
   "cell_type": "code",
   "execution_count": 23,
   "metadata": {},
   "outputs": [],
   "source": [
    "df.loc[(df['Repaired'] != 'no'), 'Repaired'] = 0"
   ]
  },
  {
   "cell_type": "markdown",
   "metadata": {},
   "source": [
    "Заменим пропущенные значения стобцов типа топлива и коробки передач на моду, сгруппировав данные по марке и модели автомобиля. Данные в столбце Gearbox переведем в булев тип, заменив auto (автомат) на 1, manual (механика) на 0."
   ]
  },
  {
   "cell_type": "code",
   "execution_count": 24,
   "metadata": {},
   "outputs": [],
   "source": [
    "df['FuelType']= df.groupby(['Brand', 'Model'])['FuelType'].transform(lambda x: x.fillna((x.mode()[0])))"
   ]
  },
  {
   "cell_type": "code",
   "execution_count": 25,
   "metadata": {},
   "outputs": [],
   "source": [
    "df['Gearbox']= df.groupby(['Brand', 'Model'])['Gearbox'].transform(lambda x: x.fillna((x.mode()[0])))"
   ]
  },
  {
   "cell_type": "code",
   "execution_count": 26,
   "metadata": {},
   "outputs": [],
   "source": [
    "df['Gearbox'] = df['Gearbox'].map({'auto':1, 'manual':0}).astype(int)"
   ]
  },
  {
   "cell_type": "code",
   "execution_count": 27,
   "metadata": {
    "scrolled": true
   },
   "outputs": [
    {
     "data": {
      "text/plain": [
       "Price               0\n",
       "VehicleType         0\n",
       "RegistrationYear    0\n",
       "Gearbox             0\n",
       "Power               0\n",
       "Model               0\n",
       "Kilometer           0\n",
       "FuelType            0\n",
       "Brand               0\n",
       "Repaired            0\n",
       "dtype: int64"
      ]
     },
     "execution_count": 27,
     "metadata": {},
     "output_type": "execute_result"
    }
   ],
   "source": [
    "df.isna().sum()"
   ]
  },
  {
   "cell_type": "code",
   "execution_count": 28,
   "metadata": {
    "scrolled": true
   },
   "outputs": [
    {
     "name": "stderr",
     "output_type": "stream",
     "text": [
      "/tmp/ipykernel_136/1046517715.py:1: DeprecationWarning: `np.int` is a deprecated alias for the builtin `int`. To silence this warning, use `int` by itself. Doing this will not modify any behavior and is safe. When replacing `np.int`, you may wish to use e.g. `np.int64` or `np.int32` to specify the precision. If you wish to review your current use, check the release note link for additional information.\n",
      "Deprecated in NumPy 1.20; for more details and guidance: https://numpy.org/devdocs/release/1.20.0-notes.html#deprecations\n",
      "  df = df.astype({'Repaired': np.int})\n"
     ]
    }
   ],
   "source": [
    "df = df.astype({'Repaired': np.int})"
   ]
  },
  {
   "cell_type": "code",
   "execution_count": 29,
   "metadata": {
    "scrolled": true
   },
   "outputs": [
    {
     "name": "stdout",
     "output_type": "stream",
     "text": [
      "<class 'pandas.core.frame.DataFrame'>\n",
      "Int64Index: 296319 entries, 1 to 354368\n",
      "Data columns (total 10 columns):\n",
      " #   Column            Non-Null Count   Dtype \n",
      "---  ------            --------------   ----- \n",
      " 0   Price             296319 non-null  int64 \n",
      " 1   VehicleType       296319 non-null  object\n",
      " 2   RegistrationYear  296319 non-null  int64 \n",
      " 3   Gearbox           296319 non-null  int64 \n",
      " 4   Power             296319 non-null  int64 \n",
      " 5   Model             296319 non-null  object\n",
      " 6   Kilometer         296319 non-null  int64 \n",
      " 7   FuelType          296319 non-null  object\n",
      " 8   Brand             296319 non-null  object\n",
      " 9   Repaired          296319 non-null  int64 \n",
      "dtypes: int64(6), object(4)\n",
      "memory usage: 24.9+ MB\n"
     ]
    }
   ],
   "source": [
    "df.info()"
   ]
  },
  {
   "cell_type": "code",
   "execution_count": 30,
   "metadata": {
    "scrolled": true
   },
   "outputs": [
    {
     "data": {
      "text/html": [
       "<div>\n",
       "<style scoped>\n",
       "    .dataframe tbody tr th:only-of-type {\n",
       "        vertical-align: middle;\n",
       "    }\n",
       "\n",
       "    .dataframe tbody tr th {\n",
       "        vertical-align: top;\n",
       "    }\n",
       "\n",
       "    .dataframe thead th {\n",
       "        text-align: right;\n",
       "    }\n",
       "</style>\n",
       "<table border=\"1\" class=\"dataframe\">\n",
       "  <thead>\n",
       "    <tr style=\"text-align: right;\">\n",
       "      <th></th>\n",
       "      <th>Price</th>\n",
       "      <th>VehicleType</th>\n",
       "      <th>RegistrationYear</th>\n",
       "      <th>Gearbox</th>\n",
       "      <th>Power</th>\n",
       "      <th>Model</th>\n",
       "      <th>Kilometer</th>\n",
       "      <th>FuelType</th>\n",
       "      <th>Brand</th>\n",
       "      <th>Repaired</th>\n",
       "    </tr>\n",
       "  </thead>\n",
       "  <tbody>\n",
       "    <tr>\n",
       "      <th>1</th>\n",
       "      <td>18300</td>\n",
       "      <td>coupe</td>\n",
       "      <td>2011</td>\n",
       "      <td>0</td>\n",
       "      <td>190</td>\n",
       "      <td>un</td>\n",
       "      <td>125000</td>\n",
       "      <td>gasoline</td>\n",
       "      <td>audi</td>\n",
       "      <td>0</td>\n",
       "    </tr>\n",
       "    <tr>\n",
       "      <th>2</th>\n",
       "      <td>9800</td>\n",
       "      <td>suv</td>\n",
       "      <td>2004</td>\n",
       "      <td>1</td>\n",
       "      <td>163</td>\n",
       "      <td>grand</td>\n",
       "      <td>125000</td>\n",
       "      <td>gasoline</td>\n",
       "      <td>jeep</td>\n",
       "      <td>0</td>\n",
       "    </tr>\n",
       "    <tr>\n",
       "      <th>3</th>\n",
       "      <td>1500</td>\n",
       "      <td>small</td>\n",
       "      <td>2001</td>\n",
       "      <td>0</td>\n",
       "      <td>75</td>\n",
       "      <td>golf</td>\n",
       "      <td>150000</td>\n",
       "      <td>petrol</td>\n",
       "      <td>volkswagen</td>\n",
       "      <td>0</td>\n",
       "    </tr>\n",
       "    <tr>\n",
       "      <th>4</th>\n",
       "      <td>3600</td>\n",
       "      <td>small</td>\n",
       "      <td>2008</td>\n",
       "      <td>0</td>\n",
       "      <td>69</td>\n",
       "      <td>fabia</td>\n",
       "      <td>90000</td>\n",
       "      <td>gasoline</td>\n",
       "      <td>skoda</td>\n",
       "      <td>0</td>\n",
       "    </tr>\n",
       "    <tr>\n",
       "      <th>5</th>\n",
       "      <td>650</td>\n",
       "      <td>sedan</td>\n",
       "      <td>1995</td>\n",
       "      <td>0</td>\n",
       "      <td>102</td>\n",
       "      <td>3er</td>\n",
       "      <td>150000</td>\n",
       "      <td>petrol</td>\n",
       "      <td>bmw</td>\n",
       "      <td>0</td>\n",
       "    </tr>\n",
       "  </tbody>\n",
       "</table>\n",
       "</div>"
      ],
      "text/plain": [
       "   Price VehicleType  RegistrationYear  Gearbox  Power  Model  Kilometer  \\\n",
       "1  18300       coupe              2011        0    190     un     125000   \n",
       "2   9800         suv              2004        1    163  grand     125000   \n",
       "3   1500       small              2001        0     75   golf     150000   \n",
       "4   3600       small              2008        0     69  fabia      90000   \n",
       "5    650       sedan              1995        0    102    3er     150000   \n",
       "\n",
       "   FuelType       Brand  Repaired  \n",
       "1  gasoline        audi         0  \n",
       "2  gasoline        jeep         0  \n",
       "3    petrol  volkswagen         0  \n",
       "4  gasoline       skoda         0  \n",
       "5    petrol         bmw         0  "
      ]
     },
     "execution_count": 30,
     "metadata": {},
     "output_type": "execute_result"
    }
   ],
   "source": [
    "df.head()"
   ]
  },
  {
   "cell_type": "markdown",
   "metadata": {},
   "source": [
    "**Вывод**\n",
    "\n",
    "На данном этапе работы были изучены данные.\n",
    "\n",
    "Избавились от дупликатов.\n",
    "\n",
    "Обработали аномальные значения.\n",
    "\n",
    "Обработали пропущенные значения."
   ]
  },
  {
   "cell_type": "markdown",
   "metadata": {},
   "source": [
    "## Обучение моделей <a id='2-section'></a>"
   ]
  },
  {
   "cell_type": "markdown",
   "metadata": {},
   "source": [
    "В данной работе будем использовать следущие модели:\n",
    " - LinearRegression\n",
    " - DecisionTreeRegressor\n",
    " - CatBoost\n",
    " - LightGBM"
   ]
  },
  {
   "cell_type": "markdown",
   "metadata": {},
   "source": [
    "Модели CatBoost и LightGBM работают с категориальными данными, только для модели LightGBM приведем категориальные признаки к формату category. Для остальных преобразуем признаки техникой One-Hot Encoding и стандартизируем их."
   ]
  },
  {
   "cell_type": "code",
   "execution_count": 31,
   "metadata": {},
   "outputs": [],
   "source": [
    "category = ['Brand','Model','VehicleType','FuelType']"
   ]
  },
  {
   "cell_type": "code",
   "execution_count": 32,
   "metadata": {},
   "outputs": [],
   "source": [
    "target = df['Price']\n",
    "features = df.drop('Price', axis=1)"
   ]
  },
  {
   "cell_type": "code",
   "execution_count": 33,
   "metadata": {},
   "outputs": [],
   "source": [
    "features_train, features_valid, target_train, target_valid = train_test_split(\n",
    "    features, target, test_size=0.2, random_state=12345)\n",
    "features_train, features_test, target_train, target_test = train_test_split(\n",
    "    features_train, target_train, test_size=0.25, random_state=12345)"
   ]
  },
  {
   "cell_type": "code",
   "execution_count": 34,
   "metadata": {},
   "outputs": [],
   "source": [
    "df_ohe = pd.get_dummies(df, drop_first=True)"
   ]
  },
  {
   "cell_type": "code",
   "execution_count": 35,
   "metadata": {},
   "outputs": [],
   "source": [
    "target_ohe = df_ohe['Price']\n",
    "features_ohe = df_ohe.drop('Price', axis=1)"
   ]
  },
  {
   "cell_type": "code",
   "execution_count": 36,
   "metadata": {},
   "outputs": [],
   "source": [
    "features_ohe_tr, features_ohe_val, target_ohe_tr, target_ohe_valid = train_test_split(\n",
    "    features_ohe, target_ohe, test_size=0.2, random_state=12345)\n",
    "features_ohe_tr, features_ohe_test, target_ohe_tr, target_ohe_test = train_test_split(\n",
    "    features_ohe_tr, target_ohe_tr, test_size=0.25, random_state=12345)"
   ]
  },
  {
   "cell_type": "code",
   "execution_count": 37,
   "metadata": {},
   "outputs": [],
   "source": [
    "numeric = ['Power','Kilometer','RegistrationYear']"
   ]
  },
  {
   "cell_type": "code",
   "execution_count": 38,
   "metadata": {},
   "outputs": [
    {
     "data": {
      "text/plain": [
       "StandardScaler()"
      ]
     },
     "execution_count": 38,
     "metadata": {},
     "output_type": "execute_result"
    }
   ],
   "source": [
    "scaler = StandardScaler()\n",
    "scaler.fit(features_ohe_tr[numeric])"
   ]
  },
  {
   "cell_type": "code",
   "execution_count": 39,
   "metadata": {
    "scrolled": true
   },
   "outputs": [
    {
     "name": "stderr",
     "output_type": "stream",
     "text": [
      "/tmp/ipykernel_136/3184776976.py:2: SettingWithCopyWarning: \n",
      "A value is trying to be set on a copy of a slice from a DataFrame.\n",
      "Try using .loc[row_indexer,col_indexer] = value instead\n",
      "\n",
      "See the caveats in the documentation: https://pandas.pydata.org/pandas-docs/stable/user_guide/indexing.html#returning-a-view-versus-a-copy\n",
      "  features_ohe_val[numeric] = scaler.transform(features_ohe_val[numeric])\n",
      "/opt/conda/lib/python3.9/site-packages/pandas/core/indexing.py:1738: SettingWithCopyWarning: \n",
      "A value is trying to be set on a copy of a slice from a DataFrame.\n",
      "Try using .loc[row_indexer,col_indexer] = value instead\n",
      "\n",
      "See the caveats in the documentation: https://pandas.pydata.org/pandas-docs/stable/user_guide/indexing.html#returning-a-view-versus-a-copy\n",
      "  self._setitem_single_column(loc, value[:, i].tolist(), pi)\n"
     ]
    }
   ],
   "source": [
    "features_ohe_tr[numeric] = scaler.transform(features_ohe_tr[numeric])\n",
    "features_ohe_val[numeric] = scaler.transform(features_ohe_val[numeric]) \n",
    "features_ohe_test[numeric] = scaler.transform(features_ohe_test[numeric]) "
   ]
  },
  {
   "cell_type": "markdown",
   "metadata": {},
   "source": [
    "**LinearRegression**"
   ]
  },
  {
   "cell_type": "code",
   "execution_count": 40,
   "metadata": {},
   "outputs": [],
   "source": [
    "linear = LinearRegression()"
   ]
  },
  {
   "cell_type": "code",
   "execution_count": 41,
   "metadata": {},
   "outputs": [
    {
     "name": "stdout",
     "output_type": "stream",
     "text": [
      "CPU times: user 8.36 s, sys: 3.75 s, total: 12.1 s\n",
      "Wall time: 12.1 s\n"
     ]
    },
    {
     "data": {
      "text/plain": [
       "LinearRegression()"
      ]
     },
     "execution_count": 41,
     "metadata": {},
     "output_type": "execute_result"
    }
   ],
   "source": [
    "%%time\n",
    "linear.fit(features_ohe_tr, target_ohe_tr)"
   ]
  },
  {
   "cell_type": "code",
   "execution_count": 42,
   "metadata": {},
   "outputs": [
    {
     "name": "stdout",
     "output_type": "stream",
     "text": [
      "RMSE линейной модели: 2604.5706888111476\n",
      "CPU times: user 47.1 ms, sys: 70.8 ms, total: 118 ms\n",
      "Wall time: 144 ms\n"
     ]
    }
   ],
   "source": [
    "%%time\n",
    "predictions_valid = linear.predict(features_ohe_val)\n",
    "print('RMSE линейной модели:', mean_squared_error(target_ohe_valid, predictions_valid)**0.5)"
   ]
  },
  {
   "cell_type": "markdown",
   "metadata": {},
   "source": [
    "**DecisionTReeRegressor**"
   ]
  },
  {
   "cell_type": "code",
   "execution_count": 43,
   "metadata": {},
   "outputs": [],
   "source": [
    "tree = DecisionTreeRegressor(random_state=12345)"
   ]
  },
  {
   "cell_type": "code",
   "execution_count": 44,
   "metadata": {},
   "outputs": [
    {
     "name": "stdout",
     "output_type": "stream",
     "text": [
      "Параметры: {'max_depth': 9}\n",
      "CPU times: user 50.4 s, sys: 5.81 s, total: 56.2 s\n",
      "Wall time: 56.3 s\n"
     ]
    }
   ],
   "source": [
    "%%time\n",
    "parameters = {'max_depth': range (1,10)}\n",
    "\n",
    "clf = GridSearchCV(tree, param_grid = parameters, scoring = 'neg_mean_squared_error', cv = 5)\n",
    "\n",
    "clf.fit(features_ohe_tr,target_ohe_tr)\n",
    "\n",
    "print('Параметры:', clf.best_params_)"
   ]
  },
  {
   "cell_type": "code",
   "execution_count": 45,
   "metadata": {},
   "outputs": [
    {
     "name": "stdout",
     "output_type": "stream",
     "text": [
      "CPU times: user 3.75 s, sys: 135 ms, total: 3.89 s\n",
      "Wall time: 3.9 s\n"
     ]
    },
    {
     "data": {
      "text/plain": [
       "DecisionTreeRegressor(random_state=12345)"
      ]
     },
     "execution_count": 45,
     "metadata": {},
     "output_type": "execute_result"
    }
   ],
   "source": [
    "%%time\n",
    "tree.fit(features_ohe_tr,target_ohe_tr)"
   ]
  },
  {
   "cell_type": "code",
   "execution_count": 46,
   "metadata": {},
   "outputs": [
    {
     "name": "stdout",
     "output_type": "stream",
     "text": [
      "RMSE модели дерева решений: 1888.7018692136696\n",
      "CPU times: user 64.5 ms, sys: 39.9 ms, total: 104 ms\n",
      "Wall time: 108 ms\n"
     ]
    }
   ],
   "source": [
    "%%time\n",
    "\n",
    "predictions_valid = tree.predict(features_ohe_val)\n",
    "print('RMSE модели дерева решений:', mean_squared_error(target_ohe_valid, predictions_valid)**0.5)"
   ]
  },
  {
   "cell_type": "code",
   "execution_count": 47,
   "metadata": {},
   "outputs": [
    {
     "name": "stdout",
     "output_type": "stream",
     "text": [
      "RMSE модели дерева решений: 2038.3266973650723\n",
      "CPU times: user 32.3 ms, sys: 50.8 ms, total: 83.1 ms\n",
      "Wall time: 90.7 ms\n"
     ]
    }
   ],
   "source": [
    "%%time\n",
    "predictions_valid = clf.predict(features_ohe_val)\n",
    "\n",
    "print('RMSE модели дерева решений:', mean_squared_error(target_ohe_valid, predictions_valid)**0.5)"
   ]
  },
  {
   "cell_type": "markdown",
   "metadata": {},
   "source": [
    "**CatBoostRegressor**"
   ]
  },
  {
   "cell_type": "code",
   "execution_count": 48,
   "metadata": {},
   "outputs": [],
   "source": [
    "cat = CatBoostRegressor(random_state=12345)"
   ]
  },
  {
   "cell_type": "code",
   "execution_count": 49,
   "metadata": {},
   "outputs": [
    {
     "name": "stdout",
     "output_type": "stream",
     "text": [
      "CPU times: user 1min 59s, sys: 540 ms, total: 2min\n",
      "Wall time: 2min 1s\n"
     ]
    },
    {
     "data": {
      "text/plain": [
       "<catboost.core.CatBoostRegressor at 0x7f42503bfca0>"
      ]
     },
     "execution_count": 49,
     "metadata": {},
     "output_type": "execute_result"
    }
   ],
   "source": [
    "%%time\n",
    "cat.fit(features_train, target_train, cat_features = category, verbose = False)"
   ]
  },
  {
   "cell_type": "code",
   "execution_count": 50,
   "metadata": {},
   "outputs": [
    {
     "name": "stdout",
     "output_type": "stream",
     "text": [
      "RMSE модели CatBoostRegression: 1643.6948367922246\n",
      "CPU times: user 330 ms, sys: 18 µs, total: 330 ms\n",
      "Wall time: 331 ms\n"
     ]
    }
   ],
   "source": [
    "%%time\n",
    "predictions_valid = cat.predict(features_valid)\n",
    "print('RMSE модели CatBoostRegression:', mean_squared_error(target_valid, predictions_valid)**0.5)"
   ]
  },
  {
   "cell_type": "markdown",
   "metadata": {},
   "source": [
    "**LGBMRegressor**"
   ]
  },
  {
   "cell_type": "code",
   "execution_count": 51,
   "metadata": {},
   "outputs": [],
   "source": [
    "lgmr = LGBMRegressor(random_state = 12345)"
   ]
  },
  {
   "cell_type": "code",
   "execution_count": 52,
   "metadata": {},
   "outputs": [
    {
     "name": "stderr",
     "output_type": "stream",
     "text": [
      "/opt/conda/lib/python3.9/site-packages/pandas/core/frame.py:3191: SettingWithCopyWarning: \n",
      "A value is trying to be set on a copy of a slice from a DataFrame.\n",
      "Try using .loc[row_indexer,col_indexer] = value instead\n",
      "\n",
      "See the caveats in the documentation: https://pandas.pydata.org/pandas-docs/stable/user_guide/indexing.html#returning-a-view-versus-a-copy\n",
      "  self[k1] = value[k2]\n"
     ]
    }
   ],
   "source": [
    "features_train[category] = features_train[category].astype('category')\n",
    "features_valid[category] = features_valid[category].astype('category')\n",
    "features_test[category] = features_test[category].astype('category')"
   ]
  },
  {
   "cell_type": "code",
   "execution_count": 53,
   "metadata": {},
   "outputs": [
    {
     "name": "stdout",
     "output_type": "stream",
     "text": [
      "CPU times: user 3.98 s, sys: 12.6 ms, total: 3.99 s\n",
      "Wall time: 3.97 s\n"
     ]
    },
    {
     "data": {
      "text/plain": [
       "LGBMRegressor(random_state=12345)"
      ]
     },
     "execution_count": 53,
     "metadata": {},
     "output_type": "execute_result"
    }
   ],
   "source": [
    "%%time\n",
    "lgmr.fit(features_train, target_train)"
   ]
  },
  {
   "cell_type": "code",
   "execution_count": 54,
   "metadata": {},
   "outputs": [
    {
     "name": "stdout",
     "output_type": "stream",
     "text": [
      "RMSE модели LightGBM: 1662.9571430942838\n",
      "CPU times: user 561 ms, sys: 0 ns, total: 561 ms\n",
      "Wall time: 591 ms\n"
     ]
    }
   ],
   "source": [
    "%%time\n",
    "predictions_valid = lgmr.predict(features_valid)\n",
    "\n",
    "print('RMSE модели LightGBM:', mean_squared_error(target_valid, predictions_valid)**0.5)"
   ]
  },
  {
   "cell_type": "markdown",
   "metadata": {},
   "source": [
    "**Вывод:**\n",
    "\n",
    "На данном этапе были обучены и проверены на валидационной выборке следущие модели:LinearRegression, DecisionTreeRegressor, CatBoost, LightGBM.\n",
    "\n",
    "Резултаты: \n",
    " - LinearRegression RMSE=2604.6 , скорость обучения 53.1 s и со скоростью предсказания 342 ms.\n",
    " - DecisionTReeRegressor RMSE=1888.7 , скорость обучения 37.3 s и со скоростью предсказания 805 ms.\n",
    " - CatBoostRegressor RMSE=1643.7 , скорость обучения 3min 58s и со скоростью предсказания 766 ms.\n",
    " - LGBMRegressor RMSE=1663 со скоростью обучения 7min 12s и со скоростью предсказания 714 ms."
   ]
  },
  {
   "cell_type": "markdown",
   "metadata": {},
   "source": [
    "## Анализ моделей <a id='3-section'></a>"
   ]
  },
  {
   "cell_type": "markdown",
   "metadata": {},
   "source": [
    "Проверим модели на тестовой выборке."
   ]
  },
  {
   "cell_type": "code",
   "execution_count": 55,
   "metadata": {},
   "outputs": [],
   "source": [
    "result = [[\"53.1 ms\", \"342 ms\", 2604.4],\n",
    "        [\"37.3 s\", \"805 ms\", 1888.7],\n",
    "        [\"3 min 58s\", \"766 ms\", 1643.7],\n",
    "        [\"7 min 12s\", \"714 ms\", 1663]]\n",
    "model = [\"Linear Regression\", \"DecisionTreeRegresso\", \"CatBoostRegressor\", \"LGBMRegressor\"]"
   ]
  },
  {
   "cell_type": "code",
   "execution_count": 56,
   "metadata": {
    "scrolled": true
   },
   "outputs": [
    {
     "data": {
      "text/html": [
       "<div>\n",
       "<style scoped>\n",
       "    .dataframe tbody tr th:only-of-type {\n",
       "        vertical-align: middle;\n",
       "    }\n",
       "\n",
       "    .dataframe tbody tr th {\n",
       "        vertical-align: top;\n",
       "    }\n",
       "\n",
       "    .dataframe thead th {\n",
       "        text-align: right;\n",
       "    }\n",
       "</style>\n",
       "<table border=\"1\" class=\"dataframe\">\n",
       "  <thead>\n",
       "    <tr style=\"text-align: right;\">\n",
       "      <th></th>\n",
       "      <th>fit_time</th>\n",
       "      <th>predict_time</th>\n",
       "      <th>RMSE</th>\n",
       "    </tr>\n",
       "  </thead>\n",
       "  <tbody>\n",
       "    <tr>\n",
       "      <th>Linear Regression</th>\n",
       "      <td>53.1 ms</td>\n",
       "      <td>342 ms</td>\n",
       "      <td>2604.4</td>\n",
       "    </tr>\n",
       "    <tr>\n",
       "      <th>DecisionTreeRegresso</th>\n",
       "      <td>37.3 s</td>\n",
       "      <td>805 ms</td>\n",
       "      <td>1888.7</td>\n",
       "    </tr>\n",
       "    <tr>\n",
       "      <th>CatBoostRegressor</th>\n",
       "      <td>3 min 58s</td>\n",
       "      <td>766 ms</td>\n",
       "      <td>1643.7</td>\n",
       "    </tr>\n",
       "    <tr>\n",
       "      <th>LGBMRegressor</th>\n",
       "      <td>7 min 12s</td>\n",
       "      <td>714 ms</td>\n",
       "      <td>1663.0</td>\n",
       "    </tr>\n",
       "  </tbody>\n",
       "</table>\n",
       "</div>"
      ],
      "text/plain": [
       "                       fit_time predict_time    RMSE\n",
       "Linear Regression       53.1 ms       342 ms  2604.4\n",
       "DecisionTreeRegresso     37.3 s       805 ms  1888.7\n",
       "CatBoostRegressor     3 min 58s       766 ms  1643.7\n",
       "LGBMRegressor         7 min 12s       714 ms  1663.0"
      ]
     },
     "execution_count": 56,
     "metadata": {},
     "output_type": "execute_result"
    }
   ],
   "source": [
    "pd.DataFrame(data=result, index=model, columns=[\"fit_time\", \"predict_time\", \"RMSE\"])"
   ]
  },
  {
   "cell_type": "markdown",
   "metadata": {},
   "source": [
    "Исходя из критериев заказчика наилучшей моделей будет DecisionTreeRegresso. У данной модели наилучшее качество, но время предсказания и скорости обучение выше."
   ]
  },
  {
   "cell_type": "code",
   "execution_count": 57,
   "metadata": {},
   "outputs": [
    {
     "name": "stdout",
     "output_type": "stream",
     "text": [
      "RMSE модели дерева решений: 1915.543238858749\n",
      "CPU times: user 69.3 ms, sys: 32.8 ms, total: 102 ms\n",
      "Wall time: 101 ms\n"
     ]
    }
   ],
   "source": [
    "%%time\n",
    "predictions_test = tree.predict(features_ohe_test)\n",
    "print('RMSE модели дерева решений:', mean_squared_error(target_ohe_test, predictions_test)**0.5)"
   ]
  },
  {
   "cell_type": "markdown",
   "metadata": {},
   "source": [
    "На тестовой выборке результаты незначительно отличаются от валидационной."
   ]
  },
  {
   "cell_type": "markdown",
   "metadata": {},
   "source": [
    "# Вывод по проекту <a id='4-section'></a>"
   ]
  },
  {
   "cell_type": "markdown",
   "metadata": {},
   "source": [
    "Входе данного проета были изучены данные, обработаны анамальные значения, дубликаты и пропуски в данных.\n",
    "\n",
    "Обучили и проверили следущие модели:LinearRegression, DecisionTreeRegressor, CatBoost, LightGBM."
   ]
  },
  {
   "cell_type": "code",
   "execution_count": 58,
   "metadata": {},
   "outputs": [
    {
     "data": {
      "text/html": [
       "<div>\n",
       "<style scoped>\n",
       "    .dataframe tbody tr th:only-of-type {\n",
       "        vertical-align: middle;\n",
       "    }\n",
       "\n",
       "    .dataframe tbody tr th {\n",
       "        vertical-align: top;\n",
       "    }\n",
       "\n",
       "    .dataframe thead th {\n",
       "        text-align: right;\n",
       "    }\n",
       "</style>\n",
       "<table border=\"1\" class=\"dataframe\">\n",
       "  <thead>\n",
       "    <tr style=\"text-align: right;\">\n",
       "      <th></th>\n",
       "      <th>fit_time</th>\n",
       "      <th>predict_time</th>\n",
       "      <th>RMSE</th>\n",
       "    </tr>\n",
       "  </thead>\n",
       "  <tbody>\n",
       "    <tr>\n",
       "      <th>Linear Regression</th>\n",
       "      <td>53.1 ms</td>\n",
       "      <td>342 ms</td>\n",
       "      <td>2604.4</td>\n",
       "    </tr>\n",
       "    <tr>\n",
       "      <th>DecisionTreeRegresso</th>\n",
       "      <td>37.3 s</td>\n",
       "      <td>805 ms</td>\n",
       "      <td>1888.7</td>\n",
       "    </tr>\n",
       "    <tr>\n",
       "      <th>CatBoostRegressor</th>\n",
       "      <td>3 min 58s</td>\n",
       "      <td>766 ms</td>\n",
       "      <td>1643.7</td>\n",
       "    </tr>\n",
       "    <tr>\n",
       "      <th>LGBMRegressor</th>\n",
       "      <td>7 min 12s</td>\n",
       "      <td>714 ms</td>\n",
       "      <td>1663.0</td>\n",
       "    </tr>\n",
       "  </tbody>\n",
       "</table>\n",
       "</div>"
      ],
      "text/plain": [
       "                       fit_time predict_time    RMSE\n",
       "Linear Regression       53.1 ms       342 ms  2604.4\n",
       "DecisionTreeRegresso     37.3 s       805 ms  1888.7\n",
       "CatBoostRegressor     3 min 58s       766 ms  1643.7\n",
       "LGBMRegressor         7 min 12s       714 ms  1663.0"
      ]
     },
     "execution_count": 58,
     "metadata": {},
     "output_type": "execute_result"
    }
   ],
   "source": [
    "pd.DataFrame(data=result, index=model, columns=[\"fit_time\", \"predict_time\", \"RMSE\"])"
   ]
  },
  {
   "cell_type": "markdown",
   "metadata": {},
   "source": [
    "Входе анализа обученных моделей мы выяснили, что модели градиентного бустинга показали наилучший результат, чем модели дерева решения и линейной регрессии. Наиболее точной моделью оказалась CatBoostRegressor, следом за ней идет LGBMRegressor. Хотя скорость обучения и предсказания у моделей LinearRegression и DecisionTReeRegressor намного выше."
   ]
  },
  {
   "cell_type": "markdown",
   "metadata": {},
   "source": [
    "Исходя из требований заказчика наилучшей моделей была выбрана DecisionTReeRegressor со следущими показателями RMSE=1888.7 , скорость обучения 6.08 s и со скоростью предсказания 170 ms."
   ]
  },
  {
   "cell_type": "markdown",
   "metadata": {},
   "source": [
    "На тестовой выборке DecisionTReeRegressor показала следущие результаты: \n",
    "\n",
    " - RMSE = 1915.5\n",
    " - Cкоростью предсказания 920 ms"
   ]
  }
 ],
 "metadata": {
  "ExecuteTimeLog": [
   {
    "duration": 428,
    "start_time": "2023-07-09T09:49:49.572Z"
   },
   {
    "duration": 3,
    "start_time": "2023-07-09T09:49:51.994Z"
   },
   {
    "duration": 3,
    "start_time": "2023-07-09T09:49:55.498Z"
   },
   {
    "duration": 1234,
    "start_time": "2023-07-09T09:50:29.774Z"
   },
   {
    "duration": 960,
    "start_time": "2023-07-09T09:51:02.829Z"
   },
   {
    "duration": 24,
    "start_time": "2023-07-09T09:51:09.449Z"
   },
   {
    "duration": 2,
    "start_time": "2023-07-09T09:52:44.602Z"
   },
   {
    "duration": 14,
    "start_time": "2023-07-09T09:53:00.169Z"
   },
   {
    "duration": 606,
    "start_time": "2023-07-09T09:53:52.323Z"
   },
   {
    "duration": 467,
    "start_time": "2023-07-09T09:53:56.612Z"
   },
   {
    "duration": 117,
    "start_time": "2023-07-09T09:54:31.420Z"
   },
   {
    "duration": 547,
    "start_time": "2023-07-09T10:00:22.126Z"
   },
   {
    "duration": 548,
    "start_time": "2023-07-09T10:00:41.767Z"
   },
   {
    "duration": 119,
    "start_time": "2023-07-09T10:00:47.901Z"
   },
   {
    "duration": 22,
    "start_time": "2023-07-09T10:02:07.260Z"
   },
   {
    "duration": 61,
    "start_time": "2023-07-09T10:08:50.121Z"
   },
   {
    "duration": 68,
    "start_time": "2023-07-09T10:09:27.306Z"
   },
   {
    "duration": 752,
    "start_time": "2023-07-09T10:10:18.004Z"
   },
   {
    "duration": 309,
    "start_time": "2023-07-09T10:10:24.106Z"
   },
   {
    "duration": 407,
    "start_time": "2023-07-09T10:10:32.405Z"
   },
   {
    "duration": 101,
    "start_time": "2023-07-09T10:12:10.766Z"
   },
   {
    "duration": 77,
    "start_time": "2023-07-09T10:12:58.667Z"
   },
   {
    "duration": 61,
    "start_time": "2023-07-09T10:13:43.850Z"
   },
   {
    "duration": 65,
    "start_time": "2023-07-09T10:13:45.323Z"
   },
   {
    "duration": 51,
    "start_time": "2023-07-09T10:18:02.064Z"
   },
   {
    "duration": 324,
    "start_time": "2023-07-09T10:18:15.448Z"
   },
   {
    "duration": 50,
    "start_time": "2023-07-09T10:22:21.222Z"
   },
   {
    "duration": 1873,
    "start_time": "2023-07-09T10:28:04.006Z"
   },
   {
    "duration": 318,
    "start_time": "2023-07-09T10:28:10.663Z"
   },
   {
    "duration": 100,
    "start_time": "2023-07-09T11:12:42.538Z"
   },
   {
    "duration": 38,
    "start_time": "2023-07-09T11:13:13.024Z"
   },
   {
    "duration": 28,
    "start_time": "2023-07-09T11:14:07.102Z"
   },
   {
    "duration": 14,
    "start_time": "2023-07-09T11:15:31.534Z"
   },
   {
    "duration": 12,
    "start_time": "2023-07-09T11:15:47.561Z"
   },
   {
    "duration": 19,
    "start_time": "2023-07-09T11:15:51.347Z"
   },
   {
    "duration": 15,
    "start_time": "2023-07-09T11:15:57.394Z"
   },
   {
    "duration": 25,
    "start_time": "2023-07-09T11:16:25.605Z"
   },
   {
    "duration": 15,
    "start_time": "2023-07-09T11:16:26.499Z"
   },
   {
    "duration": 14,
    "start_time": "2023-07-09T11:17:41.505Z"
   },
   {
    "duration": 9,
    "start_time": "2023-07-09T11:18:15.106Z"
   },
   {
    "duration": 9,
    "start_time": "2023-07-09T11:18:21.806Z"
   },
   {
    "duration": 12,
    "start_time": "2023-07-09T11:18:26.003Z"
   },
   {
    "duration": 9,
    "start_time": "2023-07-09T11:18:28.603Z"
   },
   {
    "duration": 70,
    "start_time": "2023-07-09T11:18:31.942Z"
   },
   {
    "duration": 16,
    "start_time": "2023-07-09T11:18:44.005Z"
   },
   {
    "duration": 65,
    "start_time": "2023-07-09T11:19:19.071Z"
   },
   {
    "duration": 10,
    "start_time": "2023-07-09T11:19:28.635Z"
   },
   {
    "duration": 64,
    "start_time": "2023-07-09T11:19:35.099Z"
   },
   {
    "duration": 63,
    "start_time": "2023-07-09T11:19:41.506Z"
   },
   {
    "duration": 1251,
    "start_time": "2023-07-09T19:19:35.950Z"
   },
   {
    "duration": 1432,
    "start_time": "2023-07-09T19:19:38.203Z"
   },
   {
    "duration": 24,
    "start_time": "2023-07-09T19:19:39.638Z"
   },
   {
    "duration": 25,
    "start_time": "2023-07-09T19:19:40.338Z"
   },
   {
    "duration": 572,
    "start_time": "2023-07-09T19:19:41.729Z"
   },
   {
    "duration": 587,
    "start_time": "2023-07-09T19:19:43.013Z"
   },
   {
    "duration": 21,
    "start_time": "2023-07-09T19:19:45.263Z"
   },
   {
    "duration": 94,
    "start_time": "2023-07-09T19:19:46.491Z"
   },
   {
    "duration": 67,
    "start_time": "2023-07-09T19:19:47.171Z"
   },
   {
    "duration": 1804,
    "start_time": "2023-07-09T19:19:47.929Z"
   },
   {
    "duration": 85,
    "start_time": "2023-07-09T19:19:49.893Z"
   },
   {
    "duration": 73,
    "start_time": "2023-07-09T19:19:50.931Z"
   },
   {
    "duration": 367,
    "start_time": "2023-07-09T19:19:51.277Z"
   },
   {
    "duration": 50,
    "start_time": "2023-07-09T19:19:52.046Z"
   },
   {
    "duration": 438,
    "start_time": "2023-07-09T19:19:52.942Z"
   },
   {
    "duration": 47,
    "start_time": "2023-07-09T19:19:54.550Z"
   },
   {
    "duration": 30,
    "start_time": "2023-07-09T19:19:55.633Z"
   },
   {
    "duration": 79,
    "start_time": "2023-07-09T19:19:57.674Z"
   },
   {
    "duration": 247,
    "start_time": "2023-07-09T19:21:30.813Z"
   },
   {
    "duration": 320,
    "start_time": "2023-07-09T19:21:33.157Z"
   },
   {
    "duration": 106,
    "start_time": "2023-07-09T19:21:58.898Z"
   },
   {
    "duration": 25,
    "start_time": "2023-07-09T19:22:18.393Z"
   },
   {
    "duration": 27,
    "start_time": "2023-07-09T19:22:20.331Z"
   },
   {
    "duration": 24,
    "start_time": "2023-07-09T19:33:12.898Z"
   },
   {
    "duration": 142,
    "start_time": "2023-07-09T19:35:34.548Z"
   },
   {
    "duration": 108,
    "start_time": "2023-07-09T19:36:33.064Z"
   },
   {
    "duration": 99,
    "start_time": "2023-07-09T19:41:20.775Z"
   },
   {
    "duration": 120,
    "start_time": "2023-07-09T19:41:34.027Z"
   },
   {
    "duration": 28,
    "start_time": "2023-07-09T19:42:10.536Z"
   },
   {
    "duration": 26,
    "start_time": "2023-07-09T19:42:13.864Z"
   },
   {
    "duration": 24,
    "start_time": "2023-07-09T19:42:15.466Z"
   },
   {
    "duration": 47,
    "start_time": "2023-07-09T19:42:22.698Z"
   },
   {
    "duration": 25,
    "start_time": "2023-07-09T19:46:42.841Z"
   },
   {
    "duration": 42,
    "start_time": "2023-07-09T19:46:43.201Z"
   },
   {
    "duration": 51,
    "start_time": "2023-07-09T19:47:05.644Z"
   },
   {
    "duration": 98,
    "start_time": "2023-07-09T19:49:52.269Z"
   },
   {
    "duration": 372,
    "start_time": "2023-07-09T19:50:06.162Z"
   },
   {
    "duration": 294,
    "start_time": "2023-07-09T19:50:22.440Z"
   },
   {
    "duration": 32,
    "start_time": "2023-07-09T19:50:37.962Z"
   },
   {
    "duration": 62,
    "start_time": "2023-07-09T19:50:51.225Z"
   },
   {
    "duration": 75,
    "start_time": "2023-07-09T19:51:06.488Z"
   },
   {
    "duration": 37,
    "start_time": "2023-07-09T19:52:00.704Z"
   },
   {
    "duration": 70,
    "start_time": "2023-07-09T19:52:17.326Z"
   },
   {
    "duration": 24,
    "start_time": "2023-07-09T19:52:24.731Z"
   },
   {
    "duration": 75,
    "start_time": "2023-07-09T19:52:25.690Z"
   },
   {
    "duration": 26,
    "start_time": "2023-07-09T19:52:52.204Z"
   },
   {
    "duration": 1049,
    "start_time": "2023-07-09T19:58:11.994Z"
   },
   {
    "duration": 3,
    "start_time": "2023-07-09T20:00:04.790Z"
   },
   {
    "duration": 1455,
    "start_time": "2023-07-10T11:37:51.828Z"
   },
   {
    "duration": 4188,
    "start_time": "2023-07-10T11:37:54.537Z"
   },
   {
    "duration": 36,
    "start_time": "2023-07-10T11:37:58.728Z"
   },
   {
    "duration": 28,
    "start_time": "2023-07-10T11:37:58.773Z"
   },
   {
    "duration": 566,
    "start_time": "2023-07-10T11:37:58.803Z"
   },
   {
    "duration": 616,
    "start_time": "2023-07-10T11:37:59.370Z"
   },
   {
    "duration": 19,
    "start_time": "2023-07-10T11:37:59.997Z"
   },
   {
    "duration": 109,
    "start_time": "2023-07-10T11:38:00.018Z"
   },
   {
    "duration": 78,
    "start_time": "2023-07-10T11:38:00.130Z"
   },
   {
    "duration": 963,
    "start_time": "2023-07-10T11:38:00.210Z"
   },
   {
    "duration": 92,
    "start_time": "2023-07-10T11:38:01.177Z"
   },
   {
    "duration": 66,
    "start_time": "2023-07-10T11:38:01.271Z"
   },
   {
    "duration": 421,
    "start_time": "2023-07-10T11:38:01.339Z"
   },
   {
    "duration": 49,
    "start_time": "2023-07-10T11:38:01.771Z"
   },
   {
    "duration": 499,
    "start_time": "2023-07-10T11:38:01.822Z"
   },
   {
    "duration": 69,
    "start_time": "2023-07-10T11:38:02.328Z"
   },
   {
    "duration": 28,
    "start_time": "2023-07-10T11:38:02.400Z"
   },
   {
    "duration": 115,
    "start_time": "2023-07-10T11:38:02.431Z"
   },
   {
    "duration": 44,
    "start_time": "2023-07-10T11:38:02.548Z"
   },
   {
    "duration": 26,
    "start_time": "2023-07-10T11:38:02.598Z"
   },
   {
    "duration": 26,
    "start_time": "2023-07-10T11:38:02.626Z"
   },
   {
    "duration": 59,
    "start_time": "2023-07-10T11:38:02.654Z"
   },
   {
    "duration": 52,
    "start_time": "2023-07-10T11:38:02.715Z"
   },
   {
    "duration": 339,
    "start_time": "2023-07-10T11:38:03.121Z"
   },
   {
    "duration": 349,
    "start_time": "2023-07-10T11:38:03.612Z"
   },
   {
    "duration": 33,
    "start_time": "2023-07-10T11:38:03.995Z"
   },
   {
    "duration": 88,
    "start_time": "2023-07-10T11:38:04.437Z"
   },
   {
    "duration": 94,
    "start_time": "2023-07-10T11:38:04.810Z"
   },
   {
    "duration": 12,
    "start_time": "2023-07-10T11:38:05.189Z"
   },
   {
    "duration": 3,
    "start_time": "2023-07-10T11:39:02.613Z"
   },
   {
    "duration": 31,
    "start_time": "2023-07-10T11:40:02.262Z"
   },
   {
    "duration": 5,
    "start_time": "2023-07-10T11:44:47.111Z"
   },
   {
    "duration": 124,
    "start_time": "2023-07-10T11:46:31.805Z"
   },
   {
    "duration": 93,
    "start_time": "2023-07-10T11:48:04.333Z"
   },
   {
    "duration": 4,
    "start_time": "2023-07-10T11:48:43.983Z"
   },
   {
    "duration": 176,
    "start_time": "2023-07-10T11:49:26.426Z"
   },
   {
    "duration": 10,
    "start_time": "2023-07-10T11:49:36.917Z"
   },
   {
    "duration": 24,
    "start_time": "2023-07-10T11:54:27.813Z"
   },
   {
    "duration": 11,
    "start_time": "2023-07-10T11:54:33.641Z"
   },
   {
    "duration": 873,
    "start_time": "2023-07-10T11:54:49.421Z"
   },
   {
    "duration": 216,
    "start_time": "2023-07-10T11:56:28.014Z"
   },
   {
    "duration": 617,
    "start_time": "2023-07-10T11:56:40.714Z"
   },
   {
    "duration": 3,
    "start_time": "2023-07-10T11:56:44.435Z"
   },
   {
    "duration": 17,
    "start_time": "2023-07-10T11:56:45.296Z"
   },
   {
    "duration": 207,
    "start_time": "2023-07-10T11:58:25.897Z"
   },
   {
    "duration": 167,
    "start_time": "2023-07-10T11:59:55.272Z"
   },
   {
    "duration": 14,
    "start_time": "2023-07-10T12:00:25.306Z"
   },
   {
    "duration": 627,
    "start_time": "2023-07-10T12:02:37.413Z"
   },
   {
    "duration": 11,
    "start_time": "2023-07-10T12:02:48.537Z"
   },
   {
    "duration": 162,
    "start_time": "2023-07-10T12:03:41.118Z"
   },
   {
    "duration": 600,
    "start_time": "2023-07-10T12:04:20.646Z"
   },
   {
    "duration": 10,
    "start_time": "2023-07-10T12:04:21.248Z"
   },
   {
    "duration": 15,
    "start_time": "2023-07-10T12:04:21.931Z"
   },
   {
    "duration": 249,
    "start_time": "2023-07-10T12:04:22.551Z"
   },
   {
    "duration": 3,
    "start_time": "2023-07-10T12:04:24.449Z"
   },
   {
    "duration": 45284,
    "start_time": "2023-07-10T12:05:05.508Z"
   },
   {
    "duration": 4,
    "start_time": "2023-07-10T12:08:04.947Z"
   },
   {
    "duration": 144,
    "start_time": "2023-07-10T12:08:13.931Z"
   },
   {
    "duration": 4,
    "start_time": "2023-07-10T12:09:47.224Z"
   },
   {
    "duration": 708,
    "start_time": "2023-07-10T12:20:02.438Z"
   },
   {
    "duration": 105788,
    "start_time": "2023-07-10T12:20:17.080Z"
   },
   {
    "duration": 131,
    "start_time": "2023-07-10T12:22:08.723Z"
   },
   {
    "duration": 17,
    "start_time": "2023-07-10T12:22:51.439Z"
   },
   {
    "duration": 3,
    "start_time": "2023-07-10T12:23:10.610Z"
   },
   {
    "duration": 197739,
    "start_time": "2023-07-10T12:25:50.212Z"
   },
   {
    "duration": 751,
    "start_time": "2023-07-10T12:29:07.955Z"
   },
   {
    "duration": 228238,
    "start_time": "2023-07-10T12:29:32.685Z"
   },
   {
    "duration": 718,
    "start_time": "2023-07-10T12:33:20.928Z"
   },
   {
    "duration": 37,
    "start_time": "2023-07-10T12:33:21.648Z"
   },
   {
    "duration": 31,
    "start_time": "2023-07-10T12:33:21.694Z"
   },
   {
    "duration": 0,
    "start_time": "2023-07-10T12:33:21.728Z"
   },
   {
    "duration": 0,
    "start_time": "2023-07-10T12:33:21.731Z"
   },
   {
    "duration": 266,
    "start_time": "2023-07-10T12:33:57.222Z"
   },
   {
    "duration": 247,
    "start_time": "2023-07-10T12:33:59.606Z"
   },
   {
    "duration": 23,
    "start_time": "2023-07-10T12:34:33.724Z"
   },
   {
    "duration": 265,
    "start_time": "2023-07-10T12:34:36.404Z"
   },
   {
    "duration": 209,
    "start_time": "2023-07-10T12:35:11.915Z"
   },
   {
    "duration": 235,
    "start_time": "2023-07-10T12:35:20.130Z"
   },
   {
    "duration": 208,
    "start_time": "2023-07-10T12:35:32.349Z"
   },
   {
    "duration": 38,
    "start_time": "2023-07-10T12:37:39.638Z"
   },
   {
    "duration": 297,
    "start_time": "2023-07-10T12:37:40.600Z"
   },
   {
    "duration": 36,
    "start_time": "2023-07-10T12:37:52.708Z"
   },
   {
    "duration": 292,
    "start_time": "2023-07-10T12:37:55.601Z"
   },
   {
    "duration": 40,
    "start_time": "2023-07-10T12:38:10.197Z"
   },
   {
    "duration": 193,
    "start_time": "2023-07-10T12:38:11.492Z"
   },
   {
    "duration": 31,
    "start_time": "2023-07-10T12:39:22.322Z"
   },
   {
    "duration": 300,
    "start_time": "2023-07-10T12:39:23.803Z"
   },
   {
    "duration": 38,
    "start_time": "2023-07-10T12:39:33.507Z"
   },
   {
    "duration": 268,
    "start_time": "2023-07-10T12:39:38.392Z"
   },
   {
    "duration": 70,
    "start_time": "2023-07-10T12:39:54.651Z"
   },
   {
    "duration": 357,
    "start_time": "2023-07-10T12:39:57.752Z"
   },
   {
    "duration": 64,
    "start_time": "2023-07-10T12:40:33.594Z"
   },
   {
    "duration": 6,
    "start_time": "2023-07-10T12:40:34.580Z"
   },
   {
    "duration": 38,
    "start_time": "2023-07-10T12:40:35.205Z"
   },
   {
    "duration": 399,
    "start_time": "2023-07-10T12:40:37.006Z"
   },
   {
    "duration": 310,
    "start_time": "2023-07-10T12:42:48.783Z"
   },
   {
    "duration": 60,
    "start_time": "2023-07-10T12:44:02.945Z"
   },
   {
    "duration": 312,
    "start_time": "2023-07-10T12:44:04.289Z"
   },
   {
    "duration": 2848,
    "start_time": "2023-07-10T12:44:26.493Z"
   },
   {
    "duration": 0,
    "start_time": "2023-07-10T12:44:29.354Z"
   },
   {
    "duration": 136,
    "start_time": "2023-07-10T12:45:44.129Z"
   },
   {
    "duration": 1433,
    "start_time": "2023-07-10T12:46:03.614Z"
   },
   {
    "duration": 0,
    "start_time": "2023-07-10T12:46:05.050Z"
   },
   {
    "duration": 128,
    "start_time": "2023-07-10T12:46:20.815Z"
   },
   {
    "duration": 1472,
    "start_time": "2023-07-10T12:46:27.635Z"
   },
   {
    "duration": 164,
    "start_time": "2023-07-10T12:46:29.132Z"
   },
   {
    "duration": 1186,
    "start_time": "2023-07-10T12:47:32.696Z"
   },
   {
    "duration": 5,
    "start_time": "2023-07-10T12:48:03.887Z"
   },
   {
    "duration": 3906,
    "start_time": "2023-07-10T12:48:05.088Z"
   },
   {
    "duration": 14,
    "start_time": "2023-07-10T12:48:08.996Z"
   },
   {
    "duration": 74,
    "start_time": "2023-07-10T12:48:09.012Z"
   },
   {
    "duration": 583,
    "start_time": "2023-07-10T12:48:10.132Z"
   },
   {
    "duration": 631,
    "start_time": "2023-07-10T12:48:11.787Z"
   },
   {
    "duration": 20,
    "start_time": "2023-07-10T12:48:15.389Z"
   },
   {
    "duration": 99,
    "start_time": "2023-07-10T12:48:16.525Z"
   },
   {
    "duration": 76,
    "start_time": "2023-07-10T12:48:16.947Z"
   },
   {
    "duration": 342,
    "start_time": "2023-07-10T12:48:17.684Z"
   },
   {
    "duration": 65,
    "start_time": "2023-07-10T12:48:18.853Z"
   },
   {
    "duration": 49,
    "start_time": "2023-07-10T12:48:20.092Z"
   },
   {
    "duration": 380,
    "start_time": "2023-07-10T12:48:20.822Z"
   },
   {
    "duration": 64,
    "start_time": "2023-07-10T12:48:22.651Z"
   },
   {
    "duration": 407,
    "start_time": "2023-07-10T12:48:24.314Z"
   },
   {
    "duration": 68,
    "start_time": "2023-07-10T12:48:25.994Z"
   },
   {
    "duration": 24,
    "start_time": "2023-07-10T12:48:27.191Z"
   },
   {
    "duration": 98,
    "start_time": "2023-07-10T12:48:28.707Z"
   },
   {
    "duration": 34,
    "start_time": "2023-07-10T12:48:29.925Z"
   },
   {
    "duration": 20,
    "start_time": "2023-07-10T12:48:30.332Z"
   },
   {
    "duration": 20,
    "start_time": "2023-07-10T12:48:31.401Z"
   },
   {
    "duration": 40,
    "start_time": "2023-07-10T12:48:31.932Z"
   },
   {
    "duration": 26,
    "start_time": "2023-07-10T12:48:32.593Z"
   },
   {
    "duration": 375,
    "start_time": "2023-07-10T12:48:34.175Z"
   },
   {
    "duration": 455,
    "start_time": "2023-07-10T12:48:35.135Z"
   },
   {
    "duration": 36,
    "start_time": "2023-07-10T12:48:38.122Z"
   },
   {
    "duration": 105,
    "start_time": "2023-07-10T12:48:38.815Z"
   },
   {
    "duration": 18,
    "start_time": "2023-07-10T12:48:40.628Z"
   },
   {
    "duration": 72,
    "start_time": "2023-07-10T12:48:42.287Z"
   },
   {
    "duration": 78,
    "start_time": "2023-07-10T12:50:26.324Z"
   },
   {
    "duration": 190,
    "start_time": "2023-07-10T12:50:27.947Z"
   },
   {
    "duration": 23,
    "start_time": "2023-07-10T12:50:36.482Z"
   },
   {
    "duration": 14,
    "start_time": "2023-07-10T12:50:38.855Z"
   },
   {
    "duration": 28,
    "start_time": "2023-07-10T12:50:39.481Z"
   },
   {
    "duration": 165,
    "start_time": "2023-07-10T12:50:39.811Z"
   },
   {
    "duration": 1038,
    "start_time": "2023-07-10T12:50:40.231Z"
   },
   {
    "duration": 225,
    "start_time": "2023-07-10T12:50:41.271Z"
   },
   {
    "duration": 771,
    "start_time": "2023-07-10T12:50:41.498Z"
   },
   {
    "duration": 5,
    "start_time": "2023-07-10T12:50:42.272Z"
   },
   {
    "duration": 41,
    "start_time": "2023-07-10T12:50:42.283Z"
   },
   {
    "duration": 294,
    "start_time": "2023-07-10T12:50:42.353Z"
   },
   {
    "duration": 5,
    "start_time": "2023-07-10T12:50:43.744Z"
   },
   {
    "duration": 53166,
    "start_time": "2023-07-10T12:50:44.195Z"
   },
   {
    "duration": 372,
    "start_time": "2023-07-10T12:51:37.376Z"
   },
   {
    "duration": 20,
    "start_time": "2023-07-10T12:51:37.778Z"
   },
   {
    "duration": 124963,
    "start_time": "2023-07-10T12:51:37.822Z"
   },
   {
    "duration": 234,
    "start_time": "2023-07-10T12:53:42.799Z"
   },
   {
    "duration": 27,
    "start_time": "2023-07-10T12:53:43.042Z"
   },
   {
    "duration": 238978,
    "start_time": "2023-07-10T12:53:43.073Z"
   },
   {
    "duration": 778,
    "start_time": "2023-07-10T12:57:42.058Z"
   },
   {
    "duration": 7,
    "start_time": "2023-07-10T12:57:42.838Z"
   },
   {
    "duration": 236,
    "start_time": "2023-07-10T12:57:42.848Z"
   },
   {
    "duration": 432508,
    "start_time": "2023-07-10T12:57:43.089Z"
   },
   {
    "duration": 723,
    "start_time": "2023-07-10T13:04:55.604Z"
   },
   {
    "duration": 114,
    "start_time": "2023-07-10T13:04:56.330Z"
   },
   {
    "duration": 0,
    "start_time": "2023-07-10T13:04:56.447Z"
   },
   {
    "duration": 151,
    "start_time": "2023-07-10T13:06:14.914Z"
   },
   {
    "duration": 570,
    "start_time": "2023-07-10T13:06:28.903Z"
   },
   {
    "duration": 936,
    "start_time": "2023-07-10T13:07:12.487Z"
   },
   {
    "duration": 671,
    "start_time": "2023-07-10T13:07:41.628Z"
   },
   {
    "duration": 765,
    "start_time": "2023-07-10T13:08:03.692Z"
   },
   {
    "duration": 200,
    "start_time": "2023-07-10T13:08:44.727Z"
   },
   {
    "duration": 730,
    "start_time": "2023-07-10T13:08:56.631Z"
   },
   {
    "duration": 5,
    "start_time": "2023-07-10T14:29:17.606Z"
   },
   {
    "duration": 3531,
    "start_time": "2023-07-10T14:29:18.675Z"
   },
   {
    "duration": 20,
    "start_time": "2023-07-10T14:29:22.209Z"
   },
   {
    "duration": 43,
    "start_time": "2023-07-10T14:29:22.232Z"
   },
   {
    "duration": 512,
    "start_time": "2023-07-10T14:29:22.281Z"
   },
   {
    "duration": 552,
    "start_time": "2023-07-10T14:29:22.794Z"
   },
   {
    "duration": 29,
    "start_time": "2023-07-10T14:29:23.348Z"
   },
   {
    "duration": 94,
    "start_time": "2023-07-10T14:29:23.382Z"
   },
   {
    "duration": 71,
    "start_time": "2023-07-10T14:29:23.479Z"
   },
   {
    "duration": 357,
    "start_time": "2023-07-10T14:29:23.552Z"
   },
   {
    "duration": 61,
    "start_time": "2023-07-10T14:29:23.911Z"
   },
   {
    "duration": 45,
    "start_time": "2023-07-10T14:29:25.505Z"
   },
   {
    "duration": 339,
    "start_time": "2023-07-10T14:29:25.983Z"
   },
   {
    "duration": 47,
    "start_time": "2023-07-10T14:29:27.201Z"
   },
   {
    "duration": 371,
    "start_time": "2023-07-10T14:34:15.394Z"
   },
   {
    "duration": 71,
    "start_time": "2023-07-10T14:34:16.694Z"
   },
   {
    "duration": 42,
    "start_time": "2023-07-10T14:34:17.741Z"
   },
   {
    "duration": 139,
    "start_time": "2023-07-10T14:34:18.673Z"
   },
   {
    "duration": 21,
    "start_time": "2023-07-10T14:34:19.337Z"
   },
   {
    "duration": 18,
    "start_time": "2023-07-10T14:34:19.625Z"
   },
   {
    "duration": 22,
    "start_time": "2023-07-10T14:34:20.196Z"
   },
   {
    "duration": 46,
    "start_time": "2023-07-10T14:34:20.535Z"
   },
   {
    "duration": 43,
    "start_time": "2023-07-10T14:34:20.875Z"
   },
   {
    "duration": 401,
    "start_time": "2023-07-10T14:34:21.490Z"
   },
   {
    "duration": 371,
    "start_time": "2023-07-10T14:34:21.902Z"
   },
   {
    "duration": 51,
    "start_time": "2023-07-10T14:34:22.275Z"
   },
   {
    "duration": 86,
    "start_time": "2023-07-10T14:34:22.466Z"
   },
   {
    "duration": 66,
    "start_time": "2023-07-10T14:34:23.245Z"
   },
   {
    "duration": 65,
    "start_time": "2023-07-10T14:34:23.995Z"
   },
   {
    "duration": 19,
    "start_time": "2023-07-10T14:34:24.389Z"
   },
   {
    "duration": 3,
    "start_time": "2023-07-10T14:34:27.233Z"
   },
   {
    "duration": 14,
    "start_time": "2023-07-10T14:34:27.504Z"
   },
   {
    "duration": 144,
    "start_time": "2023-07-10T14:34:27.826Z"
   },
   {
    "duration": 765,
    "start_time": "2023-07-10T14:34:28.109Z"
   },
   {
    "duration": 195,
    "start_time": "2023-07-10T14:34:28.875Z"
   },
   {
    "duration": 548,
    "start_time": "2023-07-10T14:34:29.072Z"
   },
   {
    "duration": 2,
    "start_time": "2023-07-10T14:34:29.622Z"
   },
   {
    "duration": 30,
    "start_time": "2023-07-10T14:34:29.626Z"
   },
   {
    "duration": 188,
    "start_time": "2023-07-10T14:34:29.973Z"
   },
   {
    "duration": 3,
    "start_time": "2023-07-10T14:34:30.995Z"
   },
   {
    "duration": 1768,
    "start_time": "2023-07-10T18:10:21.232Z"
   },
   {
    "duration": 3013,
    "start_time": "2023-07-10T18:10:25.654Z"
   },
   {
    "duration": 20,
    "start_time": "2023-07-10T18:10:28.671Z"
   },
   {
    "duration": 24,
    "start_time": "2023-07-10T18:10:28.693Z"
   },
   {
    "duration": 532,
    "start_time": "2023-07-10T18:10:28.719Z"
   },
   {
    "duration": 548,
    "start_time": "2023-07-10T18:10:29.254Z"
   },
   {
    "duration": 18,
    "start_time": "2023-07-10T18:10:29.804Z"
   },
   {
    "duration": 82,
    "start_time": "2023-07-10T18:10:29.824Z"
   },
   {
    "duration": 86,
    "start_time": "2023-07-10T18:10:29.907Z"
   },
   {
    "duration": 688,
    "start_time": "2023-07-10T18:10:29.995Z"
   },
   {
    "duration": 102,
    "start_time": "2023-07-10T18:10:30.686Z"
   },
   {
    "duration": 84,
    "start_time": "2023-07-10T18:10:30.791Z"
   },
   {
    "duration": 467,
    "start_time": "2023-07-10T18:10:30.877Z"
   },
   {
    "duration": 57,
    "start_time": "2023-07-10T18:10:31.348Z"
   },
   {
    "duration": 374,
    "start_time": "2023-07-10T18:10:31.408Z"
   },
   {
    "duration": 48,
    "start_time": "2023-07-10T18:10:31.784Z"
   },
   {
    "duration": 29,
    "start_time": "2023-07-10T18:10:32.470Z"
   },
   {
    "duration": 75,
    "start_time": "2023-07-10T18:10:33.567Z"
   },
   {
    "duration": 29,
    "start_time": "2023-07-10T18:10:34.600Z"
   },
   {
    "duration": 20,
    "start_time": "2023-07-10T18:10:34.942Z"
   },
   {
    "duration": 18,
    "start_time": "2023-07-10T18:10:35.840Z"
   },
   {
    "duration": 23,
    "start_time": "2023-07-10T18:10:36.880Z"
   },
   {
    "duration": 25,
    "start_time": "2023-07-10T18:10:37.307Z"
   },
   {
    "duration": 295,
    "start_time": "2023-07-10T18:10:38.191Z"
   },
   {
    "duration": 302,
    "start_time": "2023-07-10T18:10:38.530Z"
   },
   {
    "duration": 45,
    "start_time": "2023-07-10T18:10:38.983Z"
   },
   {
    "duration": 62,
    "start_time": "2023-07-10T18:10:40.273Z"
   },
   {
    "duration": 34,
    "start_time": "2023-07-10T18:12:33.059Z"
   },
   {
    "duration": 347,
    "start_time": "2023-07-10T18:12:33.927Z"
   },
   {
    "duration": 210,
    "start_time": "2023-07-10T18:12:34.444Z"
   },
   {
    "duration": 155,
    "start_time": "2023-07-10T18:12:35.163Z"
   },
   {
    "duration": 51,
    "start_time": "2023-07-10T18:12:35.504Z"
   },
   {
    "duration": 39,
    "start_time": "2023-07-10T18:12:37.025Z"
   },
   {
    "duration": 50,
    "start_time": "2023-07-10T18:12:38.493Z"
   },
   {
    "duration": 11,
    "start_time": "2023-07-10T18:12:38.928Z"
   },
   {
    "duration": 3,
    "start_time": "2023-07-10T18:12:41.527Z"
   },
   {
    "duration": 14,
    "start_time": "2023-07-10T18:12:42.259Z"
   },
   {
    "duration": 114,
    "start_time": "2023-07-10T18:12:42.566Z"
   },
   {
    "duration": 668,
    "start_time": "2023-07-10T18:12:43.345Z"
   },
   {
    "duration": 202,
    "start_time": "2023-07-10T18:12:44.172Z"
   },
   {
    "duration": 530,
    "start_time": "2023-07-10T18:12:44.427Z"
   },
   {
    "duration": 8,
    "start_time": "2023-07-10T18:12:44.964Z"
   },
   {
    "duration": 17,
    "start_time": "2023-07-10T18:12:45.227Z"
   },
   {
    "duration": 142,
    "start_time": "2023-07-10T18:12:46.499Z"
   },
   {
    "duration": 3,
    "start_time": "2023-07-10T18:12:53.786Z"
   },
   {
    "duration": 36301,
    "start_time": "2023-07-10T18:12:54.281Z"
   },
   {
    "duration": 193,
    "start_time": "2023-07-10T18:13:30.584Z"
   },
   {
    "duration": 4,
    "start_time": "2023-07-10T18:13:30.862Z"
   },
   {
    "duration": 6315,
    "start_time": "2023-07-10T18:14:43.411Z"
   },
   {
    "duration": 150,
    "start_time": "2023-07-10T18:16:17.587Z"
   },
   {
    "duration": 142,
    "start_time": "2023-07-10T18:16:48.142Z"
   },
   {
    "duration": 3,
    "start_time": "2023-07-10T18:17:11.735Z"
   },
   {
    "duration": 6087,
    "start_time": "2023-07-10T18:17:16.828Z"
   },
   {
    "duration": 174,
    "start_time": "2023-07-10T18:17:22.917Z"
   },
   {
    "duration": 84,
    "start_time": "2023-07-10T18:17:23.093Z"
   },
   {
    "duration": 3,
    "start_time": "2023-07-10T18:26:01.831Z"
   },
   {
    "duration": 3,
    "start_time": "2023-07-10T18:26:12.854Z"
   },
   {
    "duration": 11,
    "start_time": "2023-07-10T18:27:02.771Z"
   },
   {
    "duration": 4,
    "start_time": "2023-07-10T18:27:08.573Z"
   },
   {
    "duration": 10,
    "start_time": "2023-07-10T18:27:09.133Z"
   },
   {
    "duration": 3630,
    "start_time": "2023-07-10T19:18:24.156Z"
   },
   {
    "duration": 1191,
    "start_time": "2023-07-10T19:18:27.788Z"
   },
   {
    "duration": 18,
    "start_time": "2023-07-10T19:18:28.982Z"
   },
   {
    "duration": 17,
    "start_time": "2023-07-10T19:18:29.002Z"
   },
   {
    "duration": 522,
    "start_time": "2023-07-10T19:18:29.021Z"
   },
   {
    "duration": 584,
    "start_time": "2023-07-10T19:18:29.545Z"
   },
   {
    "duration": 28,
    "start_time": "2023-07-10T19:18:30.131Z"
   },
   {
    "duration": 76,
    "start_time": "2023-07-10T19:18:30.162Z"
   },
   {
    "duration": 102,
    "start_time": "2023-07-10T19:18:30.239Z"
   },
   {
    "duration": 741,
    "start_time": "2023-07-10T19:18:30.343Z"
   },
   {
    "duration": 95,
    "start_time": "2023-07-10T19:18:31.086Z"
   },
   {
    "duration": 71,
    "start_time": "2023-07-10T19:18:31.183Z"
   },
   {
    "duration": 462,
    "start_time": "2023-07-10T19:18:31.257Z"
   },
   {
    "duration": 69,
    "start_time": "2023-07-10T19:18:31.722Z"
   },
   {
    "duration": 351,
    "start_time": "2023-07-10T19:18:31.793Z"
   },
   {
    "duration": 54,
    "start_time": "2023-07-10T19:18:32.146Z"
   },
   {
    "duration": 25,
    "start_time": "2023-07-10T19:18:32.202Z"
   },
   {
    "duration": 101,
    "start_time": "2023-07-10T19:18:32.228Z"
   },
   {
    "duration": 44,
    "start_time": "2023-07-10T19:18:32.331Z"
   },
   {
    "duration": 41,
    "start_time": "2023-07-10T19:18:32.376Z"
   },
   {
    "duration": 30,
    "start_time": "2023-07-10T19:18:32.419Z"
   },
   {
    "duration": 43,
    "start_time": "2023-07-10T19:18:32.451Z"
   },
   {
    "duration": 45,
    "start_time": "2023-07-10T19:18:32.496Z"
   },
   {
    "duration": 304,
    "start_time": "2023-07-10T19:18:32.543Z"
   },
   {
    "duration": 296,
    "start_time": "2023-07-10T19:18:32.849Z"
   },
   {
    "duration": 40,
    "start_time": "2023-07-10T19:18:33.147Z"
   },
   {
    "duration": 1864,
    "start_time": "2023-07-10T20:22:34.104Z"
   },
   {
    "duration": 4760,
    "start_time": "2023-07-10T20:22:37.250Z"
   },
   {
    "duration": 23,
    "start_time": "2023-07-10T20:22:42.012Z"
   },
   {
    "duration": 63,
    "start_time": "2023-07-10T20:22:42.037Z"
   },
   {
    "duration": 705,
    "start_time": "2023-07-10T20:22:42.103Z"
   },
   {
    "duration": 771,
    "start_time": "2023-07-10T20:22:42.809Z"
   },
   {
    "duration": 30,
    "start_time": "2023-07-10T20:22:43.582Z"
   },
   {
    "duration": 92,
    "start_time": "2023-07-10T20:22:43.614Z"
   },
   {
    "duration": 97,
    "start_time": "2023-07-10T20:22:43.708Z"
   },
   {
    "duration": 853,
    "start_time": "2023-07-10T20:22:43.807Z"
   },
   {
    "duration": 109,
    "start_time": "2023-07-10T20:22:44.663Z"
   },
   {
    "duration": 81,
    "start_time": "2023-07-10T20:22:44.773Z"
   },
   {
    "duration": 582,
    "start_time": "2023-07-10T20:22:44.856Z"
   },
   {
    "duration": 68,
    "start_time": "2023-07-10T20:22:45.440Z"
   },
   {
    "duration": 406,
    "start_time": "2023-07-10T20:22:45.514Z"
   },
   {
    "duration": 72,
    "start_time": "2023-07-10T20:22:45.921Z"
   },
   {
    "duration": 35,
    "start_time": "2023-07-10T20:22:45.996Z"
   },
   {
    "duration": 169,
    "start_time": "2023-07-10T20:22:46.067Z"
   },
   {
    "duration": 19,
    "start_time": "2023-07-10T20:22:47.123Z"
   },
   {
    "duration": 38,
    "start_time": "2023-07-10T20:22:47.387Z"
   },
   {
    "duration": 23,
    "start_time": "2023-07-10T20:22:47.739Z"
   },
   {
    "duration": 30,
    "start_time": "2023-07-10T20:22:48.020Z"
   },
   {
    "duration": 47,
    "start_time": "2023-07-10T20:22:48.385Z"
   },
   {
    "duration": 392,
    "start_time": "2023-07-10T20:22:49.119Z"
   },
   {
    "duration": 403,
    "start_time": "2023-07-10T20:22:49.578Z"
   },
   {
    "duration": 60,
    "start_time": "2023-07-10T20:22:50.371Z"
   },
   {
    "duration": 107,
    "start_time": "2023-07-10T20:22:50.543Z"
   },
   {
    "duration": 71,
    "start_time": "2023-07-10T20:22:52.406Z"
   },
   {
    "duration": 119,
    "start_time": "2023-07-10T20:22:53.154Z"
   },
   {
    "duration": 12,
    "start_time": "2023-07-10T20:22:53.735Z"
   },
   {
    "duration": 5,
    "start_time": "2023-07-10T20:22:59.707Z"
   },
   {
    "duration": 16,
    "start_time": "2023-07-10T20:23:00.119Z"
   },
   {
    "duration": 126,
    "start_time": "2023-07-10T20:23:00.514Z"
   },
   {
    "duration": 957,
    "start_time": "2023-07-10T20:23:00.944Z"
   },
   {
    "duration": 196,
    "start_time": "2023-07-10T20:23:02.196Z"
   },
   {
    "duration": 558,
    "start_time": "2023-07-10T20:23:03.801Z"
   },
   {
    "duration": 7,
    "start_time": "2023-07-10T20:23:04.367Z"
   },
   {
    "duration": 27,
    "start_time": "2023-07-10T20:23:04.641Z"
   },
   {
    "duration": 170,
    "start_time": "2023-07-10T20:23:05.497Z"
   },
   {
    "duration": 4,
    "start_time": "2023-07-10T20:23:10.503Z"
   },
   {
    "duration": 4,
    "start_time": "2023-07-10T20:23:13.936Z"
   },
   {
    "duration": 6,
    "start_time": "2023-07-10T20:23:15.998Z"
   },
   {
    "duration": 6,
    "start_time": "2023-07-10T20:23:38.931Z"
   },
   {
    "duration": 4,
    "start_time": "2023-07-10T20:23:48.536Z"
   },
   {
    "duration": 8,
    "start_time": "2023-07-10T20:23:52.552Z"
   },
   {
    "duration": 231,
    "start_time": "2023-07-10T20:23:55.799Z"
   },
   {
    "duration": 2023,
    "start_time": "2023-07-11T09:46:39.629Z"
   },
   {
    "duration": 5079,
    "start_time": "2023-07-11T09:46:44.726Z"
   },
   {
    "duration": 35,
    "start_time": "2023-07-11T09:46:49.807Z"
   },
   {
    "duration": 34,
    "start_time": "2023-07-11T09:46:49.845Z"
   },
   {
    "duration": 920,
    "start_time": "2023-07-11T09:46:49.890Z"
   },
   {
    "duration": 925,
    "start_time": "2023-07-11T09:46:50.813Z"
   },
   {
    "duration": 40,
    "start_time": "2023-07-11T09:47:07.357Z"
   },
   {
    "duration": 141,
    "start_time": "2023-07-11T09:47:08.443Z"
   },
   {
    "duration": 141,
    "start_time": "2023-07-11T09:47:08.914Z"
   },
   {
    "duration": 986,
    "start_time": "2023-07-11T09:47:10.104Z"
   },
   {
    "duration": 95,
    "start_time": "2023-07-11T09:47:11.096Z"
   },
   {
    "duration": 102,
    "start_time": "2023-07-11T09:47:12.029Z"
   },
   {
    "duration": 648,
    "start_time": "2023-07-11T09:47:12.517Z"
   },
   {
    "duration": 108,
    "start_time": "2023-07-11T09:47:17.560Z"
   },
   {
    "duration": 526,
    "start_time": "2023-07-11T09:47:19.424Z"
   },
   {
    "duration": 73,
    "start_time": "2023-07-11T09:47:20.235Z"
   },
   {
    "duration": 34,
    "start_time": "2023-07-11T09:47:21.824Z"
   },
   {
    "duration": 115,
    "start_time": "2023-07-11T09:47:23.131Z"
   },
   {
    "duration": 37,
    "start_time": "2023-07-11T09:47:24.039Z"
   },
   {
    "duration": 33,
    "start_time": "2023-07-11T09:47:24.345Z"
   },
   {
    "duration": 38,
    "start_time": "2023-07-11T09:47:25.067Z"
   },
   {
    "duration": 34,
    "start_time": "2023-07-11T09:47:25.416Z"
   },
   {
    "duration": 36,
    "start_time": "2023-07-11T09:47:25.623Z"
   },
   {
    "duration": 491,
    "start_time": "2023-07-11T09:47:26.126Z"
   },
   {
    "duration": 473,
    "start_time": "2023-07-11T09:47:26.838Z"
   },
   {
    "duration": 49,
    "start_time": "2023-07-11T09:47:27.521Z"
   },
   {
    "duration": 116,
    "start_time": "2023-07-11T09:47:27.948Z"
   },
   {
    "duration": 57,
    "start_time": "2023-07-11T09:47:28.755Z"
   },
   {
    "duration": 115,
    "start_time": "2023-07-11T09:47:29.260Z"
   },
   {
    "duration": 20,
    "start_time": "2023-07-11T09:47:29.747Z"
   },
   {
    "duration": 4,
    "start_time": "2023-07-11T09:47:32.432Z"
   },
   {
    "duration": 19,
    "start_time": "2023-07-11T09:47:32.854Z"
   },
   {
    "duration": 180,
    "start_time": "2023-07-11T09:47:33.514Z"
   },
   {
    "duration": 1229,
    "start_time": "2023-07-11T09:47:33.928Z"
   },
   {
    "duration": 216,
    "start_time": "2023-07-11T09:47:35.160Z"
   },
   {
    "duration": 753,
    "start_time": "2023-07-11T09:47:35.423Z"
   },
   {
    "duration": 7,
    "start_time": "2023-07-11T09:47:36.180Z"
   },
   {
    "duration": 21,
    "start_time": "2023-07-11T09:47:36.307Z"
   },
   {
    "duration": 204,
    "start_time": "2023-07-11T09:47:36.820Z"
   },
   {
    "duration": 4,
    "start_time": "2023-07-11T09:47:38.227Z"
   },
   {
    "duration": 47336,
    "start_time": "2023-07-11T09:47:38.556Z"
   },
   {
    "duration": 206,
    "start_time": "2023-07-11T09:48:25.968Z"
   },
   {
    "duration": 10,
    "start_time": "2023-07-11T09:48:26.180Z"
   },
   {
    "duration": 99890,
    "start_time": "2023-07-11T09:48:26.209Z"
   },
   {
    "duration": 5,
    "start_time": "2023-07-11T09:50:06.102Z"
   },
   {
    "duration": 18,
    "start_time": "2023-07-11T09:50:06.110Z"
   },
   {
    "duration": 309,
    "start_time": "2023-07-11T09:50:06.130Z"
   },
   {
    "duration": 13,
    "start_time": "2023-07-11T09:54:42.997Z"
   },
   {
    "duration": 4,
    "start_time": "2023-07-11T09:58:06.139Z"
   },
   {
    "duration": 1055,
    "start_time": "2023-07-11T09:58:10.160Z"
   },
   {
    "duration": 16,
    "start_time": "2023-07-11T09:58:11.217Z"
   },
   {
    "duration": 23,
    "start_time": "2023-07-11T09:58:12.002Z"
   },
   {
    "duration": 639,
    "start_time": "2023-07-11T09:58:13.061Z"
   },
   {
    "duration": 605,
    "start_time": "2023-07-11T09:58:13.703Z"
   },
   {
    "duration": 23,
    "start_time": "2023-07-11T09:58:14.830Z"
   },
   {
    "duration": 74,
    "start_time": "2023-07-11T09:58:15.612Z"
   },
   {
    "duration": 104,
    "start_time": "2023-07-11T09:58:15.922Z"
   },
   {
    "duration": 468,
    "start_time": "2023-07-11T09:58:16.353Z"
   },
   {
    "duration": 80,
    "start_time": "2023-07-11T09:58:16.940Z"
   },
   {
    "duration": 85,
    "start_time": "2023-07-11T09:58:17.456Z"
   },
   {
    "duration": 472,
    "start_time": "2023-07-11T09:58:17.653Z"
   },
   {
    "duration": 74,
    "start_time": "2023-07-11T09:58:18.129Z"
   },
   {
    "duration": 505,
    "start_time": "2023-07-11T09:58:18.938Z"
   },
   {
    "duration": 61,
    "start_time": "2023-07-11T09:58:19.533Z"
   },
   {
    "duration": 38,
    "start_time": "2023-07-11T09:58:20.405Z"
   },
   {
    "duration": 118,
    "start_time": "2023-07-11T09:58:21.356Z"
   },
   {
    "duration": 27,
    "start_time": "2023-07-11T09:58:22.032Z"
   },
   {
    "duration": 34,
    "start_time": "2023-07-11T09:58:22.308Z"
   },
   {
    "duration": 27,
    "start_time": "2023-07-11T09:58:22.804Z"
   },
   {
    "duration": 33,
    "start_time": "2023-07-11T09:58:23.020Z"
   },
   {
    "duration": 50,
    "start_time": "2023-07-11T09:58:23.309Z"
   },
   {
    "duration": 481,
    "start_time": "2023-07-11T09:58:23.854Z"
   },
   {
    "duration": 546,
    "start_time": "2023-07-11T09:58:24.338Z"
   },
   {
    "duration": 51,
    "start_time": "2023-07-11T09:58:24.888Z"
   },
   {
    "duration": 88,
    "start_time": "2023-07-11T09:58:24.942Z"
   },
   {
    "duration": 46,
    "start_time": "2023-07-11T09:58:25.408Z"
   },
   {
    "duration": 58,
    "start_time": "2023-07-11T09:58:26.312Z"
   },
   {
    "duration": 17,
    "start_time": "2023-07-11T09:58:26.610Z"
   },
   {
    "duration": 4,
    "start_time": "2023-07-11T09:58:30.019Z"
   },
   {
    "duration": 18,
    "start_time": "2023-07-11T09:58:30.427Z"
   },
   {
    "duration": 147,
    "start_time": "2023-07-11T09:58:30.719Z"
   },
   {
    "duration": 1263,
    "start_time": "2023-07-11T09:58:31.032Z"
   },
   {
    "duration": 219,
    "start_time": "2023-07-11T09:58:32.340Z"
   },
   {
    "duration": 717,
    "start_time": "2023-07-11T09:58:33.215Z"
   },
   {
    "duration": 5,
    "start_time": "2023-07-11T09:58:33.988Z"
   },
   {
    "duration": 19,
    "start_time": "2023-07-11T09:58:34.620Z"
   },
   {
    "duration": 202,
    "start_time": "2023-07-11T09:58:36.092Z"
   },
   {
    "duration": 4,
    "start_time": "2023-07-11T09:58:41.921Z"
   },
   {
    "duration": 4,
    "start_time": "2023-07-11T09:58:44.640Z"
   },
   {
    "duration": 6,
    "start_time": "2023-07-11T09:58:46.504Z"
   },
   {
    "duration": 4,
    "start_time": "2023-07-11T10:00:18.221Z"
   },
   {
    "duration": 3,
    "start_time": "2023-07-11T10:00:50.516Z"
   },
   {
    "duration": 4,
    "start_time": "2023-07-11T10:00:56.740Z"
   },
   {
    "duration": 8,
    "start_time": "2023-07-11T10:00:57.908Z"
   },
   {
    "duration": 9,
    "start_time": "2023-07-11T10:01:36.380Z"
   },
   {
    "duration": 3,
    "start_time": "2023-07-11T10:03:15.147Z"
   },
   {
    "duration": 3,
    "start_time": "2023-07-11T10:03:15.828Z"
   },
   {
    "duration": 5,
    "start_time": "2023-07-11T10:03:18.446Z"
   },
   {
    "duration": 11,
    "start_time": "2023-07-11T10:03:19.963Z"
   },
   {
    "duration": 2,
    "start_time": "2023-07-11T10:03:21.250Z"
   },
   {
    "duration": 23,
    "start_time": "2023-07-11T10:05:52.168Z"
   },
   {
    "duration": 2324,
    "start_time": "2023-07-11T10:05:56.888Z"
   },
   {
    "duration": 56,
    "start_time": "2023-07-11T10:05:59.215Z"
   },
   {
    "duration": 47,
    "start_time": "2023-07-11T10:05:59.274Z"
   },
   {
    "duration": 1370,
    "start_time": "2023-07-11T10:05:59.324Z"
   },
   {
    "duration": 1450,
    "start_time": "2023-07-11T10:06:00.698Z"
   },
   {
    "duration": 61,
    "start_time": "2023-07-11T10:06:02.167Z"
   },
   {
    "duration": 302,
    "start_time": "2023-07-11T10:06:02.239Z"
   },
   {
    "duration": 176,
    "start_time": "2023-07-11T10:06:02.543Z"
   },
   {
    "duration": 1014,
    "start_time": "2023-07-11T10:06:02.724Z"
   },
   {
    "duration": 181,
    "start_time": "2023-07-11T10:06:04.557Z"
   },
   {
    "duration": 226,
    "start_time": "2023-07-11T10:06:05.277Z"
   },
   {
    "duration": 1013,
    "start_time": "2023-07-11T10:06:05.506Z"
   },
   {
    "duration": 143,
    "start_time": "2023-07-11T10:06:06.522Z"
   },
   {
    "duration": 967,
    "start_time": "2023-07-11T10:06:06.688Z"
   },
   {
    "duration": 107,
    "start_time": "2023-07-11T10:06:07.668Z"
   },
   {
    "duration": 88,
    "start_time": "2023-07-11T10:06:08.549Z"
   },
   {
    "duration": 257,
    "start_time": "2023-07-11T10:06:09.515Z"
   },
   {
    "duration": 77,
    "start_time": "2023-07-11T10:06:10.154Z"
   },
   {
    "duration": 79,
    "start_time": "2023-07-11T10:06:10.508Z"
   },
   {
    "duration": 67,
    "start_time": "2023-07-11T10:06:11.060Z"
   },
   {
    "duration": 80,
    "start_time": "2023-07-11T10:06:11.337Z"
   },
   {
    "duration": 71,
    "start_time": "2023-07-11T10:06:11.621Z"
   },
   {
    "duration": 910,
    "start_time": "2023-07-11T10:06:12.242Z"
   },
   {
    "duration": 839,
    "start_time": "2023-07-11T10:06:13.172Z"
   },
   {
    "duration": 91,
    "start_time": "2023-07-11T10:06:14.018Z"
   },
   {
    "duration": 162,
    "start_time": "2023-07-11T10:06:14.113Z"
   },
   {
    "duration": 165,
    "start_time": "2023-07-11T10:06:14.277Z"
   },
   {
    "duration": 171,
    "start_time": "2023-07-11T10:06:14.445Z"
   },
   {
    "duration": 44,
    "start_time": "2023-07-11T10:06:14.632Z"
   },
   {
    "duration": 7,
    "start_time": "2023-07-11T10:06:17.539Z"
   },
   {
    "duration": 46,
    "start_time": "2023-07-11T10:06:17.788Z"
   },
   {
    "duration": 470,
    "start_time": "2023-07-11T10:06:18.069Z"
   },
   {
    "duration": 2819,
    "start_time": "2023-07-11T10:06:18.569Z"
   },
   {
    "duration": 390,
    "start_time": "2023-07-11T10:06:21.392Z"
   },
   {
    "duration": 1393,
    "start_time": "2023-07-11T10:06:21.785Z"
   },
   {
    "duration": 9,
    "start_time": "2023-07-11T10:06:23.196Z"
   },
   {
    "duration": 68,
    "start_time": "2023-07-11T10:06:23.214Z"
   },
   {
    "duration": 415,
    "start_time": "2023-07-11T10:06:23.287Z"
   },
   {
    "duration": 7,
    "start_time": "2023-07-11T10:06:25.520Z"
   },
   {
    "duration": 8,
    "start_time": "2023-07-11T10:06:28.072Z"
   },
   {
    "duration": 17,
    "start_time": "2023-07-11T10:06:28.910Z"
   },
   {
    "duration": 3169,
    "start_time": "2023-07-11T10:08:54.020Z"
   },
   {
    "duration": 2832,
    "start_time": "2023-07-11T10:08:58.212Z"
   },
   {
    "duration": 38,
    "start_time": "2023-07-11T10:09:01.092Z"
   },
   {
    "duration": 31,
    "start_time": "2023-07-11T10:09:01.174Z"
   },
   {
    "duration": 1387,
    "start_time": "2023-07-11T10:09:01.208Z"
   },
   {
    "duration": 1720,
    "start_time": "2023-07-11T10:09:02.599Z"
   },
   {
    "duration": 80,
    "start_time": "2023-07-11T10:09:04.327Z"
   },
   {
    "duration": 303,
    "start_time": "2023-07-11T10:09:04.412Z"
   },
   {
    "duration": 252,
    "start_time": "2023-07-11T10:09:04.718Z"
   },
   {
    "duration": 1511,
    "start_time": "2023-07-11T10:09:04.975Z"
   },
   {
    "duration": 205,
    "start_time": "2023-07-11T10:09:06.489Z"
   },
   {
    "duration": 193,
    "start_time": "2023-07-11T10:09:06.700Z"
   },
   {
    "duration": 992,
    "start_time": "2023-07-11T10:09:06.895Z"
   },
   {
    "duration": 128,
    "start_time": "2023-07-11T10:09:07.896Z"
   },
   {
    "duration": 1152,
    "start_time": "2023-07-11T10:09:08.072Z"
   },
   {
    "duration": 150,
    "start_time": "2023-07-11T10:09:09.225Z"
   },
   {
    "duration": 55,
    "start_time": "2023-07-11T10:09:09.378Z"
   },
   {
    "duration": 211,
    "start_time": "2023-07-11T10:09:09.468Z"
   },
   {
    "duration": 59,
    "start_time": "2023-07-11T10:09:09.682Z"
   },
   {
    "duration": 61,
    "start_time": "2023-07-11T10:09:09.743Z"
   },
   {
    "duration": 89,
    "start_time": "2023-07-11T10:09:09.814Z"
   },
   {
    "duration": 82,
    "start_time": "2023-07-11T10:09:09.909Z"
   },
   {
    "duration": 93,
    "start_time": "2023-07-11T10:09:10.002Z"
   },
   {
    "duration": 809,
    "start_time": "2023-07-11T10:09:10.113Z"
   },
   {
    "duration": 887,
    "start_time": "2023-07-11T10:09:10.928Z"
   },
   {
    "duration": 88,
    "start_time": "2023-07-11T10:09:11.819Z"
   },
   {
    "duration": 164,
    "start_time": "2023-07-11T10:09:11.911Z"
   },
   {
    "duration": 101,
    "start_time": "2023-07-11T10:09:12.078Z"
   },
   {
    "duration": 156,
    "start_time": "2023-07-11T10:09:13.528Z"
   },
   {
    "duration": 36,
    "start_time": "2023-07-11T10:09:14.489Z"
   },
   {
    "duration": 4,
    "start_time": "2023-07-11T10:09:21.964Z"
   },
   {
    "duration": 23,
    "start_time": "2023-07-11T10:09:22.808Z"
   },
   {
    "duration": 389,
    "start_time": "2023-07-11T10:09:23.323Z"
   },
   {
    "duration": 2475,
    "start_time": "2023-07-11T10:09:24.032Z"
   },
   {
    "duration": 470,
    "start_time": "2023-07-11T10:09:26.510Z"
   },
   {
    "duration": 1606,
    "start_time": "2023-07-11T10:09:26.994Z"
   },
   {
    "duration": 8,
    "start_time": "2023-07-11T10:09:28.614Z"
   },
   {
    "duration": 65,
    "start_time": "2023-07-11T10:09:28.627Z"
   },
   {
    "duration": 432,
    "start_time": "2023-07-11T10:09:28.694Z"
   },
   {
    "duration": 18,
    "start_time": "2023-07-11T10:09:38.353Z"
   },
   {
    "duration": 8,
    "start_time": "2023-07-11T10:09:41.109Z"
   },
   {
    "duration": 5,
    "start_time": "2023-07-11T10:09:43.042Z"
   },
   {
    "duration": 14,
    "start_time": "2023-07-11T10:09:57.874Z"
   },
   {
    "duration": 5,
    "start_time": "2023-07-11T10:10:06.772Z"
   },
   {
    "duration": 152398,
    "start_time": "2023-07-11T10:10:07.580Z"
   },
   {
    "duration": 191,
    "start_time": "2023-07-11T10:12:39.982Z"
   },
   {
    "duration": 37300,
    "start_time": "2023-07-11T10:13:15.987Z"
   },
   {
    "duration": 830,
    "start_time": "2023-07-11T10:13:53.289Z"
   },
   {
    "duration": 49,
    "start_time": "2023-07-11T10:15:33.423Z"
   },
   {
    "duration": 96,
    "start_time": "2023-07-11T10:15:34.972Z"
   },
   {
    "duration": 944,
    "start_time": "2023-07-11T10:15:59.755Z"
   },
   {
    "duration": 105,
    "start_time": "2023-07-11T10:16:23.221Z"
   },
   {
    "duration": 1273,
    "start_time": "2023-08-04T11:58:25.567Z"
   },
   {
    "duration": 2,
    "start_time": "2023-08-04T11:58:32.426Z"
   },
   {
    "duration": 15,
    "start_time": "2023-08-04T11:58:33.233Z"
   },
   {
    "duration": 1214,
    "start_time": "2023-08-05T17:48:58.871Z"
   },
   {
    "duration": 963,
    "start_time": "2023-08-05T17:49:00.087Z"
   },
   {
    "duration": 18,
    "start_time": "2023-08-05T17:49:01.051Z"
   },
   {
    "duration": 19,
    "start_time": "2023-08-05T17:49:01.072Z"
   },
   {
    "duration": 438,
    "start_time": "2023-08-05T17:49:01.093Z"
   },
   {
    "duration": 457,
    "start_time": "2023-08-05T17:49:01.532Z"
   },
   {
    "duration": 16,
    "start_time": "2023-08-05T17:49:01.991Z"
   },
   {
    "duration": 80,
    "start_time": "2023-08-05T17:49:02.009Z"
   },
   {
    "duration": 81,
    "start_time": "2023-08-05T17:49:02.091Z"
   },
   {
    "duration": 421,
    "start_time": "2023-08-05T17:49:02.174Z"
   },
   {
    "duration": 60,
    "start_time": "2023-08-05T17:49:02.596Z"
   },
   {
    "duration": 52,
    "start_time": "2023-08-05T17:49:02.658Z"
   },
   {
    "duration": 275,
    "start_time": "2023-08-05T17:49:02.711Z"
   },
   {
    "duration": 51,
    "start_time": "2023-08-05T17:49:02.988Z"
   },
   {
    "duration": 341,
    "start_time": "2023-08-05T17:49:03.041Z"
   },
   {
    "duration": 37,
    "start_time": "2023-08-05T17:49:03.384Z"
   },
   {
    "duration": 31,
    "start_time": "2023-08-05T17:49:03.423Z"
   },
   {
    "duration": 59,
    "start_time": "2023-08-05T17:49:03.456Z"
   },
   {
    "duration": 24,
    "start_time": "2023-08-05T17:49:03.517Z"
   },
   {
    "duration": 15,
    "start_time": "2023-08-05T17:49:03.543Z"
   },
   {
    "duration": 21,
    "start_time": "2023-08-05T17:49:03.560Z"
   },
   {
    "duration": 21,
    "start_time": "2023-08-05T17:49:03.583Z"
   },
   {
    "duration": 40,
    "start_time": "2023-08-05T17:49:03.606Z"
   },
   {
    "duration": 321,
    "start_time": "2023-08-05T17:49:03.649Z"
   },
   {
    "duration": 244,
    "start_time": "2023-08-05T17:49:03.972Z"
   },
   {
    "duration": 30,
    "start_time": "2023-08-05T17:49:04.217Z"
   },
   {
    "duration": 50,
    "start_time": "2023-08-05T17:49:04.249Z"
   },
   {
    "duration": 48,
    "start_time": "2023-08-05T17:49:04.303Z"
   },
   {
    "duration": 46,
    "start_time": "2023-08-05T17:49:04.352Z"
   },
   {
    "duration": 10,
    "start_time": "2023-08-05T17:49:04.399Z"
   },
   {
    "duration": 10,
    "start_time": "2023-08-05T17:49:04.410Z"
   },
   {
    "duration": 30,
    "start_time": "2023-08-05T17:49:04.421Z"
   },
   {
    "duration": 90,
    "start_time": "2023-08-05T17:49:04.453Z"
   },
   {
    "duration": 422,
    "start_time": "2023-08-05T17:49:04.546Z"
   },
   {
    "duration": 136,
    "start_time": "2023-08-05T17:49:04.970Z"
   },
   {
    "duration": 351,
    "start_time": "2023-08-05T17:49:05.107Z"
   },
   {
    "duration": 3,
    "start_time": "2023-08-05T17:49:05.460Z"
   },
   {
    "duration": 21,
    "start_time": "2023-08-05T17:49:05.464Z"
   },
   {
    "duration": 120,
    "start_time": "2023-08-05T17:49:05.487Z"
   },
   {
    "duration": 3,
    "start_time": "2023-08-05T17:49:05.609Z"
   },
   {
    "duration": 12128,
    "start_time": "2023-08-05T17:49:05.614Z"
   },
   {
    "duration": 197,
    "start_time": "2023-08-05T17:49:17.744Z"
   },
   {
    "duration": 95,
    "start_time": "2023-08-05T17:49:17.943Z"
   },
   {
    "duration": 56326,
    "start_time": "2023-08-05T17:49:18.039Z"
   },
   {
    "duration": 3899,
    "start_time": "2023-08-05T17:50:14.366Z"
   },
   {
    "duration": 111,
    "start_time": "2023-08-05T17:50:18.267Z"
   },
   {
    "duration": 94,
    "start_time": "2023-08-05T17:50:18.379Z"
   },
   {
    "duration": 2,
    "start_time": "2023-08-05T17:50:18.475Z"
   },
   {
    "duration": 121147,
    "start_time": "2023-08-05T17:50:18.479Z"
   },
   {
    "duration": 334,
    "start_time": "2023-08-05T17:52:19.627Z"
   },
   {
    "duration": 2,
    "start_time": "2023-08-05T17:52:19.963Z"
   },
   {
    "duration": 104,
    "start_time": "2023-08-05T17:52:19.966Z"
   },
   {
    "duration": 3973,
    "start_time": "2023-08-05T17:52:20.072Z"
   },
   {
    "duration": 594,
    "start_time": "2023-08-05T17:52:24.053Z"
   },
   {
    "duration": 91,
    "start_time": "2023-08-05T17:52:24.648Z"
   },
   {
    "duration": 58,
    "start_time": "2023-08-05T17:52:24.740Z"
   },
   {
    "duration": 131,
    "start_time": "2023-08-05T17:52:24.799Z"
   },
   {
    "duration": 8,
    "start_time": "2023-08-05T17:52:24.932Z"
   }
  ],
  "kernelspec": {
   "display_name": "Python 3 (ipykernel)",
   "language": "python",
   "name": "python3"
  },
  "language_info": {
   "codemirror_mode": {
    "name": "ipython",
    "version": 3
   },
   "file_extension": ".py",
   "mimetype": "text/x-python",
   "name": "python",
   "nbconvert_exporter": "python",
   "pygments_lexer": "ipython3",
   "version": "3.9.13"
  },
  "toc": {
   "base_numbering": 1,
   "nav_menu": {},
   "number_sections": true,
   "sideBar": true,
   "skip_h1_title": true,
   "title_cell": "Table of Contents",
   "title_sidebar": "Contents",
   "toc_cell": false,
   "toc_position": {},
   "toc_section_display": true,
   "toc_window_display": false
  }
 },
 "nbformat": 4,
 "nbformat_minor": 2
}
