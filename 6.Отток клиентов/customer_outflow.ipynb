{
 "cells": [
  {
   "cell_type": "markdown",
   "metadata": {
    "toc": true
   },
   "source": [
    "<h1>Содержание<span class=\"tocSkip\"></span></h1>\n",
    "<div class=\"toc\"><ul class=\"toc-item\"><li><span><a href=\"#Подготовка-данных\" data-toc-modified-id=\"Подготовка-данных-1\"><span class=\"toc-item-num\">1&nbsp;&nbsp;</span>Подготовка данных</a></span></li><li><span><a href=\"#Исследование-задачи\" data-toc-modified-id=\"Исследование-задачи-2\"><span class=\"toc-item-num\">2&nbsp;&nbsp;</span>Исследование задачи</a></span></li><li><span><a href=\"#Борьба-с-дисбалансом\" data-toc-modified-id=\"Борьба-с-дисбалансом-3\"><span class=\"toc-item-num\">3&nbsp;&nbsp;</span>Борьба с дисбалансом</a></span></li><li><span><a href=\"#Тестирование-модели\" data-toc-modified-id=\"Тестирование-модели-4\"><span class=\"toc-item-num\">4&nbsp;&nbsp;</span>Тестирование модели</a></span></li><li><span><a href=\"#Чек-лист-готовности-проекта\" data-toc-modified-id=\"Чек-лист-готовности-проекта-5\"><span class=\"toc-item-num\">5&nbsp;&nbsp;</span>Чек-лист готовности проекта</a></span></li></ul></div>"
   ]
  },
  {
   "cell_type": "markdown",
   "metadata": {},
   "source": [
    "# Отток клиентов"
   ]
  },
  {
   "cell_type": "markdown",
   "metadata": {},
   "source": [
    "Из «Бета-Банка» стали уходить клиенты. Каждый месяц. Немного, но заметно. Банковские маркетологи посчитали: сохранять текущих клиентов дешевле, чем привлекать новых.\n",
    "\n",
    "Нужно спрогнозировать, уйдёт клиент из банка в ближайшее время или нет. Вам предоставлены исторические данные о поведении клиентов и расторжении договоров с банком. \n",
    "\n",
    "Постройте модель с предельно большим значением *F1*-меры. Чтобы сдать проект успешно, нужно довести метрику до 0.59. Проверьте *F1*-меру на тестовой выборке самостоятельно.\n",
    "\n",
    "Дополнительно измеряйте *AUC-ROC*, сравнивайте её значение с *F1*-мерой.\n",
    "\n",
    "Источник данных: [https://www.kaggle.com/barelydedicated/bank-customer-churn-modeling](https://www.kaggle.com/barelydedicated/bank-customer-churn-modeling)"
   ]
  },
  {
   "cell_type": "markdown",
   "metadata": {},
   "source": [
    "## Подготовка данных"
   ]
  },
  {
   "cell_type": "code",
   "execution_count": 62,
   "metadata": {},
   "outputs": [],
   "source": [
    "import pandas as pd\n",
    "import numpy as np\n",
    "import re\n",
    "import matplotlib.pyplot as plt\n",
    "\n",
    "from sklearn.model_selection import train_test_split\n",
    "from sklearn.preprocessing import StandardScaler\n",
    "from sklearn.dummy import DummyClassifier\n",
    "from sklearn.linear_model import LogisticRegression\n",
    "from sklearn.tree import DecisionTreeClassifier\n",
    "from sklearn.ensemble import RandomForestClassifier\n",
    "from sklearn.tree import DecisionTreeRegressor\n",
    "from sklearn.ensemble import RandomForestRegressor\n",
    "from sklearn.metrics import (\n",
    "    f1_score, \n",
    "    recall_score, \n",
    "    precision_score, \n",
    "    plot_confusion_matrix, \n",
    "    roc_curve, \n",
    "    roc_auc_score,\n",
    "    accuracy_score\n",
    ")\n",
    "from sklearn.utils import shuffle"
   ]
  },
  {
   "cell_type": "code",
   "execution_count": 2,
   "metadata": {},
   "outputs": [],
   "source": [
    "df = pd.read_csv('https://code.s3.yandex.net/datasets/Churn.csv')"
   ]
  },
  {
   "cell_type": "code",
   "execution_count": 3,
   "metadata": {
    "scrolled": false
   },
   "outputs": [
    {
     "data": {
      "text/html": [
       "<div>\n",
       "<style scoped>\n",
       "    .dataframe tbody tr th:only-of-type {\n",
       "        vertical-align: middle;\n",
       "    }\n",
       "\n",
       "    .dataframe tbody tr th {\n",
       "        vertical-align: top;\n",
       "    }\n",
       "\n",
       "    .dataframe thead th {\n",
       "        text-align: right;\n",
       "    }\n",
       "</style>\n",
       "<table border=\"1\" class=\"dataframe\">\n",
       "  <thead>\n",
       "    <tr style=\"text-align: right;\">\n",
       "      <th></th>\n",
       "      <th>RowNumber</th>\n",
       "      <th>CustomerId</th>\n",
       "      <th>Surname</th>\n",
       "      <th>CreditScore</th>\n",
       "      <th>Geography</th>\n",
       "      <th>Gender</th>\n",
       "      <th>Age</th>\n",
       "      <th>Tenure</th>\n",
       "      <th>Balance</th>\n",
       "      <th>NumOfProducts</th>\n",
       "      <th>HasCrCard</th>\n",
       "      <th>IsActiveMember</th>\n",
       "      <th>EstimatedSalary</th>\n",
       "      <th>Exited</th>\n",
       "    </tr>\n",
       "  </thead>\n",
       "  <tbody>\n",
       "    <tr>\n",
       "      <th>0</th>\n",
       "      <td>1</td>\n",
       "      <td>15634602</td>\n",
       "      <td>Hargrave</td>\n",
       "      <td>619</td>\n",
       "      <td>France</td>\n",
       "      <td>Female</td>\n",
       "      <td>42</td>\n",
       "      <td>2.0</td>\n",
       "      <td>0.00</td>\n",
       "      <td>1</td>\n",
       "      <td>1</td>\n",
       "      <td>1</td>\n",
       "      <td>101348.88</td>\n",
       "      <td>1</td>\n",
       "    </tr>\n",
       "    <tr>\n",
       "      <th>1</th>\n",
       "      <td>2</td>\n",
       "      <td>15647311</td>\n",
       "      <td>Hill</td>\n",
       "      <td>608</td>\n",
       "      <td>Spain</td>\n",
       "      <td>Female</td>\n",
       "      <td>41</td>\n",
       "      <td>1.0</td>\n",
       "      <td>83807.86</td>\n",
       "      <td>1</td>\n",
       "      <td>0</td>\n",
       "      <td>1</td>\n",
       "      <td>112542.58</td>\n",
       "      <td>0</td>\n",
       "    </tr>\n",
       "    <tr>\n",
       "      <th>2</th>\n",
       "      <td>3</td>\n",
       "      <td>15619304</td>\n",
       "      <td>Onio</td>\n",
       "      <td>502</td>\n",
       "      <td>France</td>\n",
       "      <td>Female</td>\n",
       "      <td>42</td>\n",
       "      <td>8.0</td>\n",
       "      <td>159660.80</td>\n",
       "      <td>3</td>\n",
       "      <td>1</td>\n",
       "      <td>0</td>\n",
       "      <td>113931.57</td>\n",
       "      <td>1</td>\n",
       "    </tr>\n",
       "    <tr>\n",
       "      <th>3</th>\n",
       "      <td>4</td>\n",
       "      <td>15701354</td>\n",
       "      <td>Boni</td>\n",
       "      <td>699</td>\n",
       "      <td>France</td>\n",
       "      <td>Female</td>\n",
       "      <td>39</td>\n",
       "      <td>1.0</td>\n",
       "      <td>0.00</td>\n",
       "      <td>2</td>\n",
       "      <td>0</td>\n",
       "      <td>0</td>\n",
       "      <td>93826.63</td>\n",
       "      <td>0</td>\n",
       "    </tr>\n",
       "    <tr>\n",
       "      <th>4</th>\n",
       "      <td>5</td>\n",
       "      <td>15737888</td>\n",
       "      <td>Mitchell</td>\n",
       "      <td>850</td>\n",
       "      <td>Spain</td>\n",
       "      <td>Female</td>\n",
       "      <td>43</td>\n",
       "      <td>2.0</td>\n",
       "      <td>125510.82</td>\n",
       "      <td>1</td>\n",
       "      <td>1</td>\n",
       "      <td>1</td>\n",
       "      <td>79084.10</td>\n",
       "      <td>0</td>\n",
       "    </tr>\n",
       "    <tr>\n",
       "      <th>5</th>\n",
       "      <td>6</td>\n",
       "      <td>15574012</td>\n",
       "      <td>Chu</td>\n",
       "      <td>645</td>\n",
       "      <td>Spain</td>\n",
       "      <td>Male</td>\n",
       "      <td>44</td>\n",
       "      <td>8.0</td>\n",
       "      <td>113755.78</td>\n",
       "      <td>2</td>\n",
       "      <td>1</td>\n",
       "      <td>0</td>\n",
       "      <td>149756.71</td>\n",
       "      <td>1</td>\n",
       "    </tr>\n",
       "    <tr>\n",
       "      <th>6</th>\n",
       "      <td>7</td>\n",
       "      <td>15592531</td>\n",
       "      <td>Bartlett</td>\n",
       "      <td>822</td>\n",
       "      <td>France</td>\n",
       "      <td>Male</td>\n",
       "      <td>50</td>\n",
       "      <td>7.0</td>\n",
       "      <td>0.00</td>\n",
       "      <td>2</td>\n",
       "      <td>1</td>\n",
       "      <td>1</td>\n",
       "      <td>10062.80</td>\n",
       "      <td>0</td>\n",
       "    </tr>\n",
       "    <tr>\n",
       "      <th>7</th>\n",
       "      <td>8</td>\n",
       "      <td>15656148</td>\n",
       "      <td>Obinna</td>\n",
       "      <td>376</td>\n",
       "      <td>Germany</td>\n",
       "      <td>Female</td>\n",
       "      <td>29</td>\n",
       "      <td>4.0</td>\n",
       "      <td>115046.74</td>\n",
       "      <td>4</td>\n",
       "      <td>1</td>\n",
       "      <td>0</td>\n",
       "      <td>119346.88</td>\n",
       "      <td>1</td>\n",
       "    </tr>\n",
       "    <tr>\n",
       "      <th>8</th>\n",
       "      <td>9</td>\n",
       "      <td>15792365</td>\n",
       "      <td>He</td>\n",
       "      <td>501</td>\n",
       "      <td>France</td>\n",
       "      <td>Male</td>\n",
       "      <td>44</td>\n",
       "      <td>4.0</td>\n",
       "      <td>142051.07</td>\n",
       "      <td>2</td>\n",
       "      <td>0</td>\n",
       "      <td>1</td>\n",
       "      <td>74940.50</td>\n",
       "      <td>0</td>\n",
       "    </tr>\n",
       "    <tr>\n",
       "      <th>9</th>\n",
       "      <td>10</td>\n",
       "      <td>15592389</td>\n",
       "      <td>H?</td>\n",
       "      <td>684</td>\n",
       "      <td>France</td>\n",
       "      <td>Male</td>\n",
       "      <td>27</td>\n",
       "      <td>2.0</td>\n",
       "      <td>134603.88</td>\n",
       "      <td>1</td>\n",
       "      <td>1</td>\n",
       "      <td>1</td>\n",
       "      <td>71725.73</td>\n",
       "      <td>0</td>\n",
       "    </tr>\n",
       "  </tbody>\n",
       "</table>\n",
       "</div>"
      ],
      "text/plain": [
       "   RowNumber  CustomerId   Surname  CreditScore Geography  Gender  Age  \\\n",
       "0          1    15634602  Hargrave          619    France  Female   42   \n",
       "1          2    15647311      Hill          608     Spain  Female   41   \n",
       "2          3    15619304      Onio          502    France  Female   42   \n",
       "3          4    15701354      Boni          699    France  Female   39   \n",
       "4          5    15737888  Mitchell          850     Spain  Female   43   \n",
       "5          6    15574012       Chu          645     Spain    Male   44   \n",
       "6          7    15592531  Bartlett          822    France    Male   50   \n",
       "7          8    15656148    Obinna          376   Germany  Female   29   \n",
       "8          9    15792365        He          501    France    Male   44   \n",
       "9         10    15592389        H?          684    France    Male   27   \n",
       "\n",
       "   Tenure    Balance  NumOfProducts  HasCrCard  IsActiveMember  \\\n",
       "0     2.0       0.00              1          1               1   \n",
       "1     1.0   83807.86              1          0               1   \n",
       "2     8.0  159660.80              3          1               0   \n",
       "3     1.0       0.00              2          0               0   \n",
       "4     2.0  125510.82              1          1               1   \n",
       "5     8.0  113755.78              2          1               0   \n",
       "6     7.0       0.00              2          1               1   \n",
       "7     4.0  115046.74              4          1               0   \n",
       "8     4.0  142051.07              2          0               1   \n",
       "9     2.0  134603.88              1          1               1   \n",
       "\n",
       "   EstimatedSalary  Exited  \n",
       "0        101348.88       1  \n",
       "1        112542.58       0  \n",
       "2        113931.57       1  \n",
       "3         93826.63       0  \n",
       "4         79084.10       0  \n",
       "5        149756.71       1  \n",
       "6         10062.80       0  \n",
       "7        119346.88       1  \n",
       "8         74940.50       0  \n",
       "9         71725.73       0  "
      ]
     },
     "execution_count": 3,
     "metadata": {},
     "output_type": "execute_result"
    }
   ],
   "source": [
    "df.head(10)"
   ]
  },
  {
   "cell_type": "markdown",
   "metadata": {},
   "source": [
    "Исследуем данные таблицы."
   ]
  },
  {
   "cell_type": "code",
   "execution_count": 4,
   "metadata": {},
   "outputs": [
    {
     "name": "stdout",
     "output_type": "stream",
     "text": [
      "<class 'pandas.core.frame.DataFrame'>\n",
      "RangeIndex: 10000 entries, 0 to 9999\n",
      "Data columns (total 14 columns):\n",
      " #   Column           Non-Null Count  Dtype  \n",
      "---  ------           --------------  -----  \n",
      " 0   RowNumber        10000 non-null  int64  \n",
      " 1   CustomerId       10000 non-null  int64  \n",
      " 2   Surname          10000 non-null  object \n",
      " 3   CreditScore      10000 non-null  int64  \n",
      " 4   Geography        10000 non-null  object \n",
      " 5   Gender           10000 non-null  object \n",
      " 6   Age              10000 non-null  int64  \n",
      " 7   Tenure           9091 non-null   float64\n",
      " 8   Balance          10000 non-null  float64\n",
      " 9   NumOfProducts    10000 non-null  int64  \n",
      " 10  HasCrCard        10000 non-null  int64  \n",
      " 11  IsActiveMember   10000 non-null  int64  \n",
      " 12  EstimatedSalary  10000 non-null  float64\n",
      " 13  Exited           10000 non-null  int64  \n",
      "dtypes: float64(3), int64(8), object(3)\n",
      "memory usage: 1.1+ MB\n"
     ]
    }
   ],
   "source": [
    "df.info()"
   ]
  },
  {
   "cell_type": "code",
   "execution_count": 5,
   "metadata": {
    "scrolled": false
   },
   "outputs": [
    {
     "data": {
      "text/html": [
       "<div>\n",
       "<style scoped>\n",
       "    .dataframe tbody tr th:only-of-type {\n",
       "        vertical-align: middle;\n",
       "    }\n",
       "\n",
       "    .dataframe tbody tr th {\n",
       "        vertical-align: top;\n",
       "    }\n",
       "\n",
       "    .dataframe thead th {\n",
       "        text-align: right;\n",
       "    }\n",
       "</style>\n",
       "<table border=\"1\" class=\"dataframe\">\n",
       "  <thead>\n",
       "    <tr style=\"text-align: right;\">\n",
       "      <th></th>\n",
       "      <th>RowNumber</th>\n",
       "      <th>CustomerId</th>\n",
       "      <th>CreditScore</th>\n",
       "      <th>Age</th>\n",
       "      <th>Tenure</th>\n",
       "      <th>Balance</th>\n",
       "      <th>NumOfProducts</th>\n",
       "      <th>HasCrCard</th>\n",
       "      <th>IsActiveMember</th>\n",
       "      <th>EstimatedSalary</th>\n",
       "      <th>Exited</th>\n",
       "    </tr>\n",
       "  </thead>\n",
       "  <tbody>\n",
       "    <tr>\n",
       "      <th>count</th>\n",
       "      <td>10000.00000</td>\n",
       "      <td>1.000000e+04</td>\n",
       "      <td>10000.000000</td>\n",
       "      <td>10000.000000</td>\n",
       "      <td>9091.000000</td>\n",
       "      <td>10000.000000</td>\n",
       "      <td>10000.000000</td>\n",
       "      <td>10000.00000</td>\n",
       "      <td>10000.000000</td>\n",
       "      <td>10000.000000</td>\n",
       "      <td>10000.000000</td>\n",
       "    </tr>\n",
       "    <tr>\n",
       "      <th>mean</th>\n",
       "      <td>5000.50000</td>\n",
       "      <td>1.569094e+07</td>\n",
       "      <td>650.528800</td>\n",
       "      <td>38.921800</td>\n",
       "      <td>4.997690</td>\n",
       "      <td>76485.889288</td>\n",
       "      <td>1.530200</td>\n",
       "      <td>0.70550</td>\n",
       "      <td>0.515100</td>\n",
       "      <td>100090.239881</td>\n",
       "      <td>0.203700</td>\n",
       "    </tr>\n",
       "    <tr>\n",
       "      <th>std</th>\n",
       "      <td>2886.89568</td>\n",
       "      <td>7.193619e+04</td>\n",
       "      <td>96.653299</td>\n",
       "      <td>10.487806</td>\n",
       "      <td>2.894723</td>\n",
       "      <td>62397.405202</td>\n",
       "      <td>0.581654</td>\n",
       "      <td>0.45584</td>\n",
       "      <td>0.499797</td>\n",
       "      <td>57510.492818</td>\n",
       "      <td>0.402769</td>\n",
       "    </tr>\n",
       "    <tr>\n",
       "      <th>min</th>\n",
       "      <td>1.00000</td>\n",
       "      <td>1.556570e+07</td>\n",
       "      <td>350.000000</td>\n",
       "      <td>18.000000</td>\n",
       "      <td>0.000000</td>\n",
       "      <td>0.000000</td>\n",
       "      <td>1.000000</td>\n",
       "      <td>0.00000</td>\n",
       "      <td>0.000000</td>\n",
       "      <td>11.580000</td>\n",
       "      <td>0.000000</td>\n",
       "    </tr>\n",
       "    <tr>\n",
       "      <th>25%</th>\n",
       "      <td>2500.75000</td>\n",
       "      <td>1.562853e+07</td>\n",
       "      <td>584.000000</td>\n",
       "      <td>32.000000</td>\n",
       "      <td>2.000000</td>\n",
       "      <td>0.000000</td>\n",
       "      <td>1.000000</td>\n",
       "      <td>0.00000</td>\n",
       "      <td>0.000000</td>\n",
       "      <td>51002.110000</td>\n",
       "      <td>0.000000</td>\n",
       "    </tr>\n",
       "    <tr>\n",
       "      <th>50%</th>\n",
       "      <td>5000.50000</td>\n",
       "      <td>1.569074e+07</td>\n",
       "      <td>652.000000</td>\n",
       "      <td>37.000000</td>\n",
       "      <td>5.000000</td>\n",
       "      <td>97198.540000</td>\n",
       "      <td>1.000000</td>\n",
       "      <td>1.00000</td>\n",
       "      <td>1.000000</td>\n",
       "      <td>100193.915000</td>\n",
       "      <td>0.000000</td>\n",
       "    </tr>\n",
       "    <tr>\n",
       "      <th>75%</th>\n",
       "      <td>7500.25000</td>\n",
       "      <td>1.575323e+07</td>\n",
       "      <td>718.000000</td>\n",
       "      <td>44.000000</td>\n",
       "      <td>7.000000</td>\n",
       "      <td>127644.240000</td>\n",
       "      <td>2.000000</td>\n",
       "      <td>1.00000</td>\n",
       "      <td>1.000000</td>\n",
       "      <td>149388.247500</td>\n",
       "      <td>0.000000</td>\n",
       "    </tr>\n",
       "    <tr>\n",
       "      <th>max</th>\n",
       "      <td>10000.00000</td>\n",
       "      <td>1.581569e+07</td>\n",
       "      <td>850.000000</td>\n",
       "      <td>92.000000</td>\n",
       "      <td>10.000000</td>\n",
       "      <td>250898.090000</td>\n",
       "      <td>4.000000</td>\n",
       "      <td>1.00000</td>\n",
       "      <td>1.000000</td>\n",
       "      <td>199992.480000</td>\n",
       "      <td>1.000000</td>\n",
       "    </tr>\n",
       "  </tbody>\n",
       "</table>\n",
       "</div>"
      ],
      "text/plain": [
       "         RowNumber    CustomerId   CreditScore           Age       Tenure  \\\n",
       "count  10000.00000  1.000000e+04  10000.000000  10000.000000  9091.000000   \n",
       "mean    5000.50000  1.569094e+07    650.528800     38.921800     4.997690   \n",
       "std     2886.89568  7.193619e+04     96.653299     10.487806     2.894723   \n",
       "min        1.00000  1.556570e+07    350.000000     18.000000     0.000000   \n",
       "25%     2500.75000  1.562853e+07    584.000000     32.000000     2.000000   \n",
       "50%     5000.50000  1.569074e+07    652.000000     37.000000     5.000000   \n",
       "75%     7500.25000  1.575323e+07    718.000000     44.000000     7.000000   \n",
       "max    10000.00000  1.581569e+07    850.000000     92.000000    10.000000   \n",
       "\n",
       "             Balance  NumOfProducts    HasCrCard  IsActiveMember  \\\n",
       "count   10000.000000   10000.000000  10000.00000    10000.000000   \n",
       "mean    76485.889288       1.530200      0.70550        0.515100   \n",
       "std     62397.405202       0.581654      0.45584        0.499797   \n",
       "min         0.000000       1.000000      0.00000        0.000000   \n",
       "25%         0.000000       1.000000      0.00000        0.000000   \n",
       "50%     97198.540000       1.000000      1.00000        1.000000   \n",
       "75%    127644.240000       2.000000      1.00000        1.000000   \n",
       "max    250898.090000       4.000000      1.00000        1.000000   \n",
       "\n",
       "       EstimatedSalary        Exited  \n",
       "count     10000.000000  10000.000000  \n",
       "mean     100090.239881      0.203700  \n",
       "std       57510.492818      0.402769  \n",
       "min          11.580000      0.000000  \n",
       "25%       51002.110000      0.000000  \n",
       "50%      100193.915000      0.000000  \n",
       "75%      149388.247500      0.000000  \n",
       "max      199992.480000      1.000000  "
      ]
     },
     "execution_count": 5,
     "metadata": {},
     "output_type": "execute_result"
    }
   ],
   "source": [
    "df.describe()"
   ]
  },
  {
   "cell_type": "markdown",
   "metadata": {},
   "source": [
    "Приведем названия колонок к змеиному регистру."
   ]
  },
  {
   "cell_type": "code",
   "execution_count": 6,
   "metadata": {},
   "outputs": [],
   "source": [
    "df.columns = [re.sub(r'(?<!^)(?=[A-Z])', '_', i).lower() for i in df.columns]"
   ]
  },
  {
   "cell_type": "markdown",
   "metadata": {},
   "source": [
    "Проверим пропуски в данных"
   ]
  },
  {
   "cell_type": "code",
   "execution_count": 7,
   "metadata": {
    "scrolled": true
   },
   "outputs": [
    {
     "data": {
      "text/plain": [
       "row_number            0\n",
       "customer_id           0\n",
       "surname               0\n",
       "credit_score          0\n",
       "geography             0\n",
       "gender                0\n",
       "age                   0\n",
       "tenure              909\n",
       "balance               0\n",
       "num_of_products       0\n",
       "has_cr_card           0\n",
       "is_active_member      0\n",
       "estimated_salary      0\n",
       "exited                0\n",
       "dtype: int64"
      ]
     },
     "execution_count": 7,
     "metadata": {},
     "output_type": "execute_result"
    }
   ],
   "source": [
    "df.isna().sum()"
   ]
  },
  {
   "cell_type": "markdown",
   "metadata": {},
   "source": [
    "Пропуски наблюдаются только в столбце `tenure`, который показывает сколько лет клиент сотрудничает с банком. Выдвинуть предположение, что клиенты появились недавно мы подтвердить не можем. Данных у нас не много, поэтому и удалять пропуски не стоит. Следвоательно наилучший вариант, это заполнить пропуски медианным значением."
   ]
  },
  {
   "cell_type": "code",
   "execution_count": 8,
   "metadata": {},
   "outputs": [],
   "source": [
    "df.fillna(df['tenure'].median(), inplace = True)"
   ]
  },
  {
   "cell_type": "markdown",
   "metadata": {},
   "source": [
    "Проверим столбец `gender`, чтобы в нём не было лишних значений."
   ]
  },
  {
   "cell_type": "code",
   "execution_count": 9,
   "metadata": {
    "scrolled": true
   },
   "outputs": [
    {
     "data": {
      "text/plain": [
       "array(['Female', 'Male'], dtype=object)"
      ]
     },
     "execution_count": 9,
     "metadata": {},
     "output_type": "execute_result"
    }
   ],
   "source": [
    "df['gender'].unique()"
   ]
  },
  {
   "cell_type": "markdown",
   "metadata": {},
   "source": [
    "Преобразуем категориальные признаки столбца `Gender` в численные с помощью техники прямого кодирования `One-Hot Encoding`."
   ]
  },
  {
   "cell_type": "code",
   "execution_count": 10,
   "metadata": {},
   "outputs": [],
   "source": [
    "df = pd.get_dummies(df, drop_first=True, columns=['gender', 'geography'])"
   ]
  },
  {
   "cell_type": "code",
   "execution_count": 11,
   "metadata": {
    "scrolled": true
   },
   "outputs": [
    {
     "data": {
      "text/html": [
       "<div>\n",
       "<style scoped>\n",
       "    .dataframe tbody tr th:only-of-type {\n",
       "        vertical-align: middle;\n",
       "    }\n",
       "\n",
       "    .dataframe tbody tr th {\n",
       "        vertical-align: top;\n",
       "    }\n",
       "\n",
       "    .dataframe thead th {\n",
       "        text-align: right;\n",
       "    }\n",
       "</style>\n",
       "<table border=\"1\" class=\"dataframe\">\n",
       "  <thead>\n",
       "    <tr style=\"text-align: right;\">\n",
       "      <th></th>\n",
       "      <th>row_number</th>\n",
       "      <th>customer_id</th>\n",
       "      <th>surname</th>\n",
       "      <th>credit_score</th>\n",
       "      <th>age</th>\n",
       "      <th>tenure</th>\n",
       "      <th>balance</th>\n",
       "      <th>num_of_products</th>\n",
       "      <th>has_cr_card</th>\n",
       "      <th>is_active_member</th>\n",
       "      <th>estimated_salary</th>\n",
       "      <th>exited</th>\n",
       "      <th>gender_Male</th>\n",
       "      <th>geography_Germany</th>\n",
       "      <th>geography_Spain</th>\n",
       "    </tr>\n",
       "  </thead>\n",
       "  <tbody>\n",
       "    <tr>\n",
       "      <th>0</th>\n",
       "      <td>1</td>\n",
       "      <td>15634602</td>\n",
       "      <td>Hargrave</td>\n",
       "      <td>619</td>\n",
       "      <td>42</td>\n",
       "      <td>2.0</td>\n",
       "      <td>0.00</td>\n",
       "      <td>1</td>\n",
       "      <td>1</td>\n",
       "      <td>1</td>\n",
       "      <td>101348.88</td>\n",
       "      <td>1</td>\n",
       "      <td>0</td>\n",
       "      <td>0</td>\n",
       "      <td>0</td>\n",
       "    </tr>\n",
       "    <tr>\n",
       "      <th>1</th>\n",
       "      <td>2</td>\n",
       "      <td>15647311</td>\n",
       "      <td>Hill</td>\n",
       "      <td>608</td>\n",
       "      <td>41</td>\n",
       "      <td>1.0</td>\n",
       "      <td>83807.86</td>\n",
       "      <td>1</td>\n",
       "      <td>0</td>\n",
       "      <td>1</td>\n",
       "      <td>112542.58</td>\n",
       "      <td>0</td>\n",
       "      <td>0</td>\n",
       "      <td>0</td>\n",
       "      <td>1</td>\n",
       "    </tr>\n",
       "    <tr>\n",
       "      <th>2</th>\n",
       "      <td>3</td>\n",
       "      <td>15619304</td>\n",
       "      <td>Onio</td>\n",
       "      <td>502</td>\n",
       "      <td>42</td>\n",
       "      <td>8.0</td>\n",
       "      <td>159660.80</td>\n",
       "      <td>3</td>\n",
       "      <td>1</td>\n",
       "      <td>0</td>\n",
       "      <td>113931.57</td>\n",
       "      <td>1</td>\n",
       "      <td>0</td>\n",
       "      <td>0</td>\n",
       "      <td>0</td>\n",
       "    </tr>\n",
       "    <tr>\n",
       "      <th>3</th>\n",
       "      <td>4</td>\n",
       "      <td>15701354</td>\n",
       "      <td>Boni</td>\n",
       "      <td>699</td>\n",
       "      <td>39</td>\n",
       "      <td>1.0</td>\n",
       "      <td>0.00</td>\n",
       "      <td>2</td>\n",
       "      <td>0</td>\n",
       "      <td>0</td>\n",
       "      <td>93826.63</td>\n",
       "      <td>0</td>\n",
       "      <td>0</td>\n",
       "      <td>0</td>\n",
       "      <td>0</td>\n",
       "    </tr>\n",
       "    <tr>\n",
       "      <th>4</th>\n",
       "      <td>5</td>\n",
       "      <td>15737888</td>\n",
       "      <td>Mitchell</td>\n",
       "      <td>850</td>\n",
       "      <td>43</td>\n",
       "      <td>2.0</td>\n",
       "      <td>125510.82</td>\n",
       "      <td>1</td>\n",
       "      <td>1</td>\n",
       "      <td>1</td>\n",
       "      <td>79084.10</td>\n",
       "      <td>0</td>\n",
       "      <td>0</td>\n",
       "      <td>0</td>\n",
       "      <td>1</td>\n",
       "    </tr>\n",
       "  </tbody>\n",
       "</table>\n",
       "</div>"
      ],
      "text/plain": [
       "   row_number  customer_id   surname  credit_score  age  tenure    balance  \\\n",
       "0           1     15634602  Hargrave           619   42     2.0       0.00   \n",
       "1           2     15647311      Hill           608   41     1.0   83807.86   \n",
       "2           3     15619304      Onio           502   42     8.0  159660.80   \n",
       "3           4     15701354      Boni           699   39     1.0       0.00   \n",
       "4           5     15737888  Mitchell           850   43     2.0  125510.82   \n",
       "\n",
       "   num_of_products  has_cr_card  is_active_member  estimated_salary  exited  \\\n",
       "0                1            1                 1         101348.88       1   \n",
       "1                1            0                 1         112542.58       0   \n",
       "2                3            1                 0         113931.57       1   \n",
       "3                2            0                 0          93826.63       0   \n",
       "4                1            1                 1          79084.10       0   \n",
       "\n",
       "   gender_Male  geography_Germany  geography_Spain  \n",
       "0            0                  0                0  \n",
       "1            0                  0                1  \n",
       "2            0                  0                0  \n",
       "3            0                  0                0  \n",
       "4            0                  0                1  "
      ]
     },
     "execution_count": 11,
     "metadata": {},
     "output_type": "execute_result"
    }
   ],
   "source": [
    "df.head()"
   ]
  },
  {
   "cell_type": "markdown",
   "metadata": {},
   "source": [
    "Разделим данные на три выборки: обучающую, тестовую и валидационную."
   ]
  },
  {
   "cell_type": "code",
   "execution_count": 12,
   "metadata": {},
   "outputs": [],
   "source": [
    "target = df['exited']\n",
    "features = df.drop(['exited', 'surname', 'customer_id', 'row_number'], axis=1)\n",
    "features_train, features_test, target_train, target_test = train_test_split(features, \n",
    "                                                                            target, \n",
    "                                                                            test_size=.20, \n",
    "                                                                            random_state=12345)\n",
    "features_train, features_valid, target_train, target_valid = train_test_split(features_train, \n",
    "                                                                              target_train, \n",
    "                                                                              test_size=.25, \n",
    "                                                                              random_state=12345)"
   ]
  },
  {
   "cell_type": "markdown",
   "metadata": {},
   "source": [
    "Значение столбцов `сreditscore`, `balance`, `estimated_salary` довольно разбросаны, пожтому приведем их к одному масштабу."
   ]
  },
  {
   "cell_type": "code",
   "execution_count": 13,
   "metadata": {},
   "outputs": [],
   "source": [
    "numeric = ['credit_score', 'balance', 'estimated_salary']\n",
    "\n",
    "scaler = StandardScaler()\n",
    "scaler.fit(features_train[numeric])\n",
    "features_train[numeric] = scaler.transform(features_train[numeric])\n",
    "features_valid[numeric] = scaler.transform(features_valid[numeric])\n",
    "features_test[numeric] = scaler.transform(features_test[numeric])"
   ]
  },
  {
   "cell_type": "markdown",
   "metadata": {},
   "source": [
    "Проверим получившие выборки на их размерность и размеры."
   ]
  },
  {
   "cell_type": "code",
   "execution_count": 14,
   "metadata": {
    "scrolled": true
   },
   "outputs": [
    {
     "name": "stdout",
     "output_type": "stream",
     "text": [
      "(6000, 11)\n",
      "(6000,)\n"
     ]
    }
   ],
   "source": [
    "print(features_train.shape)\n",
    "print(target_train.shape)"
   ]
  },
  {
   "cell_type": "code",
   "execution_count": 15,
   "metadata": {},
   "outputs": [
    {
     "name": "stdout",
     "output_type": "stream",
     "text": [
      "(2000, 11)\n",
      "(2000,)\n"
     ]
    }
   ],
   "source": [
    "print(features_test.shape)\n",
    "print(target_test.shape)"
   ]
  },
  {
   "cell_type": "code",
   "execution_count": 16,
   "metadata": {
    "scrolled": false
   },
   "outputs": [
    {
     "name": "stdout",
     "output_type": "stream",
     "text": [
      "(2000, 11)\n",
      "(2000,)\n"
     ]
    }
   ],
   "source": [
    "print(features_valid.shape)\n",
    "print(target_valid.shape)"
   ]
  },
  {
   "cell_type": "markdown",
   "metadata": {},
   "source": [
    "Выборки разделены верно, тестовая рана валидационной."
   ]
  },
  {
   "cell_type": "markdown",
   "metadata": {},
   "source": [
    "## Исследование задачи"
   ]
  },
  {
   "cell_type": "markdown",
   "metadata": {},
   "source": [
    "**Исследовние баланса классов**"
   ]
  },
  {
   "cell_type": "markdown",
   "metadata": {},
   "source": [
    "Чтобы оценить адекватность модели, проверим, как часто в целевом признаке встречается класс «1» или «0». "
   ]
  },
  {
   "cell_type": "code",
   "execution_count": 17,
   "metadata": {},
   "outputs": [
    {
     "name": "stdout",
     "output_type": "stream",
     "text": [
      "0    0.7963\n",
      "1    0.2037\n",
      "Name: exited, dtype: float64\n"
     ]
    },
    {
     "data": {
      "text/plain": [
       "Text(0.5, 1.0, 'Проверка на дисбаланс')"
      ]
     },
     "execution_count": 17,
     "metadata": {},
     "output_type": "execute_result"
    },
    {
     "data": {
      "image/png": "[encoded data removed]",
      "text/plain": [
       "<Figure size 640x480 with 1 Axes>"
      ]
     },
     "metadata": {},
     "output_type": "display_data"
    }
   ],
   "source": [
    "class_frequency = df['exited'].value_counts(normalize=True)\n",
    "print(class_frequency)\n",
    "class_frequency.plot(kind='bar')\n",
    "plt.title('Проверка на дисбаланс')"
   ]
  },
  {
   "cell_type": "markdown",
   "metadata": {},
   "source": [
    "Исходя из выше увиденного, можно сделать вывод, что наблюдается довольно сильный дисбаланс 80% отражают факт того, что клиент остался и только 20%, что клиент ушёл."
   ]
  },
  {
   "cell_type": "markdown",
   "metadata": {},
   "source": [
    "Создадим коснстантную модель (1) и сравним с ней качество предсказания."
   ]
  },
  {
   "cell_type": "code",
   "execution_count": 18,
   "metadata": {},
   "outputs": [
    {
     "data": {
      "text/plain": [
       "0.3518747424804285"
      ]
     },
     "execution_count": 18,
     "metadata": {},
     "output_type": "execute_result"
    }
   ],
   "source": [
    "dummy_model = DummyClassifier(strategy='constant', constant=1)\n",
    "dummy_model.fit(features_train, target_train)\n",
    "f1_score(dummy_model.predict(features_test), target_test)"
   ]
  },
  {
   "cell_type": "markdown",
   "metadata": {},
   "source": [
    "## Проверка модели без учета дисбаланса"
   ]
  },
  {
   "cell_type": "markdown",
   "metadata": {},
   "source": [
    "### Дерево решений"
   ]
  },
  {
   "cell_type": "markdown",
   "metadata": {},
   "source": [
    "Подберем оптимальные значения гиперпараметров."
   ]
  },
  {
   "cell_type": "code",
   "execution_count": 19,
   "metadata": {},
   "outputs": [
    {
     "name": "stdout",
     "output_type": "stream",
     "text": [
      "Оптимальная глубина дерева: 7\n",
      "Качество модели:  0.5566037735849056\n"
     ]
    }
   ],
   "source": [
    "best_model = 0\n",
    "best_f1 = 0\n",
    "for depth in range(1,10):\n",
    "    model_tree = DecisionTreeClassifier(random_state=12345,\n",
    "                                   max_depth=depth)\n",
    "    model_tree.fit(features_train, target_train)\n",
    "    predictions_valid_tree = model_tree.predict(features_valid)\n",
    "    f1_tree = f1_score(target_valid, predictions_valid_tree)\n",
    "    if f1_tree > best_f1:\n",
    "        best_model = model_tree\n",
    "        best_depth = depth\n",
    "        best_f1 = f1_tree\n",
    "\n",
    "print('Оптимальная глубина дерева:', best_depth) \n",
    "print('Качество модели: ', best_f1)"
   ]
  },
  {
   "cell_type": "markdown",
   "metadata": {},
   "source": [
    "Изучим модель с оптимальными значениями."
   ]
  },
  {
   "cell_type": "code",
   "execution_count": 20,
   "metadata": {},
   "outputs": [],
   "source": [
    "model_tree = DecisionTreeClassifier(random_state=12345,\n",
    "                                   max_depth=7)\n",
    "model_tree.fit(features_train, target_train)\n",
    "predictions_valid_tree = model_tree.predict(features_valid)"
   ]
  },
  {
   "cell_type": "code",
   "execution_count": 21,
   "metadata": {},
   "outputs": [
    {
     "name": "stdout",
     "output_type": "stream",
     "text": [
      "Правильность: 0.859\n",
      "Полнота: 0.45268542199488493\n",
      "Точность: 0.7224489795918367\n",
      "F1-мера: 0.5566037735849056\n"
     ]
    }
   ],
   "source": [
    "print('Правильность:', accuracy_score(target_valid, predictions_valid_tree))\n",
    "print('Полнота:', recall_score(target_valid, predictions_valid_tree))\n",
    "print('Точность:', precision_score(target_valid, predictions_valid_tree))\n",
    "print('F1-мера:', f1_score(target_valid, predictions_valid_tree))"
   ]
  },
  {
   "cell_type": "markdown",
   "metadata": {},
   "source": [
    "### Случайный лес"
   ]
  },
  {
   "cell_type": "markdown",
   "metadata": {},
   "source": [
    "Подберем оптимальные значения гиперпараметров."
   ]
  },
  {
   "cell_type": "code",
   "execution_count": 22,
   "metadata": {
    "scrolled": false
   },
   "outputs": [
    {
     "name": "stdout",
     "output_type": "stream",
     "text": [
      "Оптимальное количество оценок: 30\n",
      "Оптимальная глубина дерева: 7\n",
      "Качество модели: 0.5592105263157895\n"
     ]
    }
   ],
   "source": [
    "best_model = 0\n",
    "best_f1 = 0\n",
    "for est in range(10, 101, 10):\n",
    "    for depth in range(1, 11):\n",
    "        model_forest = RandomForestClassifier(random_state=12345,\n",
    "                                             n_estimators=est,\n",
    "                                             max_depth=depth)\n",
    "        model_forest.fit(features_train, target_train)\n",
    "        predictions_valid_forest = model_forest.predict(features_valid)\n",
    "        f1_forest = f1_score(target_valid,predictions_valid_forest)\n",
    "        if f1_forest > best_f1:\n",
    "            best_model = model_forest\n",
    "            best_est = est\n",
    "            dest_depth = depth\n",
    "            best_f1 = f1_forest\n",
    "\n",
    "print('Оптимальное количество оценок:', best_est)\n",
    "print('Оптимальная глубина дерева:', best_depth)\n",
    "print('Качество модели:', best_f1)"
   ]
  },
  {
   "cell_type": "code",
   "execution_count": 23,
   "metadata": {},
   "outputs": [],
   "source": [
    "model_forest = RandomForestClassifier(random_state=12345, \n",
    "                                      n_estimators=30, \n",
    "                                      max_depth=7)\n",
    "model_forest.fit(features_train, target_train)\n",
    "predictions_valid_forest = model_forest.predict(features_valid)"
   ]
  },
  {
   "cell_type": "code",
   "execution_count": 24,
   "metadata": {},
   "outputs": [
    {
     "name": "stdout",
     "output_type": "stream",
     "text": [
      "Правильность: 0.8615\n",
      "Полнота: 0.4117647058823529\n",
      "Точность: 0.7740384615384616\n",
      "F1-мера: 0.5375626043405676\n"
     ]
    }
   ],
   "source": [
    "print('Правильность:', accuracy_score(target_valid, predictions_valid_forest))\n",
    "print('Полнота:', recall_score(target_valid, predictions_valid_forest))\n",
    "print('Точность:', precision_score(target_valid, predictions_valid_forest))\n",
    "print('F1-мера:', f1_score(target_valid, predictions_valid_forest))"
   ]
  },
  {
   "cell_type": "markdown",
   "metadata": {},
   "source": [
    "### Логистическая регрессия"
   ]
  },
  {
   "cell_type": "code",
   "execution_count": 25,
   "metadata": {},
   "outputs": [],
   "source": [
    "model_log = LogisticRegression(random_state=12345,\n",
    "                               solver='liblinear')\n",
    "model_log.fit(features_train, target_train)\n",
    "predictions_valid_log = model_log.predict(features_valid)"
   ]
  },
  {
   "cell_type": "code",
   "execution_count": 26,
   "metadata": {},
   "outputs": [
    {
     "name": "stdout",
     "output_type": "stream",
     "text": [
      "Правильность: 0.8145\n",
      "Полнота: 0.2071611253196931\n",
      "Точность: 0.5704225352112676\n",
      "F1-мера: 0.30393996247654786\n"
     ]
    }
   ],
   "source": [
    "print('Правильность:', accuracy_score(target_valid, predictions_valid_log))\n",
    "print('Полнота:', recall_score(target_valid, predictions_valid_log))\n",
    "print('Точность:', precision_score(target_valid, predictions_valid_log))\n",
    "print('F1-мера:', f1_score(target_valid, predictions_valid_log))"
   ]
  },
  {
   "cell_type": "code",
   "execution_count": 27,
   "metadata": {},
   "outputs": [
    {
     "data": {
      "text/html": [
       "<div>\n",
       "<style scoped>\n",
       "    .dataframe tbody tr th:only-of-type {\n",
       "        vertical-align: middle;\n",
       "    }\n",
       "\n",
       "    .dataframe tbody tr th {\n",
       "        vertical-align: top;\n",
       "    }\n",
       "\n",
       "    .dataframe thead th {\n",
       "        text-align: right;\n",
       "    }\n",
       "</style>\n",
       "<table border=\"1\" class=\"dataframe\">\n",
       "  <thead>\n",
       "    <tr style=\"text-align: right;\">\n",
       "      <th></th>\n",
       "      <th>Правильность</th>\n",
       "      <th>Полнота</th>\n",
       "      <th>Точность</th>\n",
       "      <th>F1-мера</th>\n",
       "    </tr>\n",
       "  </thead>\n",
       "  <tbody>\n",
       "    <tr>\n",
       "      <th>DecisionTreeClassifier</th>\n",
       "      <td>0.86</td>\n",
       "      <td>0.45</td>\n",
       "      <td>0.72</td>\n",
       "      <td>0.56</td>\n",
       "    </tr>\n",
       "    <tr>\n",
       "      <th>RandomForestClassifier</th>\n",
       "      <td>0.86</td>\n",
       "      <td>0.41</td>\n",
       "      <td>0.77</td>\n",
       "      <td>0.53</td>\n",
       "    </tr>\n",
       "    <tr>\n",
       "      <th>LogisticRegression</th>\n",
       "      <td>0.81</td>\n",
       "      <td>0.21</td>\n",
       "      <td>0.57</td>\n",
       "      <td>0.31</td>\n",
       "    </tr>\n",
       "  </tbody>\n",
       "</table>\n",
       "</div>"
      ],
      "text/plain": [
       "                       Правильность Полнота Точность F1-мера\n",
       "DecisionTreeClassifier         0.86    0.45     0.72    0.56\n",
       "RandomForestClassifier         0.86    0.41     0.77    0.53\n",
       "LogisticRegression             0.81    0.21     0.57    0.31"
      ]
     },
     "metadata": {},
     "output_type": "display_data"
    }
   ],
   "source": [
    "result = [['0.86', '0.45', '0.72','0.56'],\n",
    "          ['0.86','0.41','0.77','0.53'],\n",
    "         ['0.81','0.21','0.57','0.31']]\n",
    "model = ['DecisionTreeClassifier','RandomForestClassifier','LogisticRegression']\n",
    "value_models = pd.DataFrame(data=result,index=model, \n",
    "                            columns=['Правильность', \n",
    "                                     'Полнота', \n",
    "                                     'Точность', \n",
    "                                     'F1-мера'])\n",
    "display(value_models)"
   ]
  },
  {
   "cell_type": "markdown",
   "metadata": {},
   "source": [
    "Наибольшая правильность у модели дерево решений и случайный лес(0.86)\n",
    " \n",
    "У модели дерева решений наилучший показатель полноты(0.45).\n",
    " \n",
    "Точность же лучше у модели случайный лес(0.77)\n",
    " \n",
    "Оценим модель по качеству F1: дерево решений(0,56), случайный лес(0,53), логистическая регрессия(0,31).\n",
    "Изучив данные можно сдлать вывод, что наулучший показатель по F1 показывает дерево решений, в то время как наибольшая правильность у модели случайный лес.\n"
   ]
  },
  {
   "cell_type": "markdown",
   "metadata": {},
   "source": [
    "### Составим матрицу ошибок для каждой модели."
   ]
  },
  {
   "cell_type": "code",
   "execution_count": 28,
   "metadata": {},
   "outputs": [
    {
     "name": "stderr",
     "output_type": "stream",
     "text": [
      "C:\\anaconda\\lib\\site-packages\\sklearn\\utils\\deprecation.py:87: FutureWarning: Function plot_confusion_matrix is deprecated; Function `plot_confusion_matrix` is deprecated in 1.0 and will be removed in 1.2. Use one of the class methods: ConfusionMatrixDisplay.from_predictions or ConfusionMatrixDisplay.from_estimator.\n",
      "  warnings.warn(msg, category=FutureWarning)\n"
     ]
    },
    {
     "data": {
      "text/plain": [
       "Text(0.5, 1.0, 'Матрица ошибок дерево решений')"
      ]
     },
     "execution_count": 28,
     "metadata": {},
     "output_type": "execute_result"
    },
    {
     "data": {
      "image/png": "[encoded data removed]",
      "text/plain": [
       "<Figure size 640x480 with 2 Axes>"
      ]
     },
     "metadata": {},
     "output_type": "display_data"
    }
   ],
   "source": [
    "plot_confusion_matrix(estimator=model_tree, \n",
    "                      X=features_valid, \n",
    "                      y_true=target_valid,\n",
    "                      normalize='true', \n",
    "                      cmap='Blues')\n",
    "plt.title('Матрица ошибок дерево решений')"
   ]
  },
  {
   "cell_type": "code",
   "execution_count": 29,
   "metadata": {
    "scrolled": true
   },
   "outputs": [
    {
     "name": "stderr",
     "output_type": "stream",
     "text": [
      "C:\\anaconda\\lib\\site-packages\\sklearn\\utils\\deprecation.py:87: FutureWarning: Function plot_confusion_matrix is deprecated; Function `plot_confusion_matrix` is deprecated in 1.0 and will be removed in 1.2. Use one of the class methods: ConfusionMatrixDisplay.from_predictions or ConfusionMatrixDisplay.from_estimator.\n",
      "  warnings.warn(msg, category=FutureWarning)\n"
     ]
    },
    {
     "data": {
      "text/plain": [
       "Text(0.5, 1.0, 'Матрица ошибок случайный лес')"
      ]
     },
     "execution_count": 29,
     "metadata": {},
     "output_type": "execute_result"
    },
    {
     "data": {
      "image/png": "[encoded data removed]",
      "text/plain": [
       "<Figure size 640x480 with 2 Axes>"
      ]
     },
     "metadata": {},
     "output_type": "display_data"
    }
   ],
   "source": [
    "plot_confusion_matrix(estimator=model_forest, \n",
    "                      X=features_valid, \n",
    "                      y_true=target_valid,\n",
    "                      normalize='true', \n",
    "                      cmap='Blues')\n",
    "plt.title('Матрица ошибок случайный лес')"
   ]
  },
  {
   "cell_type": "code",
   "execution_count": 30,
   "metadata": {
    "scrolled": true
   },
   "outputs": [
    {
     "name": "stderr",
     "output_type": "stream",
     "text": [
      "C:\\anaconda\\lib\\site-packages\\sklearn\\utils\\deprecation.py:87: FutureWarning: Function plot_confusion_matrix is deprecated; Function `plot_confusion_matrix` is deprecated in 1.0 and will be removed in 1.2. Use one of the class methods: ConfusionMatrixDisplay.from_predictions or ConfusionMatrixDisplay.from_estimator.\n",
      "  warnings.warn(msg, category=FutureWarning)\n"
     ]
    },
    {
     "data": {
      "text/plain": [
       "Text(0.5, 1.0, 'Матрица ошибок логистическая регрессия')"
      ]
     },
     "execution_count": 30,
     "metadata": {},
     "output_type": "execute_result"
    },
    {
     "data": {
      "image/png": "[encoded data removed]",
      "text/plain": [
       "<Figure size 640x480 with 2 Axes>"
      ]
     },
     "metadata": {},
     "output_type": "display_data"
    }
   ],
   "source": [
    "plot_confusion_matrix(estimator=model_log, \n",
    "                      X=features_valid, \n",
    "                      y_true=target_valid,\n",
    "                      normalize='true', \n",
    "                      cmap='Blues')\n",
    "plt.title('Матрица ошибок логистическая регрессия')"
   ]
  },
  {
   "cell_type": "markdown",
   "metadata": {},
   "source": [
    "Исходя из представленных выше данных, мы наблюдаем довольно большой дисбаланс классов."
   ]
  },
  {
   "cell_type": "markdown",
   "metadata": {},
   "source": [
    "## Борьба с дисбалансом"
   ]
  },
  {
   "cell_type": "markdown",
   "metadata": {},
   "source": [
    "### 1.Взвешивание классов."
   ]
  },
  {
   "cell_type": "markdown",
   "metadata": {},
   "source": [
    "**Дерево решений**"
   ]
  },
  {
   "cell_type": "markdown",
   "metadata": {},
   "source": [
    "Подберем оптимальные значения гиперпараметров."
   ]
  },
  {
   "cell_type": "code",
   "execution_count": 31,
   "metadata": {},
   "outputs": [
    {
     "name": "stdout",
     "output_type": "stream",
     "text": [
      "Оптимальная глубина дерева: 6\n",
      "Качество модели:  0.5572441742654509\n"
     ]
    }
   ],
   "source": [
    "best_model = 0\n",
    "best_f1 = 0\n",
    "for depth in range(1,10):\n",
    "    model_tree = DecisionTreeClassifier(random_state=12345,\n",
    "                                   max_depth=depth,\n",
    "                                   class_weight='balanced')\n",
    "    model_tree.fit(features_train, target_train)\n",
    "    predictions_valid_tree = model_tree.predict(features_valid)\n",
    "    f1_tree = f1_score(target_valid, predictions_valid_tree)\n",
    "    if f1_tree > best_f1:\n",
    "        best_model = model_tree\n",
    "        best_depth = depth\n",
    "        best_f1 = f1_tree\n",
    "\n",
    "print('Оптимальная глубина дерева:', best_depth) \n",
    "print('Качество модели: ', best_f1)"
   ]
  },
  {
   "cell_type": "markdown",
   "metadata": {},
   "source": [
    "Изучим модель с учетом этих параметров."
   ]
  },
  {
   "cell_type": "code",
   "execution_count": 32,
   "metadata": {},
   "outputs": [],
   "source": [
    "model_tree = DecisionTreeClassifier(random_state=12345,\n",
    "                                   max_depth=6,\n",
    "                                   class_weight='balanced')\n",
    "model_tree.fit(features_train, target_train)\n",
    "predictions_valid_tree = model_tree.predict(features_valid)"
   ]
  },
  {
   "cell_type": "code",
   "execution_count": 33,
   "metadata": {},
   "outputs": [
    {
     "name": "stdout",
     "output_type": "stream",
     "text": [
      "Правильность: 0.7815\n",
      "Полнота: 0.7033248081841432\n",
      "Точность: 0.46140939597315433\n",
      "F1-мера: 0.5572441742654509\n",
      "AUC-ROC: 0.8065254745127711\n"
     ]
    }
   ],
   "source": [
    "print('Правильность:', accuracy_score(target_valid, predictions_valid_tree))\n",
    "print('Полнота:', recall_score(target_valid, predictions_valid_tree))\n",
    "print('Точность:', precision_score(target_valid, predictions_valid_tree))\n",
    "print('F1-мера:', f1_score(target_valid, predictions_valid_tree))\n",
    "\n",
    "probabilities_valid = model_tree.predict_proba(features_valid)\n",
    "probabilities_one_valid = probabilities_valid[:, 1]\n",
    " \n",
    "auc_roc_tree = roc_auc_score(target_valid, probabilities_one_valid)\n",
    "print(\"AUC-ROC:\", auc_roc_tree)"
   ]
  },
  {
   "cell_type": "markdown",
   "metadata": {},
   "source": [
    "**Случайный лес**"
   ]
  },
  {
   "cell_type": "markdown",
   "metadata": {},
   "source": [
    "Подберем оптимальные значения гиперпараметров."
   ]
  },
  {
   "cell_type": "code",
   "execution_count": 34,
   "metadata": {},
   "outputs": [
    {
     "name": "stdout",
     "output_type": "stream",
     "text": [
      "Оптимальное количество оценок: 80\n",
      "Оптимальная глубина дерева: 6\n",
      "Качество модели: 0.603680981595092\n"
     ]
    }
   ],
   "source": [
    "best_model = 0\n",
    "best_f1 = 0\n",
    "for est in range(10, 101, 10):\n",
    "    for depth in range(1, 11):\n",
    "        model_forest = RandomForestClassifier(random_state=12345,\n",
    "                                             n_estimators=est,\n",
    "                                             max_depth=depth,\n",
    "                                             class_weight='balanced')\n",
    "        model_forest.fit(features_train, target_train)\n",
    "        predictions_valid_forest = model_forest.predict(features_valid)\n",
    "        f1_forest = f1_score(target_valid,predictions_valid_forest)\n",
    "        if f1_forest > best_f1:\n",
    "            best_model = model_forest\n",
    "            best_est = est\n",
    "            dest_depth = depth\n",
    "            best_f1 = f1_forest\n",
    "\n",
    "print('Оптимальное количество оценок:', best_est)\n",
    "print('Оптимальная глубина дерева:', best_depth)\n",
    "print('Качество модели:', best_f1)"
   ]
  },
  {
   "cell_type": "markdown",
   "metadata": {},
   "source": [
    "Изучим модель с учетом этих параметров."
   ]
  },
  {
   "cell_type": "code",
   "execution_count": 35,
   "metadata": {},
   "outputs": [],
   "source": [
    "model_forest = RandomForestClassifier(random_state=12345, \n",
    "                                      n_estimators=80, \n",
    "                                      max_depth=6,\n",
    "                                     class_weight='balanced')\n",
    "model_forest.fit(features_train, target_train)\n",
    "predictions_valid_forest = model_forest.predict(features_valid)"
   ]
  },
  {
   "cell_type": "code",
   "execution_count": 36,
   "metadata": {},
   "outputs": [
    {
     "name": "stdout",
     "output_type": "stream",
     "text": [
      "Правильность: 0.7955\n",
      "Полнота: 0.680306905370844\n",
      "Точность: 0.48363636363636364\n",
      "F1-мера: 0.565356004250797\n",
      "AUC-ROC: 0.8466045374563476\n"
     ]
    }
   ],
   "source": [
    "print('Правильность:', accuracy_score(target_valid, predictions_valid_forest))\n",
    "print('Полнота:', recall_score(target_valid, predictions_valid_forest))\n",
    "print('Точность:', precision_score(target_valid, predictions_valid_forest))\n",
    "print('F1-мера:', f1_score(target_valid, predictions_valid_forest))\n",
    "\n",
    "probabilities_valid = model_forest.predict_proba(features_valid)\n",
    "probabilities_one_valid = probabilities_valid[:, 1]\n",
    " \n",
    "auc_roc_forest = roc_auc_score(target_valid, probabilities_one_valid)\n",
    "print('AUC-ROC:', auc_roc_forest)"
   ]
  },
  {
   "cell_type": "markdown",
   "metadata": {},
   "source": [
    "**Логистическая регрессия**"
   ]
  },
  {
   "cell_type": "code",
   "execution_count": 37,
   "metadata": {},
   "outputs": [],
   "source": [
    "model_log = LogisticRegression(random_state=12345,\n",
    "                               solver='liblinear',\n",
    "                               class_weight='balanced')\n",
    "model_log.fit(features_train, target_train)\n",
    "predictions_valid_log = model_log.predict(features_valid)"
   ]
  },
  {
   "cell_type": "code",
   "execution_count": 38,
   "metadata": {},
   "outputs": [
    {
     "name": "stdout",
     "output_type": "stream",
     "text": [
      "Правильность: 0.7045\n",
      "Полнота: 0.6854219948849105\n",
      "Точность: 0.3641304347826087\n",
      "F1-мера: 0.47559893522626445\n",
      "AUC-ROC: 0.7724277918803915\n"
     ]
    }
   ],
   "source": [
    "print('Правильность:', accuracy_score(target_valid, predictions_valid_log))\n",
    "print('Полнота:', recall_score(target_valid, predictions_valid_log))\n",
    "print('Точность:', precision_score(target_valid, predictions_valid_log))\n",
    "print('F1-мера:', f1_score(target_valid, predictions_valid_log))\n",
    "\n",
    "probabilities_valid = model_log.predict_proba(features_valid)\n",
    "probabilities_one_valid = probabilities_valid[:, 1]\n",
    " \n",
    "auc_roc_log = roc_auc_score(target_valid, probabilities_one_valid)\n",
    "print('AUC-ROC:', auc_roc_log)"
   ]
  },
  {
   "cell_type": "markdown",
   "metadata": {},
   "source": [
    "Сгрупируем полученные результаты."
   ]
  },
  {
   "cell_type": "code",
   "execution_count": 39,
   "metadata": {},
   "outputs": [
    {
     "data": {
      "text/html": [
       "<div>\n",
       "<style scoped>\n",
       "    .dataframe tbody tr th:only-of-type {\n",
       "        vertical-align: middle;\n",
       "    }\n",
       "\n",
       "    .dataframe tbody tr th {\n",
       "        vertical-align: top;\n",
       "    }\n",
       "\n",
       "    .dataframe thead th {\n",
       "        text-align: right;\n",
       "    }\n",
       "</style>\n",
       "<table border=\"1\" class=\"dataframe\">\n",
       "  <thead>\n",
       "    <tr style=\"text-align: right;\">\n",
       "      <th></th>\n",
       "      <th>Правильность</th>\n",
       "      <th>Полнота</th>\n",
       "      <th>Точность</th>\n",
       "      <th>F1-мера</th>\n",
       "      <th>AUC-ROC</th>\n",
       "    </tr>\n",
       "  </thead>\n",
       "  <tbody>\n",
       "    <tr>\n",
       "      <th>DecisionTreeClassifier</th>\n",
       "      <td>0.78</td>\n",
       "      <td>0.7</td>\n",
       "      <td>0.46</td>\n",
       "      <td>0.55</td>\n",
       "      <td>0.8</td>\n",
       "    </tr>\n",
       "    <tr>\n",
       "      <th>RandomForestClassifier</th>\n",
       "      <td>0.79</td>\n",
       "      <td>0.68</td>\n",
       "      <td>0.48</td>\n",
       "      <td>0.57</td>\n",
       "      <td>0.84</td>\n",
       "    </tr>\n",
       "    <tr>\n",
       "      <th>LogisticRegression</th>\n",
       "      <td>0.7</td>\n",
       "      <td>0.68</td>\n",
       "      <td>0.36</td>\n",
       "      <td>0.47</td>\n",
       "      <td>0.77</td>\n",
       "    </tr>\n",
       "  </tbody>\n",
       "</table>\n",
       "</div>"
      ],
      "text/plain": [
       "                       Правильность Полнота Точность F1-мера AUC-ROC\n",
       "DecisionTreeClassifier         0.78     0.7     0.46    0.55     0.8\n",
       "RandomForestClassifier         0.79    0.68     0.48    0.57    0.84\n",
       "LogisticRegression              0.7    0.68     0.36    0.47    0.77"
      ]
     },
     "metadata": {},
     "output_type": "display_data"
    }
   ],
   "source": [
    "result = [['0.78', '0.7', '0.46','0.55','0.8'],\n",
    "          ['0.79','0.68','0.48','0.57','0.84'],\n",
    "          ['0.7','0.68','0.36','0.47','0.77']]\n",
    "model = ['DecisionTreeClassifier','RandomForestClassifier','LogisticRegression']\n",
    "value_models = pd.DataFrame(data=result,index=model, \n",
    "                            columns=['Правильность', \n",
    "                                     'Полнота', \n",
    "                                     'Точность', \n",
    "                                     'F1-мера',\n",
    "                                     'AUC-ROC'])\n",
    "display(value_models)"
   ]
  },
  {
   "cell_type": "markdown",
   "metadata": {},
   "source": [
    "### 2.Уменьшение выборки."
   ]
  },
  {
   "cell_type": "code",
   "execution_count": 40,
   "metadata": {},
   "outputs": [
    {
     "name": "stdout",
     "output_type": "stream",
     "text": [
      "(2414, 11)\n",
      "(2414,)\n"
     ]
    }
   ],
   "source": [
    "def downsample(features, target, fraction):\n",
    "    features_zeros = features[target == 0]\n",
    "    features_ones = features[target == 1]\n",
    "    target_zeros = target[target == 0]\n",
    "    target_ones = target[target == 1]\n",
    "\n",
    "    features_downsampled = pd.concat([features_zeros.sample(frac=fraction, random_state=12345)] +\n",
    "                                     [features_ones])\n",
    "    target_downsampled = pd.concat([target_zeros.sample(frac=fraction, random_state=12345)] +\n",
    "                                   [target_ones])\n",
    "    \n",
    "    features_downsampled, target_downsampled = shuffle(\n",
    "        features_downsampled, target_downsampled, random_state=12345)\n",
    "    \n",
    "    return features_downsampled, target_downsampled\n",
    "\n",
    "features_downsampled, target_downsampled = downsample(features_train, target_train, .25)\n",
    "\n",
    "print(features_downsampled.shape)\n",
    "print(target_downsampled.shape)"
   ]
  },
  {
   "cell_type": "markdown",
   "metadata": {},
   "source": [
    "**Дерево решений**"
   ]
  },
  {
   "cell_type": "markdown",
   "metadata": {},
   "source": [
    "Подберем оптимальные значения гиперпараметров."
   ]
  },
  {
   "cell_type": "code",
   "execution_count": 41,
   "metadata": {},
   "outputs": [
    {
     "name": "stdout",
     "output_type": "stream",
     "text": [
      "Оптимальная глубина дерева: 7\n",
      "Качество модели:  0.5468164794007492\n"
     ]
    }
   ],
   "source": [
    "best_model = 0\n",
    "best_f1 = 0\n",
    "for depth in range(1, 10):\n",
    "    model_tree = DecisionTreeClassifier(random_state=12345,\n",
    "                                        max_depth=depth)\n",
    "    model_tree.fit(features_downsampled, target_downsampled)\n",
    "    predictions_valid_tree = model_tree.predict(features_valid)\n",
    "    f1_tree = f1_score(target_valid, predictions_valid_tree)\n",
    "    if f1_tree > best_f1:\n",
    "        best_model = model_tree\n",
    "        best_depth = depth\n",
    "        best_f1 = f1_tree\n",
    "\n",
    "print('Оптимальная глубина дерева:', best_depth) \n",
    "print('Качество модели: ', best_f1)"
   ]
  },
  {
   "cell_type": "markdown",
   "metadata": {},
   "source": [
    "Обучим модель с учетом этих параметров."
   ]
  },
  {
   "cell_type": "code",
   "execution_count": 42,
   "metadata": {},
   "outputs": [],
   "source": [
    "model_tree = DecisionTreeClassifier(random_state=12345,\n",
    "                                   max_depth=7)\n",
    "model_tree.fit(features_downsampled, target_downsampled)\n",
    "predictions_valid_tree = model_tree.predict(features_valid)"
   ]
  },
  {
   "cell_type": "markdown",
   "metadata": {},
   "source": [
    "<div class=\"alert alert-block alert-danger\">\n",
    "<h2><s> Комментарий ревьюера <a class=\"tocSkip\"></h2>\n",
    "  \n",
    "<b>На доработку🤔:</b>\n",
    " \n",
    "Будет ошибочно использовать одновременно апсеплинг или даунсемплинг и взвешенные классы class_weight='balanced'. Мы и так доводим соотношение классов к 1:1, так что, class_weight работать не будет. Технически это не приведет к падению кода или ухудшению результатов (но и к улучшению не приведет аналитически), фактически же такой код говорит о том, что мы не понимаем механизма работы и назначения этого параметра и, соответственно, техники борьбы с дибсалансом.\n",
    "\n",
    "</div>\n"
   ]
  },
  {
   "cell_type": "code",
   "execution_count": 43,
   "metadata": {},
   "outputs": [
    {
     "name": "stdout",
     "output_type": "stream",
     "text": [
      "Правильность: 0.758\n",
      "Полнота: 0.7468030690537084\n",
      "Точность: 0.43131462333825704\n",
      "F1-мера: 0.5468164794007492\n",
      "AUC-ROC: 0.8142752007171934\n"
     ]
    }
   ],
   "source": [
    "print('Правильность:', accuracy_score(target_valid, predictions_valid_tree))\n",
    "print('Полнота:', recall_score(target_valid, predictions_valid_tree))\n",
    "print('Точность:', precision_score(target_valid, predictions_valid_tree))\n",
    "print('F1-мера:', f1_score(target_valid, predictions_valid_tree))\n",
    "\n",
    "probabilities_valid = model_tree.predict_proba(features_valid)\n",
    "probabilities_one_valid = probabilities_valid[:, 1]\n",
    " \n",
    "auc_roc_tree = roc_auc_score(target_valid, probabilities_one_valid)\n",
    "print('AUC-ROC:', auc_roc_tree)"
   ]
  },
  {
   "cell_type": "markdown",
   "metadata": {},
   "source": [
    "**Случайный лес**"
   ]
  },
  {
   "cell_type": "markdown",
   "metadata": {},
   "source": [
    "Подберем оптимальные значения гиперпараметров."
   ]
  },
  {
   "cell_type": "code",
   "execution_count": 44,
   "metadata": {},
   "outputs": [
    {
     "name": "stdout",
     "output_type": "stream",
     "text": [
      "Оптимальное количество оценок: 20\n",
      "Оптимальная глубина дерева: 7\n",
      "Качество модели: 0.5771543086172345\n"
     ]
    }
   ],
   "source": [
    "best_model = 0\n",
    "best_f1 = 0\n",
    "for est in range(10, 101, 10):\n",
    "    for depth in range(1, 11):\n",
    "        model_forest = RandomForestClassifier(random_state=12345,\n",
    "                                             n_estimators=est,\n",
    "                                             max_depth=depth)\n",
    "        model_forest.fit(features_downsampled, target_downsampled)\n",
    "        predictions_valid_forest = model_forest.predict(features_valid)\n",
    "        f1_forest = f1_score(target_valid,predictions_valid_forest)\n",
    "        if f1_forest > best_f1:\n",
    "            best_model = model_forest\n",
    "            best_est = est\n",
    "            dest_depth = depth\n",
    "            best_f1 = f1_forest\n",
    "\n",
    "print('Оптимальное количество оценок:', best_est)\n",
    "print('Оптимальная глубина дерева:', best_depth)\n",
    "print('Качество модели:', best_f1)"
   ]
  },
  {
   "cell_type": "markdown",
   "metadata": {},
   "source": [
    "Обучим модель с учетом этих параметров."
   ]
  },
  {
   "cell_type": "code",
   "execution_count": 45,
   "metadata": {},
   "outputs": [],
   "source": [
    "model_forest = RandomForestClassifier(random_state=12345, \n",
    "                                      n_estimators=20, \n",
    "                                      max_depth=7)\n",
    "model_forest.fit(features_downsampled, target_downsampled)\n",
    "predictions_valid_forest = model_forest.predict(features_valid)"
   ]
  },
  {
   "cell_type": "code",
   "execution_count": 46,
   "metadata": {},
   "outputs": [
    {
     "name": "stdout",
     "output_type": "stream",
     "text": [
      "Правильность: 0.782\n",
      "Полнота: 0.7084398976982097\n",
      "Точность: 0.46243739565943237\n",
      "F1-мера: 0.5595959595959595\n",
      "AUC-ROC: 0.8424789268802881\n"
     ]
    }
   ],
   "source": [
    "print('Правильность:', accuracy_score(target_valid, predictions_valid_forest))\n",
    "print('Полнота:', recall_score(target_valid, predictions_valid_forest))\n",
    "print('Точность:', precision_score(target_valid, predictions_valid_forest))\n",
    "print('F1-мера:', f1_score(target_valid, predictions_valid_forest))\n",
    "\n",
    "probabilities_valid = model_forest.predict_proba(features_valid)\n",
    "probabilities_one_valid = probabilities_valid[:, 1]\n",
    " \n",
    "auc_roc_forest = roc_auc_score(target_valid, probabilities_one_valid)\n",
    "print('AUC-ROC:', auc_roc_forest)"
   ]
  },
  {
   "cell_type": "markdown",
   "metadata": {},
   "source": [
    "**Логистическая регрессия**"
   ]
  },
  {
   "cell_type": "code",
   "execution_count": 47,
   "metadata": {},
   "outputs": [],
   "source": [
    "model_log = LogisticRegression(random_state=12345,\n",
    "                               solver='liblinear')\n",
    "model_log.fit(features_downsampled, target_downsampled)\n",
    "predictions_valid_log = model_log.predict(features_valid)"
   ]
  },
  {
   "cell_type": "code",
   "execution_count": 48,
   "metadata": {},
   "outputs": [
    {
     "name": "stdout",
     "output_type": "stream",
     "text": [
      "Правильность: 0.699\n",
      "Полнота: 0.6956521739130435\n",
      "Точность: 0.36026490066225164\n",
      "F1-мера: 0.47469458987783597\n",
      "AUC-ROC: 0.7736819266307328\n"
     ]
    }
   ],
   "source": [
    "print('Правильность:', accuracy_score(target_valid, predictions_valid_log))\n",
    "print('Полнота:', recall_score(target_valid, predictions_valid_log))\n",
    "print('Точность:', precision_score(target_valid, predictions_valid_log))\n",
    "print('F1-мера:', f1_score(target_valid, predictions_valid_log))\n",
    "\n",
    "probabilities_valid = model_log.predict_proba(features_valid)\n",
    "probabilities_one_valid = probabilities_valid[:, 1]\n",
    " \n",
    "auc_roc_log = roc_auc_score(target_valid, probabilities_one_valid)\n",
    "print('AUC-ROC:', auc_roc_log)"
   ]
  },
  {
   "cell_type": "markdown",
   "metadata": {},
   "source": [
    "Выведем полученные результыты в таблицу."
   ]
  },
  {
   "cell_type": "code",
   "execution_count": 49,
   "metadata": {},
   "outputs": [
    {
     "data": {
      "text/html": [
       "<div>\n",
       "<style scoped>\n",
       "    .dataframe tbody tr th:only-of-type {\n",
       "        vertical-align: middle;\n",
       "    }\n",
       "\n",
       "    .dataframe tbody tr th {\n",
       "        vertical-align: top;\n",
       "    }\n",
       "\n",
       "    .dataframe thead th {\n",
       "        text-align: right;\n",
       "    }\n",
       "</style>\n",
       "<table border=\"1\" class=\"dataframe\">\n",
       "  <thead>\n",
       "    <tr style=\"text-align: right;\">\n",
       "      <th></th>\n",
       "      <th>Правильность</th>\n",
       "      <th>Полнота</th>\n",
       "      <th>Точность</th>\n",
       "      <th>F1-мера</th>\n",
       "      <th>AUC-ROC</th>\n",
       "    </tr>\n",
       "  </thead>\n",
       "  <tbody>\n",
       "    <tr>\n",
       "      <th>DecisionTreeClassifier</th>\n",
       "      <td>0.75</td>\n",
       "      <td>0.74</td>\n",
       "      <td>0.43</td>\n",
       "      <td>0.56</td>\n",
       "      <td>0.81</td>\n",
       "    </tr>\n",
       "    <tr>\n",
       "      <th>RandomForestClassifier</th>\n",
       "      <td>0.78</td>\n",
       "      <td>0.7</td>\n",
       "      <td>0.46</td>\n",
       "      <td>0.56</td>\n",
       "      <td>0.84</td>\n",
       "    </tr>\n",
       "    <tr>\n",
       "      <th>LogisticRegression</th>\n",
       "      <td>0.7</td>\n",
       "      <td>0.69</td>\n",
       "      <td>0.36</td>\n",
       "      <td>0.47</td>\n",
       "      <td>0.77</td>\n",
       "    </tr>\n",
       "  </tbody>\n",
       "</table>\n",
       "</div>"
      ],
      "text/plain": [
       "                       Правильность Полнота Точность F1-мера AUC-ROC\n",
       "DecisionTreeClassifier         0.75    0.74     0.43    0.56    0.81\n",
       "RandomForestClassifier         0.78     0.7     0.46    0.56    0.84\n",
       "LogisticRegression              0.7    0.69     0.36    0.47    0.77"
      ]
     },
     "metadata": {},
     "output_type": "display_data"
    }
   ],
   "source": [
    "result = [['0.75', '0.74', '0.43','0.56','0.81'],\n",
    "          ['0.78','0.7','0.46','0.56','0.84'],\n",
    "          ['0.7','0.69','0.36','0.47','0.77']]\n",
    "model = ['DecisionTreeClassifier','RandomForestClassifier','LogisticRegression']\n",
    "value_models = pd.DataFrame(data=result,index=model, \n",
    "                            columns=['Правильность', \n",
    "                                     'Полнота', \n",
    "                                     'Точность', \n",
    "                                     'F1-мера',\n",
    "                                     'AUC-ROC'])\n",
    "display(value_models)"
   ]
  },
  {
   "cell_type": "markdown",
   "metadata": {},
   "source": [
    "### 3. Увеличение выборки."
   ]
  },
  {
   "cell_type": "code",
   "execution_count": 50,
   "metadata": {},
   "outputs": [
    {
     "name": "stdout",
     "output_type": "stream",
     "text": [
      "(9657, 11)\n",
      "(9657,)\n"
     ]
    }
   ],
   "source": [
    "def upsample(features, target, repeat):\n",
    "    features_zeros = features[target == 0]\n",
    "    features_ones = features[target == 1]\n",
    "    target_zeros = target[target == 0]\n",
    "    target_ones = target[target == 1]\n",
    "    \n",
    "    features_upsampled = pd.concat([features_zeros] + [features_ones] * repeat)\n",
    "    target_upsampled = pd.concat([target_zeros] + [target_ones] * repeat)\n",
    "    \n",
    "    features_upsampled, target_upsampled = shuffle(\n",
    "        features_upsampled,target_upsampled, random_state=12345)\n",
    "    \n",
    "    return features_upsampled, target_upsampled\n",
    "\n",
    "features_upsampled, target_upsampled = upsample(features_train, target_train, 4)\n",
    "\n",
    "print(features_upsampled.shape)\n",
    "print(target_upsampled.shape)"
   ]
  },
  {
   "cell_type": "markdown",
   "metadata": {},
   "source": [
    "**Дерево решений**"
   ]
  },
  {
   "cell_type": "markdown",
   "metadata": {},
   "source": [
    "Подберем оптимальные значения гиперпараметров."
   ]
  },
  {
   "cell_type": "code",
   "execution_count": 51,
   "metadata": {},
   "outputs": [
    {
     "name": "stdout",
     "output_type": "stream",
     "text": [
      "Оптимальная глубина дерева: 6\n",
      "Качество модели:  0.5572441742654509\n"
     ]
    }
   ],
   "source": [
    "best_model = 0\n",
    "best_f1 = 0\n",
    "for depth in range(1, 10):\n",
    "    model_tree = DecisionTreeClassifier(random_state=12345,\n",
    "                                        max_depth=depth)\n",
    "    model_tree.fit(features_upsampled, target_upsampled)\n",
    "    predictions_valid_tree = model_tree.predict(features_valid)\n",
    "    f1_tree = f1_score(target_valid, predictions_valid_tree)\n",
    "    if f1_tree > best_f1:\n",
    "        best_model = model_tree\n",
    "        best_depth = depth\n",
    "        best_f1 = f1_tree\n",
    "\n",
    "print('Оптимальная глубина дерева:', best_depth) \n",
    "print('Качество модели: ', best_f1)"
   ]
  },
  {
   "cell_type": "markdown",
   "metadata": {},
   "source": [
    "Обучим модель с учетом этих параметров."
   ]
  },
  {
   "cell_type": "code",
   "execution_count": 52,
   "metadata": {},
   "outputs": [],
   "source": [
    "model_tree = DecisionTreeClassifier(random_state=12345,\n",
    "                                   max_depth=6)\n",
    "model_tree.fit(features_upsampled, target_upsampled)\n",
    "predictions_valid_tree = model_tree.predict(features_valid)"
   ]
  },
  {
   "cell_type": "code",
   "execution_count": 53,
   "metadata": {},
   "outputs": [
    {
     "name": "stdout",
     "output_type": "stream",
     "text": [
      "Правильность: 0.7815\n",
      "Полнота: 0.7033248081841432\n",
      "Точность: 0.46140939597315433\n",
      "F1-мера: 0.5572441742654509\n",
      "AUC-ROC: 0.8065127583175837\n"
     ]
    }
   ],
   "source": [
    "print('Правильность:', accuracy_score(target_valid, predictions_valid_tree))\n",
    "print('Полнота:', recall_score(target_valid, predictions_valid_tree))\n",
    "print('Точность:', precision_score(target_valid, predictions_valid_tree))\n",
    "print('F1-мера:', f1_score(target_valid, predictions_valid_tree))\n",
    "\n",
    "probabilities_valid = model_tree.predict_proba(features_valid)\n",
    "probabilities_one_valid = probabilities_valid[:, 1]\n",
    " \n",
    "auc_roc_tree = roc_auc_score(target_valid, probabilities_one_valid)\n",
    "print('AUC-ROC:', auc_roc_tree)"
   ]
  },
  {
   "cell_type": "markdown",
   "metadata": {},
   "source": [
    "**Случайный лес**"
   ]
  },
  {
   "cell_type": "markdown",
   "metadata": {},
   "source": [
    "Подберем оптимальные значения гиперпараметров."
   ]
  },
  {
   "cell_type": "code",
   "execution_count": 54,
   "metadata": {},
   "outputs": [
    {
     "name": "stdout",
     "output_type": "stream",
     "text": [
      "Оптимальное количество оценок: 20\n",
      "Оптимальная глубина дерева: 6\n",
      "Качество модели: 0.6059225512528474\n"
     ]
    }
   ],
   "source": [
    "best_model = 0\n",
    "best_f1 =0\n",
    "for est in range(10, 101, 10):\n",
    "    for depth in range(1, 11):\n",
    "        model_forest = RandomForestClassifier(random_state=12345,\n",
    "                                             n_estimators=est,\n",
    "                                             max_depth=depth,\n",
    "                                             class_weight='balanced')\n",
    "        model_forest.fit(features_upsampled, target_upsampled)\n",
    "        predictions_valid_forest = model_forest.predict(features_valid)\n",
    "        f1_forest = f1_score(target_valid,predictions_valid_forest)\n",
    "        if f1_forest > best_f1:\n",
    "            best_model = model_forest\n",
    "            best_est = est\n",
    "            dest_depth = depth\n",
    "            best_f1 = f1_forest\n",
    "\n",
    "print('Оптимальное количество оценок:', best_est)\n",
    "print('Оптимальная глубина дерева:', best_depth)\n",
    "print('Качество модели:', best_f1)"
   ]
  },
  {
   "cell_type": "markdown",
   "metadata": {},
   "source": [
    "Обучим модель с учетом этих параметров."
   ]
  },
  {
   "cell_type": "code",
   "execution_count": 55,
   "metadata": {},
   "outputs": [],
   "source": [
    "model_forest = RandomForestClassifier(random_state=12345, \n",
    "                                      n_estimators=20, \n",
    "                                      max_depth=6)\n",
    "model_forest.fit(features_upsampled, target_upsampled)\n",
    "predictions_valid_forest = model_forest.predict(features_valid)"
   ]
  },
  {
   "cell_type": "code",
   "execution_count": 56,
   "metadata": {
    "scrolled": true
   },
   "outputs": [
    {
     "name": "stdout",
     "output_type": "stream",
     "text": [
      "Правильность: 0.7945\n",
      "Полнота: 0.680306905370844\n",
      "Точность: 0.48188405797101447\n",
      "F1-мера: 0.5641569459172853\n",
      "AUC-ROC: 0.8507452485141921\n"
     ]
    }
   ],
   "source": [
    "print('Правильность:', accuracy_score(target_valid, predictions_valid_forest))\n",
    "print('Полнота:', recall_score(target_valid, predictions_valid_forest))\n",
    "print('Точность:', precision_score(target_valid, predictions_valid_forest))\n",
    "print('F1-мера:', f1_score(target_valid, predictions_valid_forest))\n",
    "\n",
    "probabilities_valid = model_forest.predict_proba(features_valid)\n",
    "probabilities_one_valid = probabilities_valid[:, 1]\n",
    " \n",
    "auc_roc_forest = roc_auc_score(target_valid, probabilities_one_valid)\n",
    "print('AUC-ROC:', auc_roc_forest)"
   ]
  },
  {
   "cell_type": "markdown",
   "metadata": {},
   "source": [
    "**Логистическая регрессия**"
   ]
  },
  {
   "cell_type": "code",
   "execution_count": 57,
   "metadata": {},
   "outputs": [],
   "source": [
    "model_log = LogisticRegression(random_state=12345,\n",
    "                               solver='liblinear')\n",
    "model_log.fit(features_upsampled, target_upsampled)\n",
    "predictions_valid_log = model_log.predict(features_valid)"
   ]
  },
  {
   "cell_type": "code",
   "execution_count": 58,
   "metadata": {},
   "outputs": [
    {
     "name": "stdout",
     "output_type": "stream",
     "text": [
      "Правильность: 0.701\n",
      "Полнота: 0.690537084398977\n",
      "Точность: 0.3614457831325301\n",
      "F1-мера: 0.47451669595782076\n",
      "AUC-ROC: 0.7725565433566624\n"
     ]
    }
   ],
   "source": [
    "print('Правильность:', accuracy_score(target_valid, predictions_valid_log))\n",
    "print('Полнота:', recall_score(target_valid, predictions_valid_log))\n",
    "print('Точность:', precision_score(target_valid, predictions_valid_log))\n",
    "print('F1-мера:', f1_score(target_valid, predictions_valid_log))\n",
    "\n",
    "probabilities_valid = model_log.predict_proba(features_valid)\n",
    "probabilities_one_valid = probabilities_valid[:, 1]\n",
    " \n",
    "auc_roc_log = roc_auc_score(target_valid, probabilities_one_valid)\n",
    "print('AUC-ROC:', auc_roc_log)"
   ]
  },
  {
   "cell_type": "markdown",
   "metadata": {},
   "source": [
    "Выведем полученные данные в таблицу"
   ]
  },
  {
   "cell_type": "code",
   "execution_count": 59,
   "metadata": {},
   "outputs": [
    {
     "data": {
      "text/html": [
       "<div>\n",
       "<style scoped>\n",
       "    .dataframe tbody tr th:only-of-type {\n",
       "        vertical-align: middle;\n",
       "    }\n",
       "\n",
       "    .dataframe tbody tr th {\n",
       "        vertical-align: top;\n",
       "    }\n",
       "\n",
       "    .dataframe thead th {\n",
       "        text-align: right;\n",
       "    }\n",
       "</style>\n",
       "<table border=\"1\" class=\"dataframe\">\n",
       "  <thead>\n",
       "    <tr style=\"text-align: right;\">\n",
       "      <th></th>\n",
       "      <th>Правильность</th>\n",
       "      <th>Полнота</th>\n",
       "      <th>Точность</th>\n",
       "      <th>F1-мера</th>\n",
       "      <th>AUC-ROC</th>\n",
       "    </tr>\n",
       "  </thead>\n",
       "  <tbody>\n",
       "    <tr>\n",
       "      <th>DecisionTreeClassifier</th>\n",
       "      <td>0.78</td>\n",
       "      <td>0.7</td>\n",
       "      <td>0.46</td>\n",
       "      <td>0.56</td>\n",
       "      <td>0.86</td>\n",
       "    </tr>\n",
       "    <tr>\n",
       "      <th>RandomForestClassifier</th>\n",
       "      <td>0.79</td>\n",
       "      <td>0.68</td>\n",
       "      <td>0.48</td>\n",
       "      <td>0.56</td>\n",
       "      <td>0.85</td>\n",
       "    </tr>\n",
       "    <tr>\n",
       "      <th>LogisticRegression</th>\n",
       "      <td>0.7</td>\n",
       "      <td>0.69</td>\n",
       "      <td>0.36</td>\n",
       "      <td>0.47</td>\n",
       "      <td>0.77</td>\n",
       "    </tr>\n",
       "  </tbody>\n",
       "</table>\n",
       "</div>"
      ],
      "text/plain": [
       "                       Правильность Полнота Точность F1-мера AUC-ROC\n",
       "DecisionTreeClassifier         0.78     0.7     0.46    0.56    0.86\n",
       "RandomForestClassifier         0.79    0.68     0.48    0.56    0.85\n",
       "LogisticRegression              0.7    0.69     0.36    0.47    0.77"
      ]
     },
     "metadata": {},
     "output_type": "display_data"
    }
   ],
   "source": [
    "result = [['0.78', '0.7', '0.46','0.56','0.86'],\n",
    "          ['0.79','0.68','0.48','0.56','0.85'],\n",
    "          ['0.7','0.69','0.36','0.47','0.77']]\n",
    "model = ['DecisionTreeClassifier','RandomForestClassifier','LogisticRegression']\n",
    "value_models = pd.DataFrame(data=result,index=model, \n",
    "                            columns=['Правильность', \n",
    "                                     'Полнота', \n",
    "                                     'Точность', \n",
    "                                     'F1-мера',\n",
    "                                     'AUC-ROC'])\n",
    "display(value_models)"
   ]
  },
  {
   "cell_type": "markdown",
   "metadata": {},
   "source": [
    "**Выводы:**\n",
    "\n",
    "Для борьбы с дисбалансом мы использовали следущие методы: взвешивание классов, уменьшение и увеличение выборки.\n",
    "* Уменьшение и увеличение выборки особо не влияют на изменение F1-меры.\n",
    "* Наилучший результат получила модель случайного леса при возвышении классов. F1-мера была равна 0,57. Наилучшие для данной модели гиперпараметры это количество оценок равное 80, глубина дерева 6.    \n",
    "* Значение AUC-ROC всегда выше F1 и колеблится в районе от 70-90%."
   ]
  },
  {
   "cell_type": "markdown",
   "metadata": {},
   "source": [
    "## Тестирование модели"
   ]
  },
  {
   "cell_type": "markdown",
   "metadata": {},
   "source": [
    "Обучим выбранную нами модель на тестовой выборке."
   ]
  },
  {
   "cell_type": "code",
   "execution_count": 60,
   "metadata": {},
   "outputs": [
    {
     "name": "stdout",
     "output_type": "stream",
     "text": [
      "Правильность: 0.814\n",
      "Полнота: 0.7423887587822015\n",
      "Точность: 0.5474956822107081\n",
      "F1-мера: 0.6302186878727634\n",
      "AUC-ROC: 0.8632649020130392\n"
     ]
    }
   ],
   "source": [
    "model_forest = RandomForestClassifier(random_state=12345, \n",
    "                                      n_estimators=80, \n",
    "                                      max_depth=6,\n",
    "                                     class_weight='balanced')\n",
    "model_forest.fit(features_train, target_train)\n",
    "predictions_test_forest = model_forest.predict(features_test)\n",
    "\n",
    "print('Правильность:', accuracy_score(target_test, predictions_test_forest))\n",
    "print('Полнота:', recall_score(target_test, predictions_test_forest))\n",
    "print('Точность:', precision_score(target_test, predictions_test_forest))\n",
    "print('F1-мера:', f1_score(target_test, predictions_test_forest))\n",
    "\n",
    "probabilities_test = model_forest.predict_proba(features_test)\n",
    "probabilities_one_test = probabilities_test[:, 1]\n",
    " \n",
    "auc_roc_forest = roc_auc_score(target_test, probabilities_one_test)\n",
    "print('AUC-ROC:', auc_roc_forest)"
   ]
  },
  {
   "cell_type": "markdown",
   "metadata": {},
   "source": [
    "Построим ROC-кривую для нашей модели"
   ]
  },
  {
   "cell_type": "code",
   "execution_count": 61,
   "metadata": {
    "scrolled": true
   },
   "outputs": [
    {
     "data": {
      "image/png": "[encoded data removed]",
      "text/plain": [
       "<Figure size 640x480 with 1 Axes>"
      ]
     },
     "metadata": {},
     "output_type": "display_data"
    }
   ],
   "source": [
    "fpr, tpr, thresholds = roc_curve(target_test, probabilities_one_test)\n",
    "\n",
    "plt.figure()\n",
    "plt.plot(fpr, tpr)\n",
    "plt.xlim([0.0, 1.0])\n",
    "plt.ylim([0.0, 1.0])\n",
    "plt.xlabel('False Positive Rate')\n",
    "plt.ylabel('True Positive Rate')\n",
    "plt.title('ROC-кривая')\n",
    "plt.plot([0, 1], [0, 1], linestyle='--')\n",
    "\n",
    "plt.show()"
   ]
  },
  {
   "cell_type": "markdown",
   "metadata": {},
   "source": [
    "# Вывод по проекту"
   ]
  },
  {
   "cell_type": "markdown",
   "metadata": {},
   "source": [
    "Перед тем как разделять данные на выборки была проведена подготовка данных:\n",
    " * Заполнили пропуски в данных, а именно в столбце tenure.\n",
    " * преобразовали название столбцов к нижнему регистру.\n",
    "Разделели данные на выборки, избавившись от некоторых столбцов, которые не вдияют на качество обучения.\n",
    "\n",
    "Изучили модель на качество и выявили дисбаланс классов.\n",
    "\n",
    "Проверив модели по матрицы оштбок выявили, что у каждой из них присутсвует довольно сильный дисбаланс классов.\n",
    "\n",
    "Были проведены 3 метода по борьбе с дисбалансом (уменьшение, увеличение выборки и возвышения классов). Исходя из проделанной работы была выявлена наилучшая модель(случайный лес) с набольшим значением F1-мерой(0,605). Значение AUC-ROC во всех моделях показывало значение выше F1-меры.\n",
    "\n",
    "Тестирование модели случайного леса показала следущие значения основных показателей:\n",
    " * F1-мера=0,63\n",
    " * AUC-ROC=0,86"
   ]
  }
 ],
 "metadata": {
  "ExecuteTimeLog": [
   {
    "duration": 446,
    "start_time": "2023-05-02T08:47:45.212Z"
   },
   {
    "duration": 4,
    "start_time": "2023-05-02T08:47:56.935Z"
   },
   {
    "duration": 3,
    "start_time": "2023-05-02T08:48:01.814Z"
   },
   {
    "duration": 3,
    "start_time": "2023-05-02T08:48:04.315Z"
   },
   {
    "duration": 166,
    "start_time": "2023-05-02T08:49:09.816Z"
   },
   {
    "duration": 65,
    "start_time": "2023-05-02T08:49:13.933Z"
   },
   {
    "duration": 73,
    "start_time": "2023-05-02T08:49:17.131Z"
   },
   {
    "duration": 24,
    "start_time": "2023-05-02T08:49:34.047Z"
   },
   {
    "duration": 17,
    "start_time": "2023-05-02T08:50:44.182Z"
   },
   {
    "duration": 47,
    "start_time": "2023-05-02T08:51:04.036Z"
   },
   {
    "duration": 1338,
    "start_time": "2023-05-02T08:52:50.119Z"
   },
   {
    "duration": 97,
    "start_time": "2023-05-02T08:57:17.783Z"
   },
   {
    "duration": 179,
    "start_time": "2023-05-02T08:57:20.016Z"
   },
   {
    "duration": 23,
    "start_time": "2023-05-02T08:57:53.917Z"
   },
   {
    "duration": 8,
    "start_time": "2023-05-02T08:58:02.231Z"
   },
   {
    "duration": 1569,
    "start_time": "2023-05-02T09:01:48.936Z"
   },
   {
    "duration": 115,
    "start_time": "2023-05-02T09:03:19.948Z"
   },
   {
    "duration": 12,
    "start_time": "2023-05-02T09:03:25.507Z"
   },
   {
    "duration": 11,
    "start_time": "2023-05-02T09:03:29.930Z"
   },
   {
    "duration": 13,
    "start_time": "2023-05-02T09:03:36.790Z"
   },
   {
    "duration": 4,
    "start_time": "2023-05-02T09:03:58.596Z"
   },
   {
    "duration": 8,
    "start_time": "2023-05-02T09:04:01.219Z"
   },
   {
    "duration": 5,
    "start_time": "2023-05-02T09:06:10.679Z"
   },
   {
    "duration": 9,
    "start_time": "2023-05-02T09:06:21.282Z"
   },
   {
    "duration": 56,
    "start_time": "2023-05-02T09:09:43.658Z"
   },
   {
    "duration": 5,
    "start_time": "2023-05-02T09:10:13.673Z"
   },
   {
    "duration": 5,
    "start_time": "2023-05-02T09:11:16.762Z"
   },
   {
    "duration": 12,
    "start_time": "2023-05-02T09:11:29.736Z"
   },
   {
    "duration": 25,
    "start_time": "2023-05-02T09:11:59.920Z"
   },
   {
    "duration": 14,
    "start_time": "2023-05-02T09:12:09.026Z"
   },
   {
    "duration": 3,
    "start_time": "2023-05-02T09:12:41.181Z"
   },
   {
    "duration": 17,
    "start_time": "2023-05-02T09:13:04.723Z"
   },
   {
    "duration": 816,
    "start_time": "2023-05-02T09:14:36.324Z"
   },
   {
    "duration": 14,
    "start_time": "2023-05-02T09:14:53.172Z"
   },
   {
    "duration": 23,
    "start_time": "2023-05-02T09:15:05.405Z"
   },
   {
    "duration": 18,
    "start_time": "2023-05-02T09:15:29.827Z"
   },
   {
    "duration": 14,
    "start_time": "2023-05-02T09:15:34.420Z"
   },
   {
    "duration": 19,
    "start_time": "2023-05-02T09:15:40.353Z"
   },
   {
    "duration": 18,
    "start_time": "2023-05-02T09:16:07.460Z"
   },
   {
    "duration": 14,
    "start_time": "2023-05-02T09:16:37.523Z"
   },
   {
    "duration": 17,
    "start_time": "2023-05-02T09:16:50.524Z"
   },
   {
    "duration": 17,
    "start_time": "2023-05-02T09:21:40.436Z"
   },
   {
    "duration": 15,
    "start_time": "2023-05-02T09:22:14.133Z"
   },
   {
    "duration": 15,
    "start_time": "2023-05-02T09:22:26.924Z"
   },
   {
    "duration": 3,
    "start_time": "2023-05-02T09:28:23.714Z"
   },
   {
    "duration": 11,
    "start_time": "2023-05-02T09:32:51.419Z"
   },
   {
    "duration": 11,
    "start_time": "2023-05-02T09:35:08.931Z"
   },
   {
    "duration": 4,
    "start_time": "2023-05-02T09:35:18.324Z"
   },
   {
    "duration": 15,
    "start_time": "2023-05-02T09:35:28.526Z"
   },
   {
    "duration": 17,
    "start_time": "2023-05-02T09:36:21.538Z"
   },
   {
    "duration": 15,
    "start_time": "2023-05-02T09:36:41.328Z"
   },
   {
    "duration": 15,
    "start_time": "2023-05-02T09:36:45.780Z"
   },
   {
    "duration": 4,
    "start_time": "2023-05-02T09:38:58.736Z"
   },
   {
    "duration": 48,
    "start_time": "2023-05-02T09:40:41.717Z"
   },
   {
    "duration": 4,
    "start_time": "2023-05-02T09:41:52.667Z"
   },
   {
    "duration": 4,
    "start_time": "2023-05-02T09:42:29.448Z"
   },
   {
    "duration": 125,
    "start_time": "2023-05-02T09:56:33.113Z"
   },
   {
    "duration": 47,
    "start_time": "2023-05-02T10:00:50.611Z"
   },
   {
    "duration": 47,
    "start_time": "2023-05-02T10:00:52.968Z"
   },
   {
    "duration": 3,
    "start_time": "2023-05-02T10:01:49.109Z"
   },
   {
    "duration": 6,
    "start_time": "2023-05-02T10:01:55.627Z"
   },
   {
    "duration": 33,
    "start_time": "2023-05-02T10:15:23.315Z"
   },
   {
    "duration": 44,
    "start_time": "2023-05-02T10:22:06.056Z"
   },
   {
    "duration": 47,
    "start_time": "2023-05-02T10:22:25.554Z"
   },
   {
    "duration": 15,
    "start_time": "2023-05-02T10:22:43.235Z"
   },
   {
    "duration": 153,
    "start_time": "2023-05-02T10:22:56.202Z"
   },
   {
    "duration": 6,
    "start_time": "2023-05-02T10:24:17.898Z"
   },
   {
    "duration": 165,
    "start_time": "2023-05-02T10:26:43.838Z"
   },
   {
    "duration": 188,
    "start_time": "2023-05-02T10:26:51.685Z"
   },
   {
    "duration": 152,
    "start_time": "2023-05-02T10:27:20.611Z"
   },
   {
    "duration": 151,
    "start_time": "2023-05-02T10:27:38.202Z"
   },
   {
    "duration": 23,
    "start_time": "2023-05-02T10:29:59.639Z"
   },
   {
    "duration": 24,
    "start_time": "2023-05-02T10:30:05.095Z"
   },
   {
    "duration": 54,
    "start_time": "2023-05-02T10:30:49.981Z"
   },
   {
    "duration": 51,
    "start_time": "2023-05-02T10:31:11.447Z"
   },
   {
    "duration": 4,
    "start_time": "2023-05-02T10:34:19.113Z"
   },
   {
    "duration": 5,
    "start_time": "2023-05-02T10:34:22.718Z"
   },
   {
    "duration": 11,
    "start_time": "2023-05-02T10:37:47.110Z"
   },
   {
    "duration": 20444,
    "start_time": "2023-05-02T10:38:39.754Z"
   },
   {
    "duration": 1234,
    "start_time": "2023-05-02T13:16:16.220Z"
   },
   {
    "duration": 5,
    "start_time": "2023-05-02T13:16:19.170Z"
   },
   {
    "duration": 72,
    "start_time": "2023-05-02T13:16:19.517Z"
   },
   {
    "duration": 19,
    "start_time": "2023-05-02T13:16:20.119Z"
   },
   {
    "duration": 11,
    "start_time": "2023-05-02T13:16:21.048Z"
   },
   {
    "duration": 39,
    "start_time": "2023-05-02T13:16:21.526Z"
   },
   {
    "duration": 4,
    "start_time": "2023-05-02T13:16:22.371Z"
   },
   {
    "duration": 8,
    "start_time": "2023-05-02T13:16:23.115Z"
   },
   {
    "duration": 3,
    "start_time": "2023-05-02T13:16:23.939Z"
   },
   {
    "duration": 8,
    "start_time": "2023-05-02T13:16:24.456Z"
   },
   {
    "duration": 4,
    "start_time": "2023-05-02T13:16:25.222Z"
   },
   {
    "duration": 10,
    "start_time": "2023-05-02T13:16:27.818Z"
   },
   {
    "duration": 11,
    "start_time": "2023-05-02T13:16:29.644Z"
   },
   {
    "duration": 16,
    "start_time": "2023-05-02T13:16:31.104Z"
   },
   {
    "duration": 13,
    "start_time": "2023-05-02T13:16:31.951Z"
   },
   {
    "duration": 13,
    "start_time": "2023-05-02T13:16:32.421Z"
   },
   {
    "duration": 4,
    "start_time": "2023-05-02T13:16:33.220Z"
   },
   {
    "duration": 3,
    "start_time": "2023-05-02T13:16:33.680Z"
   },
   {
    "duration": 4,
    "start_time": "2023-05-02T13:16:34.020Z"
   },
   {
    "duration": 602,
    "start_time": "2023-05-02T13:16:36.721Z"
   },
   {
    "duration": 9,
    "start_time": "2023-05-02T13:16:38.814Z"
   },
   {
    "duration": 168,
    "start_time": "2023-05-02T13:16:40.569Z"
   },
   {
    "duration": 26,
    "start_time": "2023-05-02T13:16:41.606Z"
   },
   {
    "duration": 11,
    "start_time": "2023-05-02T13:16:42.320Z"
   },
   {
    "duration": 19569,
    "start_time": "2023-05-02T13:16:43.587Z"
   },
   {
    "duration": 19380,
    "start_time": "2023-05-02T13:22:14.258Z"
   },
   {
    "duration": 173,
    "start_time": "2023-05-02T13:23:48.829Z"
   },
   {
    "duration": 17,
    "start_time": "2023-05-02T13:24:13.021Z"
   },
   {
    "duration": 20686,
    "start_time": "2023-05-02T13:24:24.522Z"
   },
   {
    "duration": 20371,
    "start_time": "2023-05-02T13:24:52.363Z"
   },
   {
    "duration": 19633,
    "start_time": "2023-05-02T13:25:41.542Z"
   },
   {
    "duration": 19913,
    "start_time": "2023-05-02T13:26:35.129Z"
   },
   {
    "duration": 19321,
    "start_time": "2023-05-02T13:27:09.327Z"
   },
   {
    "duration": 36,
    "start_time": "2023-05-02T13:33:40.226Z"
   },
   {
    "duration": 18906,
    "start_time": "2023-05-02T13:34:09.826Z"
   },
   {
    "duration": 20253,
    "start_time": "2023-05-02T13:34:50.968Z"
   },
   {
    "duration": 18657,
    "start_time": "2023-05-02T13:35:28.045Z"
   },
   {
    "duration": 344,
    "start_time": "2023-05-02T13:39:31.520Z"
   },
   {
    "duration": 19159,
    "start_time": "2023-05-02T13:39:36.386Z"
   },
   {
    "duration": 18983,
    "start_time": "2023-05-02T13:40:14.857Z"
   },
   {
    "duration": 5,
    "start_time": "2023-05-02T13:41:16.461Z"
   },
   {
    "duration": 18029,
    "start_time": "2023-05-02T13:42:38.164Z"
   },
   {
    "duration": 42,
    "start_time": "2023-05-02T13:43:20.910Z"
   },
   {
    "duration": 287,
    "start_time": "2023-05-02T13:43:29.310Z"
   },
   {
    "duration": 11,
    "start_time": "2023-05-02T13:44:30.250Z"
   },
   {
    "duration": 17004,
    "start_time": "2023-05-02T13:46:01.487Z"
   },
   {
    "duration": 16742,
    "start_time": "2023-05-02T13:46:27.389Z"
   },
   {
    "duration": 16742,
    "start_time": "2023-05-02T13:47:00.452Z"
   },
   {
    "duration": 13910,
    "start_time": "2023-05-02T13:47:39.276Z"
   },
   {
    "duration": 45,
    "start_time": "2023-05-02T13:48:14.029Z"
   },
   {
    "duration": 4,
    "start_time": "2023-05-02T13:48:21.815Z"
   },
   {
    "duration": 3,
    "start_time": "2023-05-02T13:48:22.017Z"
   },
   {
    "duration": 132,
    "start_time": "2023-05-02T13:48:22.460Z"
   },
   {
    "duration": 20,
    "start_time": "2023-05-02T13:48:22.753Z"
   },
   {
    "duration": 13,
    "start_time": "2023-05-02T13:48:23.253Z"
   },
   {
    "duration": 39,
    "start_time": "2023-05-02T13:48:23.489Z"
   },
   {
    "duration": 3,
    "start_time": "2023-05-02T13:48:23.951Z"
   },
   {
    "duration": 7,
    "start_time": "2023-05-02T13:48:24.374Z"
   },
   {
    "duration": 3,
    "start_time": "2023-05-02T13:48:24.766Z"
   },
   {
    "duration": 8,
    "start_time": "2023-05-02T13:48:24.965Z"
   },
   {
    "duration": 5,
    "start_time": "2023-05-02T13:48:25.372Z"
   },
   {
    "duration": 9,
    "start_time": "2023-05-02T13:48:25.576Z"
   },
   {
    "duration": 11,
    "start_time": "2023-05-02T13:48:25.806Z"
   },
   {
    "duration": 10,
    "start_time": "2023-05-02T13:48:26.177Z"
   },
   {
    "duration": 14,
    "start_time": "2023-05-02T13:48:26.624Z"
   },
   {
    "duration": 12,
    "start_time": "2023-05-02T13:48:26.916Z"
   },
   {
    "duration": 3,
    "start_time": "2023-05-02T13:48:27.485Z"
   },
   {
    "duration": 3,
    "start_time": "2023-05-02T13:48:27.719Z"
   },
   {
    "duration": 3,
    "start_time": "2023-05-02T13:48:28.018Z"
   },
   {
    "duration": 349,
    "start_time": "2023-05-02T13:48:29.328Z"
   },
   {
    "duration": 4,
    "start_time": "2023-05-02T13:48:30.181Z"
   },
   {
    "duration": 142,
    "start_time": "2023-05-02T13:48:31.259Z"
   },
   {
    "duration": 20,
    "start_time": "2023-05-02T13:48:32.688Z"
   },
   {
    "duration": 10,
    "start_time": "2023-05-02T13:48:33.033Z"
   },
   {
    "duration": 13650,
    "start_time": "2023-05-02T13:48:34.421Z"
   },
   {
    "duration": 13884,
    "start_time": "2023-05-02T13:49:26.417Z"
   },
   {
    "duration": 14116,
    "start_time": "2023-05-02T13:51:07.640Z"
   },
   {
    "duration": 17106,
    "start_time": "2023-05-02T13:51:33.632Z"
   },
   {
    "duration": 16962,
    "start_time": "2023-05-02T13:52:10.820Z"
   },
   {
    "duration": 17478,
    "start_time": "2023-05-02T13:52:44.372Z"
   },
   {
    "duration": 4,
    "start_time": "2023-05-02T13:53:43.823Z"
   },
   {
    "duration": 17422,
    "start_time": "2023-05-02T13:53:49.575Z"
   },
   {
    "duration": 16325,
    "start_time": "2023-05-02T13:54:43.128Z"
   },
   {
    "duration": 51,
    "start_time": "2023-05-02T13:57:11.042Z"
   },
   {
    "duration": 10,
    "start_time": "2023-05-02T13:57:41.497Z"
   },
   {
    "duration": 16506,
    "start_time": "2023-05-02T13:58:02.185Z"
   },
   {
    "duration": 5488,
    "start_time": "2023-05-02T13:58:52.923Z"
   },
   {
    "duration": 5531,
    "start_time": "2023-05-02T13:59:22.029Z"
   },
   {
    "duration": 19625,
    "start_time": "2023-05-02T14:10:38.355Z"
   },
   {
    "duration": 19576,
    "start_time": "2023-05-02T14:11:09.536Z"
   },
   {
    "duration": 19124,
    "start_time": "2023-05-02T14:11:30.751Z"
   },
   {
    "duration": 19324,
    "start_time": "2023-05-02T14:12:03.897Z"
   },
   {
    "duration": 19519,
    "start_time": "2023-05-02T14:13:08.237Z"
   },
   {
    "duration": 19838,
    "start_time": "2023-05-02T14:13:48.943Z"
   },
   {
    "duration": 19900,
    "start_time": "2023-05-02T14:14:13.739Z"
   },
   {
    "duration": 436,
    "start_time": "2023-05-02T14:14:41.714Z"
   },
   {
    "duration": 10,
    "start_time": "2023-05-02T14:14:50.151Z"
   },
   {
    "duration": 23119,
    "start_time": "2023-05-02T14:15:27.459Z"
   },
   {
    "duration": 19463,
    "start_time": "2023-05-02T14:15:59.696Z"
   },
   {
    "duration": 5,
    "start_time": "2023-05-02T14:17:18.451Z"
   },
   {
    "duration": 5,
    "start_time": "2023-05-02T14:23:38.051Z"
   },
   {
    "duration": 9,
    "start_time": "2023-05-02T14:24:41.350Z"
   },
   {
    "duration": 4,
    "start_time": "2023-05-02T14:25:45.761Z"
   },
   {
    "duration": 10,
    "start_time": "2023-05-02T14:25:52.510Z"
   },
   {
    "duration": 4,
    "start_time": "2023-05-02T14:27:02.818Z"
   },
   {
    "duration": 4,
    "start_time": "2023-05-02T14:27:14.639Z"
   },
   {
    "duration": 127,
    "start_time": "2023-05-02T14:27:21.331Z"
   },
   {
    "duration": 85,
    "start_time": "2023-05-02T14:28:45.037Z"
   },
   {
    "duration": 242,
    "start_time": "2023-05-02T14:29:08.767Z"
   },
   {
    "duration": 4,
    "start_time": "2023-05-02T14:31:06.812Z"
   },
   {
    "duration": 143,
    "start_time": "2023-05-02T14:31:12.723Z"
   },
   {
    "duration": 10,
    "start_time": "2023-05-02T14:32:24.195Z"
   },
   {
    "duration": 14,
    "start_time": "2023-05-02T14:32:30.677Z"
   },
   {
    "duration": 10,
    "start_time": "2023-05-02T14:34:29.610Z"
   },
   {
    "duration": 196,
    "start_time": "2023-05-02T14:34:35.414Z"
   },
   {
    "duration": 128,
    "start_time": "2023-05-02T14:34:51.798Z"
   },
   {
    "duration": 4,
    "start_time": "2023-05-02T14:36:03.172Z"
   },
   {
    "duration": 126,
    "start_time": "2023-05-02T14:36:12.530Z"
   },
   {
    "duration": 168,
    "start_time": "2023-05-02T14:37:00.438Z"
   },
   {
    "duration": 133,
    "start_time": "2023-05-02T14:37:13.846Z"
   },
   {
    "duration": 311,
    "start_time": "2023-05-02T14:38:09.897Z"
   },
   {
    "duration": 20297,
    "start_time": "2023-05-02T14:40:58.630Z"
   },
   {
    "duration": 1278,
    "start_time": "2023-05-02T17:35:04.352Z"
   },
   {
    "duration": 68,
    "start_time": "2023-05-02T17:35:13.055Z"
   },
   {
    "duration": 24,
    "start_time": "2023-05-02T17:35:13.330Z"
   },
   {
    "duration": 15,
    "start_time": "2023-05-02T17:35:13.780Z"
   },
   {
    "duration": 42,
    "start_time": "2023-05-02T17:35:13.979Z"
   },
   {
    "duration": 4,
    "start_time": "2023-05-02T17:35:14.396Z"
   },
   {
    "duration": 9,
    "start_time": "2023-05-02T17:35:14.853Z"
   },
   {
    "duration": 4,
    "start_time": "2023-05-02T17:35:15.324Z"
   },
   {
    "duration": 9,
    "start_time": "2023-05-02T17:35:15.541Z"
   },
   {
    "duration": 5,
    "start_time": "2023-05-02T17:35:16.066Z"
   },
   {
    "duration": 12,
    "start_time": "2023-05-02T17:35:16.300Z"
   },
   {
    "duration": 13,
    "start_time": "2023-05-02T17:35:16.735Z"
   },
   {
    "duration": 12,
    "start_time": "2023-05-02T17:35:17.475Z"
   },
   {
    "duration": 16,
    "start_time": "2023-05-02T17:35:18.218Z"
   },
   {
    "duration": 14,
    "start_time": "2023-05-02T17:35:18.617Z"
   },
   {
    "duration": 4,
    "start_time": "2023-05-02T17:35:19.421Z"
   },
   {
    "duration": 3,
    "start_time": "2023-05-02T17:35:19.905Z"
   },
   {
    "duration": 4,
    "start_time": "2023-05-02T17:35:20.111Z"
   },
   {
    "duration": 671,
    "start_time": "2023-05-02T17:35:22.306Z"
   },
   {
    "duration": 6,
    "start_time": "2023-05-02T17:35:23.713Z"
   },
   {
    "duration": 159,
    "start_time": "2023-05-02T17:35:24.966Z"
   },
   {
    "duration": 24,
    "start_time": "2023-05-02T17:35:25.899Z"
   },
   {
    "duration": 11,
    "start_time": "2023-05-02T17:35:26.278Z"
   },
   {
    "duration": 23845,
    "start_time": "2023-05-02T17:35:27.575Z"
   },
   {
    "duration": 544,
    "start_time": "2023-05-02T17:36:01.318Z"
   },
   {
    "duration": 11,
    "start_time": "2023-05-02T17:36:01.865Z"
   },
   {
    "duration": 92,
    "start_time": "2023-05-02T17:36:04.026Z"
   },
   {
    "duration": 12,
    "start_time": "2023-05-02T17:36:04.394Z"
   },
   {
    "duration": 154,
    "start_time": "2023-05-02T17:36:05.855Z"
   },
   {
    "duration": 200,
    "start_time": "2023-05-02T17:36:06.380Z"
   },
   {
    "duration": 323,
    "start_time": "2023-05-02T17:36:06.824Z"
   },
   {
    "duration": 157,
    "start_time": "2023-05-02T17:43:15.813Z"
   },
   {
    "duration": 163,
    "start_time": "2023-05-02T17:43:31.008Z"
   },
   {
    "duration": 170,
    "start_time": "2023-05-02T17:44:25.469Z"
   },
   {
    "duration": 25,
    "start_time": "2023-05-02T17:45:21.389Z"
   },
   {
    "duration": 25,
    "start_time": "2023-05-02T17:45:23.506Z"
   },
   {
    "duration": 15,
    "start_time": "2023-05-02T17:45:45.704Z"
   },
   {
    "duration": 13,
    "start_time": "2023-05-02T17:46:43.921Z"
   },
   {
    "duration": 164,
    "start_time": "2023-05-02T17:47:23.478Z"
   },
   {
    "duration": 23624,
    "start_time": "2023-05-02T17:48:55.074Z"
   },
   {
    "duration": 23733,
    "start_time": "2023-05-02T17:49:27.150Z"
   },
   {
    "duration": 37,
    "start_time": "2023-05-02T17:49:50.885Z"
   },
   {
    "duration": 10,
    "start_time": "2023-05-02T17:49:50.924Z"
   },
   {
    "duration": 24,
    "start_time": "2023-05-02T17:49:59.725Z"
   },
   {
    "duration": 11,
    "start_time": "2023-05-02T17:50:00.076Z"
   },
   {
    "duration": 24192,
    "start_time": "2023-05-02T17:50:38.282Z"
   },
   {
    "duration": 544,
    "start_time": "2023-05-02T17:52:24.048Z"
   },
   {
    "duration": 15,
    "start_time": "2023-05-02T17:52:41.137Z"
   },
   {
    "duration": 44,
    "start_time": "2023-05-02T17:53:45.660Z"
   },
   {
    "duration": 54,
    "start_time": "2023-05-02T17:54:15.753Z"
   },
   {
    "duration": 11,
    "start_time": "2023-05-02T17:55:50.879Z"
   },
   {
    "duration": 4,
    "start_time": "2023-05-02T17:59:09.082Z"
   },
   {
    "duration": 23,
    "start_time": "2023-05-02T18:01:57.646Z"
   },
   {
    "duration": 4,
    "start_time": "2023-05-02T18:02:46.398Z"
   },
   {
    "duration": 15,
    "start_time": "2023-05-02T18:02:58.046Z"
   },
   {
    "duration": 26851,
    "start_time": "2023-05-02T18:03:58.521Z"
   },
   {
    "duration": 24748,
    "start_time": "2023-05-02T18:04:48.206Z"
   },
   {
    "duration": 67,
    "start_time": "2023-05-02T18:05:12.956Z"
   },
   {
    "duration": 24016,
    "start_time": "2023-05-02T18:05:20.198Z"
   },
   {
    "duration": 19,
    "start_time": "2023-05-02T18:05:53.971Z"
   },
   {
    "duration": 5,
    "start_time": "2023-05-02T18:17:27.507Z"
   },
   {
    "duration": 209,
    "start_time": "2023-05-02T18:18:33.749Z"
   },
   {
    "duration": 87,
    "start_time": "2023-05-02T18:18:57.212Z"
   },
   {
    "duration": 21,
    "start_time": "2023-05-02T18:19:02.305Z"
   },
   {
    "duration": 23,
    "start_time": "2023-05-02T18:23:07.843Z"
   },
   {
    "duration": 28,
    "start_time": "2023-05-02T18:30:50.271Z"
   },
   {
    "duration": 21,
    "start_time": "2023-05-02T18:37:28.248Z"
   },
   {
    "duration": 17,
    "start_time": "2023-05-02T18:46:47.545Z"
   },
   {
    "duration": 25,
    "start_time": "2023-05-02T18:46:49.168Z"
   },
   {
    "duration": 1234,
    "start_time": "2023-05-04T11:39:55.184Z"
   },
   {
    "duration": 202,
    "start_time": "2023-05-04T11:39:56.420Z"
   },
   {
    "duration": 25,
    "start_time": "2023-05-04T11:39:56.624Z"
   },
   {
    "duration": 15,
    "start_time": "2023-05-04T11:39:56.651Z"
   },
   {
    "duration": 46,
    "start_time": "2023-05-04T11:39:57.292Z"
   },
   {
    "duration": 3,
    "start_time": "2023-05-04T11:39:58.020Z"
   },
   {
    "duration": 8,
    "start_time": "2023-05-04T11:39:58.599Z"
   },
   {
    "duration": 5,
    "start_time": "2023-05-04T11:39:59.114Z"
   },
   {
    "duration": 8,
    "start_time": "2023-05-04T11:39:59.401Z"
   },
   {
    "duration": 6,
    "start_time": "2023-05-04T11:39:59.952Z"
   },
   {
    "duration": 11,
    "start_time": "2023-05-04T11:40:00.215Z"
   },
   {
    "duration": 14,
    "start_time": "2023-05-04T11:40:00.512Z"
   },
   {
    "duration": 19,
    "start_time": "2023-05-04T11:40:01.061Z"
   },
   {
    "duration": 18,
    "start_time": "2023-05-04T11:40:01.602Z"
   },
   {
    "duration": 15,
    "start_time": "2023-05-04T11:40:01.852Z"
   },
   {
    "duration": 4,
    "start_time": "2023-05-04T11:40:02.326Z"
   },
   {
    "duration": 4,
    "start_time": "2023-05-04T11:40:02.589Z"
   },
   {
    "duration": 4,
    "start_time": "2023-05-04T11:40:02.820Z"
   },
   {
    "duration": 605,
    "start_time": "2023-05-04T11:40:04.093Z"
   },
   {
    "duration": 6,
    "start_time": "2023-05-04T11:40:05.699Z"
   },
   {
    "duration": 173,
    "start_time": "2023-05-04T11:40:07.061Z"
   },
   {
    "duration": 28,
    "start_time": "2023-05-04T11:40:07.901Z"
   },
   {
    "duration": 12,
    "start_time": "2023-05-04T11:40:08.283Z"
   },
   {
    "duration": 24792,
    "start_time": "2023-05-04T11:40:09.317Z"
   },
   {
    "duration": 0,
    "start_time": "2023-05-04T11:40:34.111Z"
   },
   {
    "duration": 0,
    "start_time": "2023-05-04T11:40:34.113Z"
   },
   {
    "duration": 0,
    "start_time": "2023-05-04T11:40:34.114Z"
   },
   {
    "duration": 0,
    "start_time": "2023-05-04T11:40:34.115Z"
   },
   {
    "duration": 0,
    "start_time": "2023-05-04T11:40:34.116Z"
   },
   {
    "duration": 0,
    "start_time": "2023-05-04T11:40:34.118Z"
   },
   {
    "duration": 0,
    "start_time": "2023-05-04T11:40:34.119Z"
   },
   {
    "duration": 0,
    "start_time": "2023-05-04T11:40:34.120Z"
   },
   {
    "duration": 0,
    "start_time": "2023-05-04T11:40:34.121Z"
   },
   {
    "duration": 0,
    "start_time": "2023-05-04T11:40:34.122Z"
   },
   {
    "duration": 0,
    "start_time": "2023-05-04T11:40:34.123Z"
   },
   {
    "duration": 0,
    "start_time": "2023-05-04T11:40:34.125Z"
   },
   {
    "duration": 0,
    "start_time": "2023-05-04T11:40:34.126Z"
   },
   {
    "duration": 0,
    "start_time": "2023-05-04T11:40:34.127Z"
   },
   {
    "duration": 0,
    "start_time": "2023-05-04T11:40:34.129Z"
   },
   {
    "duration": 0,
    "start_time": "2023-05-04T11:40:34.130Z"
   },
   {
    "duration": 13,
    "start_time": "2023-05-04T11:40:35.777Z"
   },
   {
    "duration": 14,
    "start_time": "2023-05-04T11:44:11.418Z"
   },
   {
    "duration": 17,
    "start_time": "2023-05-04T11:44:57.778Z"
   },
   {
    "duration": 21,
    "start_time": "2023-05-04T11:44:59.752Z"
   },
   {
    "duration": 19,
    "start_time": "2023-05-04T11:45:20.934Z"
   },
   {
    "duration": 19,
    "start_time": "2023-05-04T11:46:29.118Z"
   },
   {
    "duration": 16,
    "start_time": "2023-05-04T11:47:57.618Z"
   },
   {
    "duration": 30,
    "start_time": "2023-05-04T11:47:58.741Z"
   },
   {
    "duration": 20,
    "start_time": "2023-05-04T11:48:41.430Z"
   },
   {
    "duration": 23859,
    "start_time": "2023-05-04T11:52:40.459Z"
   },
   {
    "duration": 557,
    "start_time": "2023-05-04T11:53:11.136Z"
   },
   {
    "duration": 11,
    "start_time": "2023-05-04T11:53:12.176Z"
   },
   {
    "duration": 34,
    "start_time": "2023-05-04T11:53:13.326Z"
   },
   {
    "duration": 11,
    "start_time": "2023-05-04T11:53:14.146Z"
   },
   {
    "duration": 16,
    "start_time": "2023-05-04T11:53:15.806Z"
   },
   {
    "duration": 12,
    "start_time": "2023-05-04T11:53:37.095Z"
   },
   {
    "duration": 15,
    "start_time": "2023-05-04T11:53:41.748Z"
   },
   {
    "duration": 5,
    "start_time": "2023-05-04T11:54:06.457Z"
   },
   {
    "duration": 14,
    "start_time": "2023-05-04T11:54:16.700Z"
   },
   {
    "duration": 183,
    "start_time": "2023-05-04T11:54:17.631Z"
   },
   {
    "duration": 14,
    "start_time": "2023-05-04T11:54:47.137Z"
   },
   {
    "duration": 15,
    "start_time": "2023-05-04T11:55:20.952Z"
   },
   {
    "duration": 309,
    "start_time": "2023-05-04T11:55:41.510Z"
   },
   {
    "duration": 15,
    "start_time": "2023-05-04T11:56:04.119Z"
   },
   {
    "duration": 262,
    "start_time": "2023-05-04T11:56:04.213Z"
   },
   {
    "duration": 165,
    "start_time": "2023-05-04T12:01:57.050Z"
   },
   {
    "duration": 30,
    "start_time": "2023-05-04T12:02:00.542Z"
   },
   {
    "duration": 20,
    "start_time": "2023-05-04T12:02:01.228Z"
   },
   {
    "duration": 24299,
    "start_time": "2023-05-04T12:02:02.479Z"
   },
   {
    "duration": 582,
    "start_time": "2023-05-04T12:02:30.527Z"
   },
   {
    "duration": 60,
    "start_time": "2023-05-04T12:02:32.021Z"
   },
   {
    "duration": 48,
    "start_time": "2023-05-04T12:02:33.245Z"
   },
   {
    "duration": 16,
    "start_time": "2023-05-04T12:02:34.333Z"
   },
   {
    "duration": 17,
    "start_time": "2023-05-04T12:02:36.158Z"
   },
   {
    "duration": 5,
    "start_time": "2023-05-04T12:07:00.203Z"
   },
   {
    "duration": 20,
    "start_time": "2023-05-04T12:07:10.126Z"
   },
   {
    "duration": 16,
    "start_time": "2023-05-04T12:07:17.584Z"
   },
   {
    "duration": 16,
    "start_time": "2023-05-04T12:07:57.699Z"
   },
   {
    "duration": 24,
    "start_time": "2023-05-04T12:08:13.041Z"
   },
   {
    "duration": 7,
    "start_time": "2023-05-04T12:08:25.308Z"
   },
   {
    "duration": 17,
    "start_time": "2023-05-04T12:09:03.098Z"
   },
   {
    "duration": 95,
    "start_time": "2023-05-04T12:09:13.288Z"
   },
   {
    "duration": 100,
    "start_time": "2023-05-04T12:09:32.444Z"
   },
   {
    "duration": 16,
    "start_time": "2023-05-04T12:10:13.807Z"
   },
   {
    "duration": 99,
    "start_time": "2023-05-04T12:10:15.987Z"
   },
   {
    "duration": 94,
    "start_time": "2023-05-04T12:10:21.331Z"
   },
   {
    "duration": 32,
    "start_time": "2023-05-04T12:11:08.149Z"
   },
   {
    "duration": 16,
    "start_time": "2023-05-04T12:12:04.033Z"
   },
   {
    "duration": 15053,
    "start_time": "2023-05-04T12:14:43.505Z"
   },
   {
    "duration": 16,
    "start_time": "2023-05-04T12:14:58.561Z"
   },
   {
    "duration": 18,
    "start_time": "2023-05-04T12:14:58.589Z"
   },
   {
    "duration": 15390,
    "start_time": "2023-05-04T12:15:02.137Z"
   },
   {
    "duration": 298,
    "start_time": "2023-05-04T12:15:44.849Z"
   },
   {
    "duration": 314,
    "start_time": "2023-05-04T12:15:47.620Z"
   },
   {
    "duration": 47,
    "start_time": "2023-05-04T12:16:07.694Z"
   },
   {
    "duration": 25,
    "start_time": "2023-05-04T12:16:55.094Z"
   },
   {
    "duration": 18,
    "start_time": "2023-05-04T12:16:56.843Z"
   },
   {
    "duration": 18,
    "start_time": "2023-05-04T12:17:07.540Z"
   },
   {
    "duration": 15,
    "start_time": "2023-05-04T12:17:33.340Z"
   },
   {
    "duration": 90,
    "start_time": "2023-05-04T12:17:34.298Z"
   },
   {
    "duration": 18,
    "start_time": "2023-05-04T12:17:34.777Z"
   },
   {
    "duration": 22,
    "start_time": "2023-05-04T12:17:35.318Z"
   },
   {
    "duration": 13165,
    "start_time": "2023-05-04T12:17:35.873Z"
   },
   {
    "duration": 251,
    "start_time": "2023-05-04T12:17:49.041Z"
   },
   {
    "duration": 48,
    "start_time": "2023-05-04T12:17:49.294Z"
   },
   {
    "duration": 49,
    "start_time": "2023-05-04T12:17:49.344Z"
   },
   {
    "duration": 104,
    "start_time": "2023-05-04T12:17:49.395Z"
   },
   {
    "duration": 95,
    "start_time": "2023-05-04T12:17:49.502Z"
   },
   {
    "duration": 11,
    "start_time": "2023-05-04T12:17:50.914Z"
   },
   {
    "duration": 29,
    "start_time": "2023-05-04T12:17:50.928Z"
   },
   {
    "duration": 188,
    "start_time": "2023-05-04T12:18:02.093Z"
   },
   {
    "duration": 41,
    "start_time": "2023-05-04T12:18:05.694Z"
   },
   {
    "duration": 23,
    "start_time": "2023-05-04T12:18:09.942Z"
   },
   {
    "duration": 19,
    "start_time": "2023-05-04T12:18:10.800Z"
   },
   {
    "duration": 78,
    "start_time": "2023-05-04T12:18:31.096Z"
   },
   {
    "duration": 21,
    "start_time": "2023-05-04T12:20:17.926Z"
   },
   {
    "duration": 87,
    "start_time": "2023-05-04T12:20:19.138Z"
   },
   {
    "duration": 12,
    "start_time": "2023-05-04T12:20:19.905Z"
   },
   {
    "duration": 18,
    "start_time": "2023-05-04T12:20:20.536Z"
   },
   {
    "duration": 13714,
    "start_time": "2023-05-04T12:20:21.278Z"
   },
   {
    "duration": 213,
    "start_time": "2023-05-04T12:20:34.994Z"
   },
   {
    "duration": 42,
    "start_time": "2023-05-04T12:20:35.209Z"
   },
   {
    "duration": 150,
    "start_time": "2023-05-04T12:20:35.254Z"
   },
   {
    "duration": 90,
    "start_time": "2023-05-04T12:20:35.406Z"
   },
   {
    "duration": 16,
    "start_time": "2023-05-04T12:30:09.600Z"
   },
   {
    "duration": 13,
    "start_time": "2023-05-04T12:30:27.577Z"
   },
   {
    "duration": 15,
    "start_time": "2023-05-04T12:30:52.915Z"
   },
   {
    "duration": 23,
    "start_time": "2023-05-04T12:31:13.834Z"
   },
   {
    "duration": 22,
    "start_time": "2023-05-04T12:31:17.560Z"
   },
   {
    "duration": 21,
    "start_time": "2023-05-04T12:32:41.014Z"
   },
   {
    "duration": 22,
    "start_time": "2023-05-04T12:33:23.117Z"
   },
   {
    "duration": 22,
    "start_time": "2023-05-04T12:34:24.765Z"
   },
   {
    "duration": 18,
    "start_time": "2023-05-04T12:35:35.856Z"
   },
   {
    "duration": 17,
    "start_time": "2023-05-04T12:36:32.264Z"
   },
   {
    "duration": 276,
    "start_time": "2023-05-04T12:38:04.302Z"
   },
   {
    "duration": 24,
    "start_time": "2023-05-04T12:38:33.683Z"
   },
   {
    "duration": 35,
    "start_time": "2023-05-04T12:38:40.560Z"
   },
   {
    "duration": 19,
    "start_time": "2023-05-04T12:39:11.928Z"
   },
   {
    "duration": 47,
    "start_time": "2023-05-04T12:39:48.397Z"
   },
   {
    "duration": 44355,
    "start_time": "2023-05-04T12:40:41.459Z"
   },
   {
    "duration": 768,
    "start_time": "2023-05-04T12:46:37.073Z"
   },
   {
    "duration": 796,
    "start_time": "2023-05-04T12:46:41.812Z"
   },
   {
    "duration": 57,
    "start_time": "2023-05-04T12:46:58.334Z"
   },
   {
    "duration": 105,
    "start_time": "2023-05-04T12:47:51.904Z"
   },
   {
    "duration": 32,
    "start_time": "2023-05-04T12:48:07.368Z"
   },
   {
    "duration": 5,
    "start_time": "2023-05-04T14:19:44.591Z"
   },
   {
    "duration": 6,
    "start_time": "2023-05-04T14:19:46.996Z"
   },
   {
    "duration": 12,
    "start_time": "2023-05-04T14:19:48.059Z"
   },
   {
    "duration": 65,
    "start_time": "2023-05-04T14:19:49.373Z"
   },
   {
    "duration": 21,
    "start_time": "2023-05-04T14:19:50.248Z"
   },
   {
    "duration": 13,
    "start_time": "2023-05-04T14:19:51.509Z"
   },
   {
    "duration": 40,
    "start_time": "2023-05-04T14:19:52.079Z"
   },
   {
    "duration": 4,
    "start_time": "2023-05-04T14:19:53.375Z"
   },
   {
    "duration": 15,
    "start_time": "2023-05-04T14:19:54.659Z"
   },
   {
    "duration": 5,
    "start_time": "2023-05-04T14:19:56.264Z"
   },
   {
    "duration": 8,
    "start_time": "2023-05-04T14:19:56.779Z"
   },
   {
    "duration": 5,
    "start_time": "2023-05-04T14:19:57.817Z"
   },
   {
    "duration": 10,
    "start_time": "2023-05-04T14:19:58.274Z"
   },
   {
    "duration": 21,
    "start_time": "2023-05-04T14:19:58.751Z"
   },
   {
    "duration": 15,
    "start_time": "2023-05-04T14:19:59.662Z"
   },
   {
    "duration": 16,
    "start_time": "2023-05-04T14:20:00.672Z"
   },
   {
    "duration": 25,
    "start_time": "2023-05-04T14:20:01.948Z"
   },
   {
    "duration": 3,
    "start_time": "2023-05-04T14:20:03.092Z"
   },
   {
    "duration": 4,
    "start_time": "2023-05-04T14:20:03.855Z"
   },
   {
    "duration": 3,
    "start_time": "2023-05-04T14:20:04.373Z"
   },
   {
    "duration": 559,
    "start_time": "2023-05-04T14:20:06.491Z"
   },
   {
    "duration": 5,
    "start_time": "2023-05-04T14:20:08.411Z"
   },
   {
    "duration": 147,
    "start_time": "2023-05-04T14:20:10.129Z"
   },
   {
    "duration": 24,
    "start_time": "2023-05-04T14:20:11.209Z"
   },
   {
    "duration": 13,
    "start_time": "2023-05-04T14:20:11.987Z"
   },
   {
    "duration": 22770,
    "start_time": "2023-05-04T14:20:13.304Z"
   },
   {
    "duration": 0,
    "start_time": "2023-05-04T14:20:36.076Z"
   },
   {
    "duration": 0,
    "start_time": "2023-05-04T14:20:36.077Z"
   },
   {
    "duration": 0,
    "start_time": "2023-05-04T14:20:36.078Z"
   },
   {
    "duration": 0,
    "start_time": "2023-05-04T14:20:36.079Z"
   },
   {
    "duration": 23961,
    "start_time": "2023-05-04T14:20:55.154Z"
   },
   {
    "duration": 23047,
    "start_time": "2023-05-04T14:21:35.751Z"
   },
   {
    "duration": 22878,
    "start_time": "2023-05-04T14:22:14.361Z"
   },
   {
    "duration": 22936,
    "start_time": "2023-05-04T14:22:41.672Z"
   },
   {
    "duration": 23167,
    "start_time": "2023-05-04T14:23:26.507Z"
   },
   {
    "duration": 22768,
    "start_time": "2023-05-04T14:24:00.170Z"
   },
   {
    "duration": 519,
    "start_time": "2023-05-04T14:24:32.048Z"
   },
   {
    "duration": 22728,
    "start_time": "2023-05-04T14:24:42.612Z"
   },
   {
    "duration": 22972,
    "start_time": "2023-05-04T14:25:21.147Z"
   },
   {
    "duration": 22838,
    "start_time": "2023-05-04T14:25:48.517Z"
   },
   {
    "duration": 22666,
    "start_time": "2023-05-04T14:27:02.213Z"
   },
   {
    "duration": 23348,
    "start_time": "2023-05-04T14:27:47.935Z"
   },
   {
    "duration": 10,
    "start_time": "2023-05-04T14:28:41.380Z"
   },
   {
    "duration": 10,
    "start_time": "2023-05-04T14:30:41.043Z"
   },
   {
    "duration": 34,
    "start_time": "2023-05-04T14:30:42.173Z"
   },
   {
    "duration": 10,
    "start_time": "2023-05-04T14:30:42.552Z"
   },
   {
    "duration": 162,
    "start_time": "2023-05-04T14:30:45.899Z"
   },
   {
    "duration": 254,
    "start_time": "2023-05-04T14:30:47.147Z"
   },
   {
    "duration": 319,
    "start_time": "2023-05-04T14:30:48.067Z"
   },
   {
    "duration": 152,
    "start_time": "2023-05-04T14:30:51.351Z"
   },
   {
    "duration": 16,
    "start_time": "2023-05-04T14:31:19.255Z"
   },
   {
    "duration": 22188,
    "start_time": "2023-05-04T14:31:22.201Z"
   },
   {
    "duration": 21926,
    "start_time": "2023-05-04T14:32:06.202Z"
   },
   {
    "duration": 16,
    "start_time": "2023-05-04T14:33:06.896Z"
   },
   {
    "duration": 51,
    "start_time": "2023-05-04T14:33:34.196Z"
   },
   {
    "duration": 44,
    "start_time": "2023-05-04T14:33:49.252Z"
   },
   {
    "duration": 23,
    "start_time": "2023-05-04T14:33:50.159Z"
   },
   {
    "duration": 13,
    "start_time": "2023-05-04T14:33:51.393Z"
   },
   {
    "duration": 12,
    "start_time": "2023-05-04T14:34:02.916Z"
   },
   {
    "duration": 70,
    "start_time": "2023-05-04T14:34:12.552Z"
   },
   {
    "duration": 10,
    "start_time": "2023-05-04T14:34:14.439Z"
   },
   {
    "duration": 22391,
    "start_time": "2023-05-04T14:35:44.192Z"
   },
   {
    "duration": 22707,
    "start_time": "2023-05-04T14:36:14.296Z"
   },
   {
    "duration": 22385,
    "start_time": "2023-05-04T14:37:03.233Z"
   },
   {
    "duration": 630,
    "start_time": "2023-05-04T14:59:49.412Z"
   },
   {
    "duration": 15,
    "start_time": "2023-05-04T15:04:29.870Z"
   },
   {
    "duration": 11,
    "start_time": "2023-05-04T15:04:40.502Z"
   },
   {
    "duration": 11,
    "start_time": "2023-05-04T15:04:45.103Z"
   },
   {
    "duration": 5,
    "start_time": "2023-05-04T15:05:04.820Z"
   },
   {
    "duration": 122,
    "start_time": "2023-05-04T15:05:12.397Z"
   },
   {
    "duration": 52,
    "start_time": "2023-05-04T15:27:58.995Z"
   },
   {
    "duration": 2232,
    "start_time": "2023-05-05T07:29:13.180Z"
   },
   {
    "duration": 73,
    "start_time": "2023-05-05T07:29:15.414Z"
   },
   {
    "duration": 20,
    "start_time": "2023-05-05T07:29:15.488Z"
   },
   {
    "duration": 23,
    "start_time": "2023-05-05T07:29:15.510Z"
   },
   {
    "duration": 35,
    "start_time": "2023-05-05T07:29:15.534Z"
   },
   {
    "duration": 4,
    "start_time": "2023-05-05T07:29:15.570Z"
   },
   {
    "duration": 20,
    "start_time": "2023-05-05T07:29:15.575Z"
   },
   {
    "duration": 8,
    "start_time": "2023-05-05T07:29:15.596Z"
   },
   {
    "duration": 23,
    "start_time": "2023-05-05T07:29:15.605Z"
   },
   {
    "duration": 22,
    "start_time": "2023-05-05T07:29:15.631Z"
   },
   {
    "duration": 31,
    "start_time": "2023-05-05T07:29:15.654Z"
   },
   {
    "duration": 47,
    "start_time": "2023-05-05T07:29:15.686Z"
   },
   {
    "duration": 50,
    "start_time": "2023-05-05T07:29:15.734Z"
   },
   {
    "duration": 42,
    "start_time": "2023-05-05T07:29:15.785Z"
   },
   {
    "duration": 80,
    "start_time": "2023-05-05T07:29:15.828Z"
   },
   {
    "duration": 32,
    "start_time": "2023-05-05T07:29:15.909Z"
   },
   {
    "duration": 27,
    "start_time": "2023-05-05T07:29:15.943Z"
   },
   {
    "duration": 47,
    "start_time": "2023-05-05T07:29:15.972Z"
   },
   {
    "duration": 175,
    "start_time": "2023-05-05T07:29:16.020Z"
   },
   {
    "duration": 6,
    "start_time": "2023-05-05T07:29:16.197Z"
   },
   {
    "duration": 186,
    "start_time": "2023-05-05T07:29:16.205Z"
   },
   {
    "duration": 29,
    "start_time": "2023-05-05T07:29:16.393Z"
   },
   {
    "duration": 49,
    "start_time": "2023-05-05T07:29:16.424Z"
   },
   {
    "duration": 24975,
    "start_time": "2023-05-05T07:29:16.475Z"
   },
   {
    "duration": 0,
    "start_time": "2023-05-05T07:29:41.453Z"
   },
   {
    "duration": 0,
    "start_time": "2023-05-05T07:29:41.454Z"
   },
   {
    "duration": 0,
    "start_time": "2023-05-05T07:29:41.455Z"
   },
   {
    "duration": 0,
    "start_time": "2023-05-05T07:29:41.456Z"
   },
   {
    "duration": 0,
    "start_time": "2023-05-05T07:29:41.457Z"
   },
   {
    "duration": 0,
    "start_time": "2023-05-05T07:29:41.458Z"
   },
   {
    "duration": 0,
    "start_time": "2023-05-05T07:29:41.459Z"
   },
   {
    "duration": 0,
    "start_time": "2023-05-05T07:29:41.460Z"
   },
   {
    "duration": 0,
    "start_time": "2023-05-05T07:29:41.461Z"
   },
   {
    "duration": 0,
    "start_time": "2023-05-05T07:29:41.462Z"
   },
   {
    "duration": 0,
    "start_time": "2023-05-05T07:29:41.463Z"
   },
   {
    "duration": 0,
    "start_time": "2023-05-05T07:29:41.464Z"
   },
   {
    "duration": 0,
    "start_time": "2023-05-05T07:29:41.465Z"
   },
   {
    "duration": 0,
    "start_time": "2023-05-05T07:29:41.467Z"
   },
   {
    "duration": 1,
    "start_time": "2023-05-05T07:29:41.467Z"
   },
   {
    "duration": 0,
    "start_time": "2023-05-05T07:29:41.469Z"
   },
   {
    "duration": 0,
    "start_time": "2023-05-05T07:29:41.470Z"
   },
   {
    "duration": 0,
    "start_time": "2023-05-05T07:29:41.470Z"
   },
   {
    "duration": 0,
    "start_time": "2023-05-05T07:29:41.472Z"
   },
   {
    "duration": 0,
    "start_time": "2023-05-05T07:29:41.473Z"
   },
   {
    "duration": 0,
    "start_time": "2023-05-05T07:29:41.474Z"
   },
   {
    "duration": 0,
    "start_time": "2023-05-05T07:29:41.476Z"
   },
   {
    "duration": 0,
    "start_time": "2023-05-05T07:29:41.478Z"
   },
   {
    "duration": 0,
    "start_time": "2023-05-05T07:29:41.479Z"
   },
   {
    "duration": 0,
    "start_time": "2023-05-05T07:29:41.480Z"
   },
   {
    "duration": 0,
    "start_time": "2023-05-05T07:29:41.482Z"
   },
   {
    "duration": 0,
    "start_time": "2023-05-05T07:29:41.483Z"
   },
   {
    "duration": 0,
    "start_time": "2023-05-05T07:29:41.484Z"
   },
   {
    "duration": 0,
    "start_time": "2023-05-05T07:29:41.485Z"
   },
   {
    "duration": 1,
    "start_time": "2023-05-05T07:29:41.485Z"
   },
   {
    "duration": 0,
    "start_time": "2023-05-05T07:29:41.487Z"
   },
   {
    "duration": 0,
    "start_time": "2023-05-05T07:29:41.549Z"
   },
   {
    "duration": 0,
    "start_time": "2023-05-05T07:29:41.551Z"
   },
   {
    "duration": 0,
    "start_time": "2023-05-05T07:29:41.552Z"
   },
   {
    "duration": 0,
    "start_time": "2023-05-05T07:29:41.553Z"
   },
   {
    "duration": 112,
    "start_time": "2023-05-05T08:37:29.040Z"
   },
   {
    "duration": 102,
    "start_time": "2023-05-05T08:37:29.155Z"
   },
   {
    "duration": 199,
    "start_time": "2023-05-05T08:37:29.258Z"
   },
   {
    "duration": 166,
    "start_time": "2023-05-05T08:37:29.459Z"
   },
   {
    "duration": 365,
    "start_time": "2023-05-05T08:37:29.626Z"
   },
   {
    "duration": 170,
    "start_time": "2023-05-05T08:37:29.992Z"
   },
   {
    "duration": 28,
    "start_time": "2023-05-05T08:37:30.164Z"
   },
   {
    "duration": 16,
    "start_time": "2023-05-05T08:37:30.193Z"
   },
   {
    "duration": 23406,
    "start_time": "2023-05-05T08:37:30.210Z"
   },
   {
    "duration": 527,
    "start_time": "2023-05-05T08:37:53.619Z"
   },
   {
    "duration": 40,
    "start_time": "2023-05-05T08:37:54.148Z"
   },
   {
    "duration": 65,
    "start_time": "2023-05-05T08:37:54.190Z"
   },
   {
    "duration": 103,
    "start_time": "2023-05-05T08:37:54.257Z"
   },
   {
    "duration": 121,
    "start_time": "2023-05-05T08:37:54.453Z"
   },
   {
    "duration": 108,
    "start_time": "2023-05-05T08:37:54.576Z"
   },
   {
    "duration": 12,
    "start_time": "2023-05-05T08:37:54.687Z"
   },
   {
    "duration": 40,
    "start_time": "2023-05-05T08:37:54.702Z"
   },
   {
    "duration": 11690,
    "start_time": "2023-05-05T08:37:54.744Z"
   },
   {
    "duration": 165,
    "start_time": "2023-05-05T08:38:06.436Z"
   },
   {
    "duration": 31,
    "start_time": "2023-05-05T08:38:06.603Z"
   },
   {
    "duration": 17,
    "start_time": "2023-05-05T08:38:06.649Z"
   },
   {
    "duration": 178,
    "start_time": "2023-05-05T08:38:06.673Z"
   },
   {
    "duration": 113,
    "start_time": "2023-05-05T08:38:06.856Z"
   },
   {
    "duration": 260,
    "start_time": "2023-05-05T08:38:06.971Z"
   },
   {
    "duration": 39,
    "start_time": "2023-05-05T08:38:07.233Z"
   },
   {
    "duration": 14,
    "start_time": "2023-05-05T08:38:07.273Z"
   },
   {
    "duration": 41733,
    "start_time": "2023-05-05T08:38:07.289Z"
   },
   {
    "duration": 861,
    "start_time": "2023-05-05T08:38:49.026Z"
   },
   {
    "duration": 40,
    "start_time": "2023-05-05T08:38:49.890Z"
   },
   {
    "duration": 75,
    "start_time": "2023-05-05T08:38:49.931Z"
   },
   {
    "duration": 110,
    "start_time": "2023-05-05T08:38:50.050Z"
   },
   {
    "duration": 695,
    "start_time": "2023-05-05T08:38:50.249Z"
   },
   {
    "duration": 127,
    "start_time": "2023-05-05T08:38:50.946Z"
   },
   {
    "duration": 2044,
    "start_time": "2023-05-05T09:20:35.605Z"
   },
   {
    "duration": 74,
    "start_time": "2023-05-05T09:20:41.872Z"
   },
   {
    "duration": 18,
    "start_time": "2023-05-05T09:20:42.633Z"
   },
   {
    "duration": 13,
    "start_time": "2023-05-05T09:20:45.186Z"
   },
   {
    "duration": 41,
    "start_time": "2023-05-05T09:20:45.679Z"
   },
   {
    "duration": 40,
    "start_time": "2023-05-05T09:21:13.584Z"
   },
   {
    "duration": 3,
    "start_time": "2023-05-05T09:21:57.717Z"
   },
   {
    "duration": 106,
    "start_time": "2023-05-05T09:32:14.241Z"
   },
   {
    "duration": 1553,
    "start_time": "2023-05-10T16:12:09.998Z"
   },
   {
    "duration": 250,
    "start_time": "2023-05-10T16:12:14.959Z"
   },
   {
    "duration": 20,
    "start_time": "2023-05-10T16:12:15.582Z"
   },
   {
    "duration": 15,
    "start_time": "2023-05-10T16:12:18.442Z"
   },
   {
    "duration": 43,
    "start_time": "2023-05-10T16:12:20.817Z"
   },
   {
    "duration": 53,
    "start_time": "2023-05-10T16:12:40.308Z"
   },
   {
    "duration": 47,
    "start_time": "2023-05-10T16:12:47.300Z"
   },
   {
    "duration": 3,
    "start_time": "2023-05-10T16:12:59.138Z"
   },
   {
    "duration": 10,
    "start_time": "2023-05-10T16:13:00.681Z"
   },
   {
    "duration": 115,
    "start_time": "2023-05-10T16:13:22.083Z"
   },
   {
    "duration": 24,
    "start_time": "2023-05-10T16:15:52.880Z"
   },
   {
    "duration": 7,
    "start_time": "2023-05-10T16:15:59.899Z"
   },
   {
    "duration": 6,
    "start_time": "2023-05-10T16:16:18.981Z"
   },
   {
    "duration": 8,
    "start_time": "2023-05-10T16:16:21.252Z"
   },
   {
    "duration": 5,
    "start_time": "2023-05-10T16:16:36.583Z"
   },
   {
    "duration": 12,
    "start_time": "2023-05-10T16:16:38.743Z"
   },
   {
    "duration": 18,
    "start_time": "2023-05-10T16:16:44.892Z"
   },
   {
    "duration": 15,
    "start_time": "2023-05-10T16:16:50.178Z"
   },
   {
    "duration": 12,
    "start_time": "2023-05-10T16:17:01.760Z"
   },
   {
    "duration": 31,
    "start_time": "2023-05-10T16:22:43.710Z"
   },
   {
    "duration": 30,
    "start_time": "2023-05-10T16:23:13.428Z"
   },
   {
    "duration": 17,
    "start_time": "2023-05-10T16:23:45.623Z"
   },
   {
    "duration": 4,
    "start_time": "2023-05-10T16:23:47.142Z"
   },
   {
    "duration": 5,
    "start_time": "2023-05-10T16:23:47.817Z"
   },
   {
    "duration": 4,
    "start_time": "2023-05-10T16:23:48.316Z"
   },
   {
    "duration": 136,
    "start_time": "2023-05-10T16:25:45.043Z"
   },
   {
    "duration": 131,
    "start_time": "2023-05-10T16:27:08.687Z"
   },
   {
    "duration": 129,
    "start_time": "2023-05-10T16:27:45.772Z"
   },
   {
    "duration": 115,
    "start_time": "2023-05-10T16:28:12.451Z"
   },
   {
    "duration": 122,
    "start_time": "2023-05-10T16:30:48.544Z"
   },
   {
    "duration": 203,
    "start_time": "2023-05-10T16:31:59.576Z"
   },
   {
    "duration": 122,
    "start_time": "2023-05-10T16:32:11.540Z"
   },
   {
    "duration": 113,
    "start_time": "2023-05-10T16:32:16.935Z"
   },
   {
    "duration": 6,
    "start_time": "2023-05-10T16:32:55.202Z"
   },
   {
    "duration": 151,
    "start_time": "2023-05-10T16:33:22.519Z"
   },
   {
    "duration": 23,
    "start_time": "2023-05-10T16:33:53.263Z"
   },
   {
    "duration": 11,
    "start_time": "2023-05-10T16:33:54.255Z"
   },
   {
    "duration": 23185,
    "start_time": "2023-05-10T16:34:42.558Z"
   },
   {
    "duration": 206,
    "start_time": "2023-05-10T16:35:19.231Z"
   },
   {
    "duration": 11,
    "start_time": "2023-05-10T16:35:24.299Z"
   },
   {
    "duration": 35,
    "start_time": "2023-05-10T16:35:27.873Z"
   },
   {
    "duration": 27,
    "start_time": "2023-05-10T16:35:33.156Z"
   },
   {
    "duration": 10,
    "start_time": "2023-05-10T16:35:33.546Z"
   },
   {
    "duration": 163,
    "start_time": "2023-05-10T16:37:13.898Z"
   },
   {
    "duration": 152,
    "start_time": "2023-05-10T16:37:14.229Z"
   },
   {
    "duration": 299,
    "start_time": "2023-05-10T16:37:14.928Z"
   },
   {
    "duration": 172,
    "start_time": "2023-05-10T16:37:21.086Z"
   },
   {
    "duration": 162,
    "start_time": "2023-05-10T16:37:41.304Z"
   },
   {
    "duration": 161,
    "start_time": "2023-05-10T16:38:36.575Z"
   },
   {
    "duration": 23,
    "start_time": "2023-05-10T16:38:42.430Z"
   },
   {
    "duration": 14,
    "start_time": "2023-05-10T16:38:43.856Z"
   },
   {
    "duration": 23361,
    "start_time": "2023-05-10T16:38:49.246Z"
   },
   {
    "duration": 531,
    "start_time": "2023-05-10T16:39:12.609Z"
   },
   {
    "duration": 455,
    "start_time": "2023-05-10T16:39:28.892Z"
   },
   {
    "duration": 43,
    "start_time": "2023-05-10T16:39:31.140Z"
   },
   {
    "duration": 31,
    "start_time": "2023-05-10T16:39:36.938Z"
   },
   {
    "duration": 17,
    "start_time": "2023-05-10T16:39:38.432Z"
   },
   {
    "duration": 14,
    "start_time": "2023-05-10T16:40:15.423Z"
   },
   {
    "duration": 88,
    "start_time": "2023-05-10T16:40:24.184Z"
   },
   {
    "duration": 13,
    "start_time": "2023-05-10T16:41:01.413Z"
   },
   {
    "duration": 15,
    "start_time": "2023-05-10T16:41:06.168Z"
   },
   {
    "duration": 14701,
    "start_time": "2023-05-10T16:41:19.865Z"
   },
   {
    "duration": 299,
    "start_time": "2023-05-10T16:41:42.280Z"
   },
   {
    "duration": 45,
    "start_time": "2023-05-10T16:41:43.620Z"
   },
   {
    "duration": 294,
    "start_time": "2023-05-10T16:41:58.901Z"
   },
   {
    "duration": 307,
    "start_time": "2023-05-10T16:42:02.227Z"
   },
   {
    "duration": 43,
    "start_time": "2023-05-10T16:42:03.136Z"
   },
   {
    "duration": 15,
    "start_time": "2023-05-10T16:42:14.081Z"
   },
   {
    "duration": 17,
    "start_time": "2023-05-10T16:42:14.949Z"
   },
   {
    "duration": 22,
    "start_time": "2023-05-10T16:42:19.934Z"
   },
   {
    "duration": 17,
    "start_time": "2023-05-10T16:42:44.606Z"
   },
   {
    "duration": 232,
    "start_time": "2023-05-10T16:44:19.072Z"
   },
   {
    "duration": 27,
    "start_time": "2023-05-10T16:44:36.427Z"
   },
   {
    "duration": 15,
    "start_time": "2023-05-10T16:44:36.947Z"
   },
   {
    "duration": 31952,
    "start_time": "2023-05-10T16:44:39.625Z"
   },
   {
    "duration": 633,
    "start_time": "2023-05-10T16:45:23.201Z"
   },
   {
    "duration": 55,
    "start_time": "2023-05-10T16:45:24.748Z"
   },
   {
    "duration": 43,
    "start_time": "2023-05-10T16:45:26.879Z"
   },
   {
    "duration": 37,
    "start_time": "2023-05-10T16:45:31.359Z"
   },
   {
    "duration": 16,
    "start_time": "2023-05-10T16:45:32.405Z"
   },
   {
    "duration": 11,
    "start_time": "2023-05-10T16:56:52.122Z"
   },
   {
    "duration": 686,
    "start_time": "2023-05-10T16:57:11.084Z"
   },
   {
    "duration": 121,
    "start_time": "2023-05-10T16:57:13.830Z"
   },
   {
    "duration": 1599,
    "start_time": "2023-05-10T19:37:34.877Z"
   },
   {
    "duration": 284,
    "start_time": "2023-05-10T19:37:38.648Z"
   },
   {
    "duration": 32,
    "start_time": "2023-05-10T19:37:39.002Z"
   },
   {
    "duration": 22,
    "start_time": "2023-05-10T19:37:39.896Z"
   },
   {
    "duration": 66,
    "start_time": "2023-05-10T19:37:40.375Z"
   },
   {
    "duration": 4,
    "start_time": "2023-05-10T19:37:41.340Z"
   },
   {
    "duration": 8,
    "start_time": "2023-05-10T19:37:41.947Z"
   },
   {
    "duration": 7,
    "start_time": "2023-05-10T19:37:42.365Z"
   },
   {
    "duration": 8,
    "start_time": "2023-05-10T19:37:43.068Z"
   },
   {
    "duration": 5,
    "start_time": "2023-05-10T19:37:43.749Z"
   },
   {
    "duration": 10,
    "start_time": "2023-05-10T19:37:44.168Z"
   },
   {
    "duration": 14,
    "start_time": "2023-05-10T19:37:45.045Z"
   },
   {
    "duration": 12,
    "start_time": "2023-05-10T19:37:45.502Z"
   },
   {
    "duration": 24,
    "start_time": "2023-05-10T19:37:46.325Z"
   },
   {
    "duration": 13,
    "start_time": "2023-05-10T19:37:47.065Z"
   },
   {
    "duration": 4,
    "start_time": "2023-05-10T19:37:47.676Z"
   },
   {
    "duration": 3,
    "start_time": "2023-05-10T19:37:47.996Z"
   },
   {
    "duration": 4,
    "start_time": "2023-05-10T19:37:48.273Z"
   },
   {
    "duration": 154,
    "start_time": "2023-05-10T19:37:50.041Z"
   },
   {
    "duration": 5,
    "start_time": "2023-05-10T19:37:51.047Z"
   },
   {
    "duration": 161,
    "start_time": "2023-05-10T19:37:52.222Z"
   },
   {
    "duration": 25,
    "start_time": "2023-05-10T19:37:54.442Z"
   },
   {
    "duration": 11,
    "start_time": "2023-05-10T19:37:54.691Z"
   },
   {
    "duration": 23292,
    "start_time": "2023-05-10T19:38:22.482Z"
   },
   {
    "duration": 22946,
    "start_time": "2023-05-10T19:39:13.369Z"
   },
   {
    "duration": 22962,
    "start_time": "2023-05-10T19:41:53.407Z"
   },
   {
    "duration": 1420,
    "start_time": "2023-08-03T19:47:17.825Z"
   },
   {
    "duration": 84,
    "start_time": "2023-08-03T19:47:19.247Z"
   },
   {
    "duration": 19,
    "start_time": "2023-08-03T19:47:19.586Z"
   },
   {
    "duration": 13,
    "start_time": "2023-08-03T19:47:21.327Z"
   },
   {
    "duration": 49,
    "start_time": "2023-08-03T19:47:21.794Z"
   },
   {
    "duration": 61,
    "start_time": "2023-08-03T19:47:35.901Z"
   },
   {
    "duration": 38,
    "start_time": "2023-08-03T19:47:43.990Z"
   },
   {
    "duration": 1648,
    "start_time": "2023-08-04T11:04:41.421Z"
   },
   {
    "duration": 300,
    "start_time": "2023-08-04T11:04:43.071Z"
   },
   {
    "duration": 18,
    "start_time": "2023-08-04T11:04:43.373Z"
   },
   {
    "duration": 12,
    "start_time": "2023-08-04T11:04:43.523Z"
   },
   {
    "duration": 32,
    "start_time": "2023-08-04T11:04:46.889Z"
   },
   {
    "duration": 119,
    "start_time": "2023-08-04T11:04:55.540Z"
   },
   {
    "duration": 5,
    "start_time": "2023-08-04T11:05:42.051Z"
   },
   {
    "duration": 3,
    "start_time": "2023-08-04T11:05:46.085Z"
   },
   {
    "duration": 6,
    "start_time": "2023-08-04T11:05:54.241Z"
   }
  ],
  "kernelspec": {
   "display_name": "Python 3 (ipykernel)",
   "language": "python",
   "name": "python3"
  },
  "language_info": {
   "codemirror_mode": {
    "name": "ipython",
    "version": 3
   },
   "file_extension": ".py",
   "mimetype": "text/x-python",
   "name": "python",
   "nbconvert_exporter": "python",
   "pygments_lexer": "ipython3",
   "version": "3.9.13"
  },
  "toc": {
   "base_numbering": 1,
   "nav_menu": {},
   "number_sections": true,
   "sideBar": true,
   "skip_h1_title": true,
   "title_cell": "Содержание",
   "title_sidebar": "Contents",
   "toc_cell": true,
   "toc_position": {
    "height": "calc(100% - 180px)",
    "left": "10px",
    "top": "150px",
    "width": "165px"
   },
   "toc_section_display": true,
   "toc_window_display": false
  }
 },
 "nbformat": 4,
 "nbformat_minor": 2
}
