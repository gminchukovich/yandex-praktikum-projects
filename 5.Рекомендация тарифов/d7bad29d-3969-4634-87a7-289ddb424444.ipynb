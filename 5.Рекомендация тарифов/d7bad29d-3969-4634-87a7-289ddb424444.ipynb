{
 "cells": [
  {
   "cell_type": "markdown",
   "metadata": {},
   "source": [
    "# Рекомендация тарифов"
   ]
  },
  {
   "cell_type": "markdown",
   "metadata": {},
   "source": [
    "В вашем распоряжении данные о поведении клиентов, которые уже перешли на эти тарифы (из проекта курса «Статистический анализ данных»). Нужно построить модель для задачи классификации, которая выберет подходящий тариф. Предобработка данных не понадобится — вы её уже сделали.\n",
    "\n",
    "Постройте модель с максимально большим значением *accuracy*. Чтобы сдать проект успешно, нужно довести долю правильных ответов по крайней мере до 0.75. Проверьте *accuracy* на тестовой выборке самостоятельно."
   ]
  },
  {
   "cell_type": "markdown",
   "metadata": {},
   "source": [
    "### Содержание:\n",
    "* [Откроем и изучим файл](#1-section)\n",
    "* [Разобьем данные на выборки.](#2-section)\n",
    "* [Исследуем модели.](#3-section)\n",
    "* [Проверим модель на тестовой выборке.](#4-section)\n",
    "* [Проверим модель на адекватность.](#5-section)\n",
    "* [Выводю](#6-section)"
   ]
  },
  {
   "cell_type": "markdown",
   "metadata": {},
   "source": [
    "## Откроем и изучим файл<a id='1-section'></a>"
   ]
  },
  {
   "cell_type": "code",
   "execution_count": 5,
   "metadata": {},
   "outputs": [],
   "source": [
    "import pandas as pd\n",
    "\n",
    "from sklearn.linear_model import LogisticRegression\n",
    "from sklearn.ensemble import RandomForestClassifier\n",
    "from sklearn.tree import DecisionTreeClassifier\n",
    "from sklearn.model_selection import train_test_split\n",
    "from sklearn.dummy import DummyClassifier"
   ]
  },
  {
   "cell_type": "code",
   "execution_count": 6,
   "metadata": {},
   "outputs": [],
   "source": [
    "df = pd.read_csv('/datasets/users_behavior.csv')"
   ]
  },
  {
   "cell_type": "code",
   "execution_count": 7,
   "metadata": {},
   "outputs": [
    {
     "data": {
      "text/html": [
       "<div>\n",
       "<style scoped>\n",
       "    .dataframe tbody tr th:only-of-type {\n",
       "        vertical-align: middle;\n",
       "    }\n",
       "\n",
       "    .dataframe tbody tr th {\n",
       "        vertical-align: top;\n",
       "    }\n",
       "\n",
       "    .dataframe thead th {\n",
       "        text-align: right;\n",
       "    }\n",
       "</style>\n",
       "<table border=\"1\" class=\"dataframe\">\n",
       "  <thead>\n",
       "    <tr style=\"text-align: right;\">\n",
       "      <th></th>\n",
       "      <th>calls</th>\n",
       "      <th>minutes</th>\n",
       "      <th>messages</th>\n",
       "      <th>mb_used</th>\n",
       "      <th>is_ultra</th>\n",
       "    </tr>\n",
       "  </thead>\n",
       "  <tbody>\n",
       "    <tr>\n",
       "      <th>0</th>\n",
       "      <td>40.0</td>\n",
       "      <td>311.90</td>\n",
       "      <td>83.0</td>\n",
       "      <td>19915.42</td>\n",
       "      <td>0</td>\n",
       "    </tr>\n",
       "    <tr>\n",
       "      <th>1</th>\n",
       "      <td>85.0</td>\n",
       "      <td>516.75</td>\n",
       "      <td>56.0</td>\n",
       "      <td>22696.96</td>\n",
       "      <td>0</td>\n",
       "    </tr>\n",
       "    <tr>\n",
       "      <th>2</th>\n",
       "      <td>77.0</td>\n",
       "      <td>467.66</td>\n",
       "      <td>86.0</td>\n",
       "      <td>21060.45</td>\n",
       "      <td>0</td>\n",
       "    </tr>\n",
       "    <tr>\n",
       "      <th>3</th>\n",
       "      <td>106.0</td>\n",
       "      <td>745.53</td>\n",
       "      <td>81.0</td>\n",
       "      <td>8437.39</td>\n",
       "      <td>1</td>\n",
       "    </tr>\n",
       "    <tr>\n",
       "      <th>4</th>\n",
       "      <td>66.0</td>\n",
       "      <td>418.74</td>\n",
       "      <td>1.0</td>\n",
       "      <td>14502.75</td>\n",
       "      <td>0</td>\n",
       "    </tr>\n",
       "    <tr>\n",
       "      <th>5</th>\n",
       "      <td>58.0</td>\n",
       "      <td>344.56</td>\n",
       "      <td>21.0</td>\n",
       "      <td>15823.37</td>\n",
       "      <td>0</td>\n",
       "    </tr>\n",
       "    <tr>\n",
       "      <th>6</th>\n",
       "      <td>57.0</td>\n",
       "      <td>431.64</td>\n",
       "      <td>20.0</td>\n",
       "      <td>3738.90</td>\n",
       "      <td>1</td>\n",
       "    </tr>\n",
       "    <tr>\n",
       "      <th>7</th>\n",
       "      <td>15.0</td>\n",
       "      <td>132.40</td>\n",
       "      <td>6.0</td>\n",
       "      <td>21911.60</td>\n",
       "      <td>0</td>\n",
       "    </tr>\n",
       "    <tr>\n",
       "      <th>8</th>\n",
       "      <td>7.0</td>\n",
       "      <td>43.39</td>\n",
       "      <td>3.0</td>\n",
       "      <td>2538.67</td>\n",
       "      <td>1</td>\n",
       "    </tr>\n",
       "    <tr>\n",
       "      <th>9</th>\n",
       "      <td>90.0</td>\n",
       "      <td>665.41</td>\n",
       "      <td>38.0</td>\n",
       "      <td>17358.61</td>\n",
       "      <td>0</td>\n",
       "    </tr>\n",
       "  </tbody>\n",
       "</table>\n",
       "</div>"
      ],
      "text/plain": [
       "   calls  minutes  messages   mb_used  is_ultra\n",
       "0   40.0   311.90      83.0  19915.42         0\n",
       "1   85.0   516.75      56.0  22696.96         0\n",
       "2   77.0   467.66      86.0  21060.45         0\n",
       "3  106.0   745.53      81.0   8437.39         1\n",
       "4   66.0   418.74       1.0  14502.75         0\n",
       "5   58.0   344.56      21.0  15823.37         0\n",
       "6   57.0   431.64      20.0   3738.90         1\n",
       "7   15.0   132.40       6.0  21911.60         0\n",
       "8    7.0    43.39       3.0   2538.67         1\n",
       "9   90.0   665.41      38.0  17358.61         0"
      ]
     },
     "execution_count": 7,
     "metadata": {},
     "output_type": "execute_result"
    }
   ],
   "source": [
    "df.head(10)"
   ]
  },
  {
   "cell_type": "code",
   "execution_count": 8,
   "metadata": {},
   "outputs": [
    {
     "name": "stdout",
     "output_type": "stream",
     "text": [
      "<class 'pandas.core.frame.DataFrame'>\n",
      "RangeIndex: 3214 entries, 0 to 3213\n",
      "Data columns (total 5 columns):\n",
      " #   Column    Non-Null Count  Dtype  \n",
      "---  ------    --------------  -----  \n",
      " 0   calls     3214 non-null   float64\n",
      " 1   minutes   3214 non-null   float64\n",
      " 2   messages  3214 non-null   float64\n",
      " 3   mb_used   3214 non-null   float64\n",
      " 4   is_ultra  3214 non-null   int64  \n",
      "dtypes: float64(4), int64(1)\n",
      "memory usage: 125.7 KB\n"
     ]
    }
   ],
   "source": [
    "df.info()"
   ]
  },
  {
   "cell_type": "code",
   "execution_count": 9,
   "metadata": {},
   "outputs": [],
   "source": [
    "df['messages'] = df['messages'].astype('int')"
   ]
  },
  {
   "cell_type": "code",
   "execution_count": 10,
   "metadata": {},
   "outputs": [
    {
     "data": {
      "text/plain": [
       "calls       0\n",
       "minutes     0\n",
       "messages    0\n",
       "mb_used     0\n",
       "is_ultra    0\n",
       "dtype: int64"
      ]
     },
     "execution_count": 10,
     "metadata": {},
     "output_type": "execute_result"
    }
   ],
   "source": [
    "df.isna().sum()"
   ]
  },
  {
   "cell_type": "code",
   "execution_count": 11,
   "metadata": {},
   "outputs": [
    {
     "data": {
      "text/plain": [
       "0"
      ]
     },
     "execution_count": 11,
     "metadata": {},
     "output_type": "execute_result"
    }
   ],
   "source": [
    "df.duplicated().sum()"
   ]
  },
  {
   "cell_type": "markdown",
   "metadata": {},
   "source": [
    "Данные находятся в идеальном состоянии, отстутсвуют пропуски, нет дубликатов."
   ]
  },
  {
   "cell_type": "markdown",
   "metadata": {},
   "source": [
    "## Разобьем данные на выборки <a id='2-section'></a>"
   ]
  },
  {
   "cell_type": "code",
   "execution_count": 12,
   "metadata": {},
   "outputs": [],
   "source": [
    "df_train, df_test = train_test_split(df, test_size=0.4, random_state=12345)\n",
    "features = df_test.drop('is_ultra', axis=1)\n",
    "target = df_test['is_ultra']"
   ]
  },
  {
   "cell_type": "code",
   "execution_count": 13,
   "metadata": {},
   "outputs": [],
   "source": [
    "features_test, features_valid, target_test, target_valid = train_test_split(\n",
    "    features, target, test_size=.25, random_state=12345)"
   ]
  },
  {
   "cell_type": "markdown",
   "metadata": {},
   "source": [
    "<div class=\"alert alert-success\">\n",
    "<b>ОТЛИЧНО! 👍</b>\n",
    "\n",
    "1. Здесь хорошо, происходит фиксация random_state. Воспроизводимость результатов разбиения выборки на обучающую (тренировочную) / тестовую / валидационную мы обеспечили, значит при всех последующих запусках нашего кода подвыборки будут идентичными.\n",
    "    \n",
    "2. Доли размеров train/test/valid 3:1:1 - хорошо.\n",
    "</div>"
   ]
  },
  {
   "cell_type": "code",
   "execution_count": 14,
   "metadata": {},
   "outputs": [],
   "source": [
    "features_train = df_train.drop('is_ultra', axis=1)\n",
    "target_train = df_train['is_ultra']"
   ]
  },
  {
   "cell_type": "code",
   "execution_count": 37,
   "metadata": {},
   "outputs": [
    {
     "name": "stdout",
     "output_type": "stream",
     "text": [
      "(1928, 4)\n",
      "(1928,)\n"
     ]
    }
   ],
   "source": [
    "print(features_train.shape)\n",
    "print(target_train.shape)"
   ]
  },
  {
   "cell_type": "markdown",
   "metadata": {},
   "source": [
    "## Исследуем модели<a id='3-section'></a>"
   ]
  },
  {
   "cell_type": "markdown",
   "metadata": {},
   "source": [
    "**Логистическая регрессия**"
   ]
  },
  {
   "cell_type": "code",
   "execution_count": 16,
   "metadata": {},
   "outputs": [
    {
     "name": "stdout",
     "output_type": "stream",
     "text": [
      "Качество модели: 0.6956521739130435\n"
     ]
    }
   ],
   "source": [
    "model = LogisticRegression(random_state=12345)\n",
    "model.fit(features_train, target_train)\n",
    "accuracy = model.score(features_valid, target_valid)\n",
    "print(\"Качество модели:\", accuracy)"
   ]
  },
  {
   "cell_type": "markdown",
   "metadata": {},
   "source": [
    "**Дерево решений**"
   ]
  },
  {
   "cell_type": "code",
   "execution_count": 17,
   "metadata": {},
   "outputs": [
    {
     "name": "stdout",
     "output_type": "stream",
     "text": [
      "Глубина дерева: 5 Качество модели: 0.8012422360248447\n"
     ]
    }
   ],
   "source": [
    "best_model = 0\n",
    "best_accuracy = 0\n",
    "best_depth = 0\n",
    "for depth in range(1,6):\n",
    "    model = DecisionTreeClassifier(max_depth=depth, random_state=12345)\n",
    "    model.fit(features_train, target_train)\n",
    "    accuracy = model.score(features_valid, target_valid)\n",
    "    if accuracy > best_model:\n",
    "        best_accuracy = accuracy\n",
    "        best_depth = depth\n",
    "print(\"Глубина дерева:\", best_depth, \"Качество модели:\", best_accuracy)"
   ]
  },
  {
   "cell_type": "markdown",
   "metadata": {},
   "source": [
    "**Случайный лес**"
   ]
  },
  {
   "cell_type": "code",
   "execution_count": 18,
   "metadata": {},
   "outputs": [
    {
     "name": "stdout",
     "output_type": "stream",
     "text": [
      "Глубина дерева: 10 Качество модели: 0.8167701863354038\n"
     ]
    }
   ],
   "source": [
    "best_accuracy = 0\n",
    "best_depth = 0\n",
    "for depth in range(1,11):\n",
    "    model = RandomForestClassifier(max_depth=depth, random_state=12345)\n",
    "    model.fit(features_train, target_train)\n",
    "    accuracy = model.score(features_valid, target_valid)\n",
    "    if accuracy > best_accuracy:\n",
    "        best_accuracy = accuracy\n",
    "        best_depth = depth\n",
    "print(\"Глубина дерева:\", best_depth, \"Качество модели:\", best_accuracy)"
   ]
  },
  {
   "cell_type": "markdown",
   "metadata": {},
   "source": [
    "## Проверим модель на тестовой выборке <a id='4-section'></a>"
   ]
  },
  {
   "cell_type": "markdown",
   "metadata": {},
   "source": [
    "**Логистическая регрессия**"
   ]
  },
  {
   "cell_type": "code",
   "execution_count": 19,
   "metadata": {},
   "outputs": [
    {
     "name": "stdout",
     "output_type": "stream",
     "text": [
      "Качество модели на тестовой выборке: 0.6981327800829875\n"
     ]
    }
   ],
   "source": [
    "model = LogisticRegression(random_state=12345)\n",
    "model.fit(features_train, target_train)\n",
    "accuracy = model.score(features_test, target_test)\n",
    "print(\"Качество модели на тестовой выборке:\", accuracy)"
   ]
  },
  {
   "cell_type": "markdown",
   "metadata": {},
   "source": [
    "**Дерево решений**"
   ]
  },
  {
   "cell_type": "code",
   "execution_count": 20,
   "metadata": {},
   "outputs": [
    {
     "name": "stdout",
     "output_type": "stream",
     "text": [
      "Качество: 0.774896265560166\n"
     ]
    }
   ],
   "source": [
    "model = DecisionTreeClassifier(max_depth=5, random_state=12345)\n",
    "model.fit(features_train, target_train)\n",
    "accuracy = model.score(features_test, target_test)\n",
    "print(\"Качество:\", accuracy)"
   ]
  },
  {
   "cell_type": "markdown",
   "metadata": {},
   "source": [
    "**Случайный лес**"
   ]
  },
  {
   "cell_type": "code",
   "execution_count": 21,
   "metadata": {},
   "outputs": [
    {
     "name": "stdout",
     "output_type": "stream",
     "text": [
      "Качество: 0.7977178423236515\n"
     ]
    }
   ],
   "source": [
    "model = RandomForestClassifier(max_depth=8, random_state=12345)\n",
    "model.fit(features_train, target_train)\n",
    "accuracy = model.score(features_test, target_test)\n",
    "print(\"Качество:\", accuracy)"
   ]
  },
  {
   "cell_type": "markdown",
   "metadata": {},
   "source": [
    "## Проверим модели на адекватность <a id='5-section'></a>"
   ]
  },
  {
   "cell_type": "code",
   "execution_count": 22,
   "metadata": {},
   "outputs": [
    {
     "name": "stdout",
     "output_type": "stream",
     "text": [
      "Качество наивного прогноза : 0.6950207468879668\n"
     ]
    }
   ],
   "source": [
    "dummy_clf = DummyClassifier()\n",
    "dummy_clf.fit(features_train, target_train)\n",
    "dm = dummy_clf.score(features_test, target_test)\n",
    "print(\"Качество наивного прогноза :\", dm)"
   ]
  },
  {
   "cell_type": "code",
   "execution_count": 18,
   "metadata": {},
   "outputs": [
    {
     "name": "stdout",
     "output_type": "stream",
     "text": [
      "Качество наивного прогноза : 0.5695020746887967\n"
     ]
    }
   ],
   "source": [
    "dummy_clf = DummyClassifier(strategy=\"stratified\")\n",
    "dummy_clf.fit(features_train, target_train)\n",
    "dm = dummy_clf.score(features_test, target_test)\n",
    "print(\"Качество наивного прогноза :\", dm)"
   ]
  },
  {
   "cell_type": "code",
   "execution_count": 19,
   "metadata": {
    "scrolled": true
   },
   "outputs": [
    {
     "name": "stdout",
     "output_type": "stream",
     "text": [
      "Качество наивного прогноза : 0.5\n"
     ]
    }
   ],
   "source": [
    "dummy_clf = DummyClassifier(strategy=\"uniform\")\n",
    "dummy_clf.fit(features_train, target_train)\n",
    "dm = dummy_clf.score(features_test, target_test)\n",
    "print(\"Качество наивного прогноза :\", dm)"
   ]
  },
  {
   "cell_type": "markdown",
   "metadata": {},
   "source": [
    "# Вывод <a id='6-section'></a>"
   ]
  },
  {
   "cell_type": "markdown",
   "metadata": {},
   "source": [
    "В ходе проделанного исследования, были проверены три модели. Наилучший результат показала модель \"Случайный лес\" (0.81)."
   ]
  }
 ],
 "metadata": {
  "ExecuteTimeLog": [
   {
    "duration": 1112,
    "start_time": "2023-04-01T14:46:58.307Z"
   },
   {
    "duration": 79,
    "start_time": "2023-04-01T14:47:32.861Z"
   },
   {
    "duration": 29,
    "start_time": "2023-04-01T14:47:43.883Z"
   },
   {
    "duration": 152,
    "start_time": "2023-04-01T14:49:04.423Z"
   },
   {
    "duration": 13,
    "start_time": "2023-04-01T14:50:00.415Z"
   },
   {
    "duration": 10,
    "start_time": "2023-04-01T14:50:04.477Z"
   },
   {
    "duration": 16,
    "start_time": "2023-04-01T14:50:30.135Z"
   },
   {
    "duration": 7,
    "start_time": "2023-04-01T14:51:06.823Z"
   },
   {
    "duration": 14,
    "start_time": "2023-04-01T14:52:51.376Z"
   },
   {
    "duration": 5,
    "start_time": "2023-04-01T14:52:56.042Z"
   },
   {
    "duration": 15,
    "start_time": "2023-04-01T14:53:02.807Z"
   },
   {
    "duration": 11,
    "start_time": "2023-04-01T14:53:35.031Z"
   },
   {
    "duration": 8,
    "start_time": "2023-04-01T15:04:26.457Z"
   },
   {
    "duration": 8,
    "start_time": "2023-04-01T15:04:26.893Z"
   },
   {
    "duration": 4,
    "start_time": "2023-04-01T15:05:45.944Z"
   },
   {
    "duration": 3,
    "start_time": "2023-04-01T15:07:06.588Z"
   },
   {
    "duration": 29,
    "start_time": "2023-04-01T15:14:57.986Z"
   },
   {
    "duration": 10,
    "start_time": "2023-04-01T15:32:47.926Z"
   },
   {
    "duration": 21,
    "start_time": "2023-04-01T15:33:18.208Z"
   },
   {
    "duration": 4,
    "start_time": "2023-04-01T15:33:42.007Z"
   },
   {
    "duration": 20,
    "start_time": "2023-04-01T15:33:46.467Z"
   },
   {
    "duration": 32,
    "start_time": "2023-04-01T15:34:20.511Z"
   },
   {
    "duration": 31,
    "start_time": "2023-04-01T15:34:32.704Z"
   },
   {
    "duration": 45,
    "start_time": "2023-04-01T15:49:06.925Z"
   },
   {
    "duration": 45,
    "start_time": "2023-04-01T15:49:22.915Z"
   },
   {
    "duration": 77,
    "start_time": "2023-04-01T15:49:56.074Z"
   },
   {
    "duration": 70,
    "start_time": "2023-04-01T15:50:15.856Z"
   },
   {
    "duration": 42,
    "start_time": "2023-04-01T15:50:21.020Z"
   },
   {
    "duration": 4524,
    "start_time": "2023-04-01T15:50:33.320Z"
   },
   {
    "duration": 1257,
    "start_time": "2023-04-01T15:50:52.968Z"
   },
   {
    "duration": 3961,
    "start_time": "2023-04-01T15:51:05.165Z"
   },
   {
    "duration": 2723,
    "start_time": "2023-04-01T15:51:15.325Z"
   },
   {
    "duration": 2671,
    "start_time": "2023-04-01T15:51:23.871Z"
   },
   {
    "duration": 5881,
    "start_time": "2023-04-01T15:51:35.418Z"
   },
   {
    "duration": 1963,
    "start_time": "2023-04-01T15:51:53.910Z"
   },
   {
    "duration": 16810,
    "start_time": "2023-04-01T15:52:02.215Z"
   },
   {
    "duration": 16839,
    "start_time": "2023-04-01T15:52:31.827Z"
   },
   {
    "duration": 16900,
    "start_time": "2023-04-01T15:52:58.318Z"
   },
   {
    "duration": 18403,
    "start_time": "2023-04-01T15:54:17.119Z"
   },
   {
    "duration": 17961,
    "start_time": "2023-04-01T15:55:04.156Z"
   },
   {
    "duration": 17424,
    "start_time": "2023-04-01T15:55:42.222Z"
   },
   {
    "duration": 52,
    "start_time": "2023-04-01T15:57:36.225Z"
   },
   {
    "duration": 30,
    "start_time": "2023-04-01T16:00:53.226Z"
   },
   {
    "duration": 5,
    "start_time": "2023-04-01T16:01:50.250Z"
   },
   {
    "duration": 31,
    "start_time": "2023-04-01T16:01:57.964Z"
   },
   {
    "duration": 26,
    "start_time": "2023-04-01T16:02:43.434Z"
   },
   {
    "duration": 24,
    "start_time": "2023-04-01T16:02:49.126Z"
   },
   {
    "duration": 383,
    "start_time": "2023-04-01T16:03:51.564Z"
   },
   {
    "duration": 309,
    "start_time": "2023-04-01T16:04:30.991Z"
   },
   {
    "duration": 17485,
    "start_time": "2023-04-01T16:05:51.329Z"
   },
   {
    "duration": 11,
    "start_time": "2023-04-01T16:06:27.435Z"
   },
   {
    "duration": 148,
    "start_time": "2023-04-01T16:06:44.141Z"
   },
   {
    "duration": 182,
    "start_time": "2023-04-01T16:07:08.528Z"
   },
   {
    "duration": 421,
    "start_time": "2023-04-01T16:07:15.543Z"
   },
   {
    "duration": 11,
    "start_time": "2023-04-01T16:09:39.650Z"
   },
   {
    "duration": 14,
    "start_time": "2023-04-01T16:10:18.966Z"
   },
   {
    "duration": 4,
    "start_time": "2023-04-01T16:10:41.293Z"
   },
   {
    "duration": 12456,
    "start_time": "2023-04-01T16:10:45.433Z"
   },
   {
    "duration": 52,
    "start_time": "2023-04-01T16:17:50.366Z"
   },
   {
    "duration": 50,
    "start_time": "2023-04-01T16:18:37.671Z"
   },
   {
    "duration": 43,
    "start_time": "2023-04-01T16:20:46.738Z"
   },
   {
    "duration": 33,
    "start_time": "2023-04-01T16:21:28.723Z"
   },
   {
    "duration": 37,
    "start_time": "2023-04-01T16:21:54.052Z"
   },
   {
    "duration": 416,
    "start_time": "2023-04-01T16:23:09.160Z"
   },
   {
    "duration": 432,
    "start_time": "2023-04-01T16:23:41.081Z"
   },
   {
    "duration": 422,
    "start_time": "2023-04-01T16:24:46.412Z"
   },
   {
    "duration": 451,
    "start_time": "2023-04-01T16:24:59.458Z"
   },
   {
    "duration": 428,
    "start_time": "2023-04-01T16:25:16.508Z"
   },
   {
    "duration": 246,
    "start_time": "2023-04-01T16:26:30.327Z"
   },
   {
    "duration": 343,
    "start_time": "2023-04-01T16:27:01.806Z"
   },
   {
    "duration": 282,
    "start_time": "2023-04-01T16:27:19.831Z"
   },
   {
    "duration": 17027,
    "start_time": "2023-04-01T16:27:40.414Z"
   },
   {
    "duration": 46,
    "start_time": "2023-04-01T16:30:05.148Z"
   },
   {
    "duration": 111,
    "start_time": "2023-04-01T16:30:28.611Z"
   },
   {
    "duration": 1176,
    "start_time": "2023-04-01T16:31:17.311Z"
   },
   {
    "duration": 470,
    "start_time": "2023-04-01T16:31:29.058Z"
   },
   {
    "duration": 1108,
    "start_time": "2023-04-01T16:31:36.312Z"
   },
   {
    "duration": 391,
    "start_time": "2023-04-01T16:31:48.065Z"
   },
   {
    "duration": 336,
    "start_time": "2023-04-01T16:32:06.260Z"
   },
   {
    "duration": 4,
    "start_time": "2023-04-01T16:32:49.766Z"
   },
   {
    "duration": 4325,
    "start_time": "2023-04-01T16:32:53.433Z"
   },
   {
    "duration": 13,
    "start_time": "2023-04-01T16:37:49.418Z"
   },
   {
    "duration": 14,
    "start_time": "2023-04-01T16:38:05.853Z"
   },
   {
    "duration": 317,
    "start_time": "2023-04-01T16:38:17.370Z"
   },
   {
    "duration": 280,
    "start_time": "2023-04-01T16:38:42.433Z"
   },
   {
    "duration": 23,
    "start_time": "2023-04-01T16:44:15.768Z"
   },
   {
    "duration": 38,
    "start_time": "2023-04-01T16:44:43.619Z"
   },
   {
    "duration": 4,
    "start_time": "2023-04-01T16:44:59.612Z"
   },
   {
    "duration": 48,
    "start_time": "2023-04-01T16:45:04.276Z"
   },
   {
    "duration": 41,
    "start_time": "2023-04-01T16:45:51.047Z"
   },
   {
    "duration": 41,
    "start_time": "2023-04-01T16:47:30.952Z"
   },
   {
    "duration": 41,
    "start_time": "2023-04-01T16:48:21.578Z"
   },
   {
    "duration": 14,
    "start_time": "2023-04-01T16:50:17.719Z"
   },
   {
    "duration": 30,
    "start_time": "2023-04-01T17:52:27.213Z"
   },
   {
    "duration": 33,
    "start_time": "2023-04-01T17:53:07.336Z"
   },
   {
    "duration": 4,
    "start_time": "2023-04-01T17:59:58.989Z"
   },
   {
    "duration": 6,
    "start_time": "2023-04-01T18:04:57.196Z"
   },
   {
    "duration": 6,
    "start_time": "2023-04-01T18:05:07.948Z"
   },
   {
    "duration": 12,
    "start_time": "2023-04-01T18:05:40.354Z"
   },
   {
    "duration": 5,
    "start_time": "2023-04-01T18:05:54.642Z"
   },
   {
    "duration": 6,
    "start_time": "2023-04-01T18:06:03.456Z"
   },
   {
    "duration": 7,
    "start_time": "2023-04-01T18:07:25.800Z"
   },
   {
    "duration": 9,
    "start_time": "2023-04-01T18:08:23.619Z"
   },
   {
    "duration": 11,
    "start_time": "2023-04-01T18:08:49.703Z"
   },
   {
    "duration": 5,
    "start_time": "2023-04-01T18:08:55.842Z"
   },
   {
    "duration": 13,
    "start_time": "2023-04-01T18:09:14.301Z"
   },
   {
    "duration": 3,
    "start_time": "2023-04-01T18:10:55.109Z"
   },
   {
    "duration": 9,
    "start_time": "2023-04-01T18:11:32.515Z"
   },
   {
    "duration": 5,
    "start_time": "2023-04-01T18:13:04.705Z"
   },
   {
    "duration": 8,
    "start_time": "2023-04-01T18:13:38.863Z"
   },
   {
    "duration": 8,
    "start_time": "2023-04-01T18:13:44.117Z"
   },
   {
    "duration": 9,
    "start_time": "2023-04-01T18:15:37.606Z"
   },
   {
    "duration": 5,
    "start_time": "2023-04-01T18:16:07.412Z"
   },
   {
    "duration": 7,
    "start_time": "2023-04-01T18:16:13.306Z"
   },
   {
    "duration": 6,
    "start_time": "2023-04-01T18:16:21.759Z"
   },
   {
    "duration": 5,
    "start_time": "2023-04-01T18:17:53.521Z"
   },
   {
    "duration": 5,
    "start_time": "2023-04-01T18:18:09.648Z"
   },
   {
    "duration": 6,
    "start_time": "2023-04-01T18:18:45.209Z"
   },
   {
    "duration": 5,
    "start_time": "2023-04-01T18:19:39.912Z"
   },
   {
    "duration": 6,
    "start_time": "2023-04-01T18:19:44.605Z"
   },
   {
    "duration": 6,
    "start_time": "2023-04-01T18:21:49.704Z"
   },
   {
    "duration": 5,
    "start_time": "2023-04-01T18:21:56.315Z"
   },
   {
    "duration": 4,
    "start_time": "2023-04-01T18:22:04.655Z"
   },
   {
    "duration": 6,
    "start_time": "2023-04-01T18:22:22.212Z"
   },
   {
    "duration": 7,
    "start_time": "2023-04-01T18:22:49.208Z"
   },
   {
    "duration": 6,
    "start_time": "2023-04-01T18:22:57.108Z"
   },
   {
    "duration": 12,
    "start_time": "2023-04-01T18:23:28.010Z"
   },
   {
    "duration": 5,
    "start_time": "2023-04-01T18:23:51.326Z"
   },
   {
    "duration": 5,
    "start_time": "2023-04-01T18:23:56.752Z"
   },
   {
    "duration": 12350,
    "start_time": "2023-04-01T18:27:21.408Z"
   },
   {
    "duration": 12322,
    "start_time": "2023-04-01T18:27:57.847Z"
   },
   {
    "duration": 1051,
    "start_time": "2023-04-01T18:31:07.551Z"
   },
   {
    "duration": 1050,
    "start_time": "2023-04-01T18:31:29.827Z"
   },
   {
    "duration": 317,
    "start_time": "2023-04-01T18:31:41.172Z"
   },
   {
    "duration": 2093,
    "start_time": "2023-04-01T18:54:05.564Z"
   },
   {
    "duration": 25,
    "start_time": "2023-04-01T18:54:07.659Z"
   },
   {
    "duration": 15,
    "start_time": "2023-04-01T18:54:07.685Z"
   },
   {
    "duration": 9,
    "start_time": "2023-04-01T18:54:07.702Z"
   },
   {
    "duration": 3,
    "start_time": "2023-04-01T18:54:07.713Z"
   },
   {
    "duration": 7,
    "start_time": "2023-04-01T18:54:07.717Z"
   },
   {
    "duration": 5,
    "start_time": "2023-04-01T18:54:07.725Z"
   },
   {
    "duration": 8,
    "start_time": "2023-04-01T18:54:07.731Z"
   },
   {
    "duration": 11,
    "start_time": "2023-04-01T18:54:07.740Z"
   },
   {
    "duration": 16,
    "start_time": "2023-04-01T18:54:07.753Z"
   },
   {
    "duration": 26,
    "start_time": "2023-04-01T18:54:07.770Z"
   },
   {
    "duration": 26,
    "start_time": "2023-04-01T18:54:07.797Z"
   },
   {
    "duration": 112,
    "start_time": "2023-04-01T18:54:07.825Z"
   },
   {
    "duration": 0,
    "start_time": "2023-04-01T18:54:07.938Z"
   },
   {
    "duration": 0,
    "start_time": "2023-04-01T18:54:07.939Z"
   },
   {
    "duration": 0,
    "start_time": "2023-04-01T18:54:07.940Z"
   },
   {
    "duration": 0,
    "start_time": "2023-04-01T18:54:07.941Z"
   },
   {
    "duration": 0,
    "start_time": "2023-04-01T18:54:07.942Z"
   },
   {
    "duration": 0,
    "start_time": "2023-04-01T18:54:07.943Z"
   },
   {
    "duration": 2074,
    "start_time": "2023-04-01T18:55:30.428Z"
   },
   {
    "duration": 37,
    "start_time": "2023-04-01T18:55:32.504Z"
   },
   {
    "duration": 20,
    "start_time": "2023-04-01T18:55:32.543Z"
   },
   {
    "duration": 12,
    "start_time": "2023-04-01T18:55:32.565Z"
   },
   {
    "duration": 10,
    "start_time": "2023-04-01T18:55:32.579Z"
   },
   {
    "duration": 11,
    "start_time": "2023-04-01T18:55:32.590Z"
   },
   {
    "duration": 6,
    "start_time": "2023-04-01T18:55:32.603Z"
   },
   {
    "duration": 6,
    "start_time": "2023-04-01T18:55:32.611Z"
   },
   {
    "duration": 6,
    "start_time": "2023-04-01T18:55:32.619Z"
   },
   {
    "duration": 4,
    "start_time": "2023-04-01T18:55:32.626Z"
   },
   {
    "duration": 60,
    "start_time": "2023-04-01T18:55:32.632Z"
   },
   {
    "duration": 29,
    "start_time": "2023-04-01T18:55:32.694Z"
   },
   {
    "duration": 100,
    "start_time": "2023-04-01T18:55:32.724Z"
   },
   {
    "duration": 0,
    "start_time": "2023-04-01T18:55:32.826Z"
   },
   {
    "duration": 0,
    "start_time": "2023-04-01T18:55:32.827Z"
   },
   {
    "duration": 0,
    "start_time": "2023-04-01T18:55:32.828Z"
   },
   {
    "duration": 0,
    "start_time": "2023-04-01T18:55:32.829Z"
   },
   {
    "duration": 0,
    "start_time": "2023-04-01T18:55:32.830Z"
   },
   {
    "duration": 0,
    "start_time": "2023-04-01T18:55:32.831Z"
   },
   {
    "duration": 2057,
    "start_time": "2023-04-01T18:56:01.493Z"
   },
   {
    "duration": 2130,
    "start_time": "2023-04-01T18:56:11.093Z"
   },
   {
    "duration": 26,
    "start_time": "2023-04-01T18:56:13.225Z"
   },
   {
    "duration": 16,
    "start_time": "2023-04-01T18:56:13.252Z"
   },
   {
    "duration": 10,
    "start_time": "2023-04-01T18:56:13.269Z"
   },
   {
    "duration": 9,
    "start_time": "2023-04-01T18:56:13.281Z"
   },
   {
    "duration": 14,
    "start_time": "2023-04-01T18:56:13.291Z"
   },
   {
    "duration": 5,
    "start_time": "2023-04-01T18:56:13.306Z"
   },
   {
    "duration": 4,
    "start_time": "2023-04-01T18:56:13.313Z"
   },
   {
    "duration": 10,
    "start_time": "2023-04-01T18:56:13.319Z"
   },
   {
    "duration": 4,
    "start_time": "2023-04-01T18:56:13.330Z"
   },
   {
    "duration": 21,
    "start_time": "2023-04-01T18:56:13.335Z"
   },
   {
    "duration": 34,
    "start_time": "2023-04-01T18:56:13.357Z"
   },
   {
    "duration": 2238,
    "start_time": "2023-04-01T18:56:13.393Z"
   },
   {
    "duration": 21,
    "start_time": "2023-04-01T18:56:15.633Z"
   },
   {
    "duration": 19,
    "start_time": "2023-04-01T18:56:15.656Z"
   },
   {
    "duration": 258,
    "start_time": "2023-04-01T18:56:15.677Z"
   },
   {
    "duration": 4,
    "start_time": "2023-04-01T18:56:15.937Z"
   },
   {
    "duration": 5,
    "start_time": "2023-04-01T18:56:15.943Z"
   },
   {
    "duration": 4,
    "start_time": "2023-04-01T18:56:15.968Z"
   },
   {
    "duration": 9,
    "start_time": "2023-04-01T19:21:41.795Z"
   },
   {
    "duration": 4,
    "start_time": "2023-04-01T19:21:54.225Z"
   },
   {
    "duration": 4,
    "start_time": "2023-04-01T19:22:11.548Z"
   },
   {
    "duration": 4,
    "start_time": "2023-04-01T19:22:25.046Z"
   },
   {
    "duration": 3,
    "start_time": "2023-04-01T19:23:26.724Z"
   },
   {
    "duration": 9,
    "start_time": "2023-04-01T19:23:48.887Z"
   },
   {
    "duration": 3,
    "start_time": "2023-04-01T19:24:03.416Z"
   },
   {
    "duration": 3,
    "start_time": "2023-04-01T19:24:08.822Z"
   },
   {
    "duration": 10,
    "start_time": "2023-04-01T19:30:05.542Z"
   },
   {
    "duration": 4,
    "start_time": "2023-04-01T19:30:34.301Z"
   },
   {
    "duration": 9,
    "start_time": "2023-04-01T19:30:49.827Z"
   },
   {
    "duration": 9,
    "start_time": "2023-04-01T19:31:15.002Z"
   },
   {
    "duration": 7,
    "start_time": "2023-04-01T19:31:20.374Z"
   },
   {
    "duration": 3,
    "start_time": "2023-04-01T19:33:53.533Z"
   },
   {
    "duration": 12,
    "start_time": "2023-04-02T11:19:06.646Z"
   },
   {
    "duration": 923,
    "start_time": "2023-04-02T11:19:10.413Z"
   },
   {
    "duration": 4,
    "start_time": "2023-04-02T11:19:12.006Z"
   },
   {
    "duration": 4,
    "start_time": "2023-04-02T11:19:45.012Z"
   },
   {
    "duration": 228,
    "start_time": "2023-04-02T11:20:52.072Z"
   },
   {
    "duration": 121,
    "start_time": "2023-04-02T11:20:52.330Z"
   },
   {
    "duration": 21,
    "start_time": "2023-04-02T11:20:52.900Z"
   },
   {
    "duration": 15,
    "start_time": "2023-04-02T11:20:53.289Z"
   },
   {
    "duration": 5,
    "start_time": "2023-04-02T11:20:53.584Z"
   },
   {
    "duration": 8,
    "start_time": "2023-04-02T11:20:53.872Z"
   },
   {
    "duration": 7,
    "start_time": "2023-04-02T11:20:54.147Z"
   },
   {
    "duration": 7,
    "start_time": "2023-04-02T11:20:55.647Z"
   },
   {
    "duration": 6,
    "start_time": "2023-04-02T11:20:55.903Z"
   },
   {
    "duration": 5,
    "start_time": "2023-04-02T11:20:56.565Z"
   },
   {
    "duration": 4,
    "start_time": "2023-04-02T11:20:56.901Z"
   },
   {
    "duration": 28,
    "start_time": "2023-04-02T11:20:59.129Z"
   },
   {
    "duration": 37,
    "start_time": "2023-04-02T11:21:05.084Z"
   },
   {
    "duration": 2374,
    "start_time": "2023-04-02T11:21:05.761Z"
   },
   {
    "duration": 46,
    "start_time": "2023-04-02T11:21:08.137Z"
   },
   {
    "duration": 16,
    "start_time": "2023-04-02T11:21:09.544Z"
   },
   {
    "duration": 301,
    "start_time": "2023-04-02T11:21:11.732Z"
   },
   {
    "duration": 6,
    "start_time": "2023-04-02T11:21:14.323Z"
   },
   {
    "duration": 2,
    "start_time": "2023-04-02T11:21:15.397Z"
   },
   {
    "duration": 4,
    "start_time": "2023-04-02T11:21:16.272Z"
   },
   {
    "duration": 100,
    "start_time": "2023-04-02T11:21:47.673Z"
   },
   {
    "duration": 12,
    "start_time": "2023-04-02T11:22:05.385Z"
   },
   {
    "duration": 9,
    "start_time": "2023-04-02T11:22:58.576Z"
   },
   {
    "duration": 3,
    "start_time": "2023-04-02T11:23:06.412Z"
   },
   {
    "duration": 9,
    "start_time": "2023-04-02T11:23:06.788Z"
   },
   {
    "duration": 8,
    "start_time": "2023-04-02T11:23:25.472Z"
   },
   {
    "duration": 11,
    "start_time": "2023-04-02T11:23:33.901Z"
   },
   {
    "duration": 3,
    "start_time": "2023-04-02T11:24:29.104Z"
   },
   {
    "duration": 13,
    "start_time": "2023-04-02T11:24:29.584Z"
   },
   {
    "duration": 18,
    "start_time": "2023-04-02T11:24:44.784Z"
   },
   {
    "duration": 13,
    "start_time": "2023-04-02T11:25:07.885Z"
   },
   {
    "duration": 10,
    "start_time": "2023-04-02T11:28:32.694Z"
   },
   {
    "duration": 4,
    "start_time": "2023-04-02T11:30:12.880Z"
   },
   {
    "duration": 32,
    "start_time": "2023-04-02T11:41:15.117Z"
   },
   {
    "duration": 73,
    "start_time": "2023-04-02T11:44:26.467Z"
   },
   {
    "duration": 71,
    "start_time": "2023-04-02T11:44:39.916Z"
   },
   {
    "duration": 35,
    "start_time": "2023-04-02T11:44:53.618Z"
   },
   {
    "duration": 30,
    "start_time": "2023-04-02T11:45:03.912Z"
   },
   {
    "duration": 109,
    "start_time": "2023-04-02T11:46:13.262Z"
   },
   {
    "duration": 67,
    "start_time": "2023-04-02T11:52:01.705Z"
   },
   {
    "duration": 76,
    "start_time": "2023-04-02T11:52:07.725Z"
   },
   {
    "duration": 79,
    "start_time": "2023-04-02T11:52:52.809Z"
   },
   {
    "duration": 69,
    "start_time": "2023-04-02T11:53:06.022Z"
   }
  ],
  "kernelspec": {
   "display_name": "Python 3 (ipykernel)",
   "language": "python",
   "name": "python3"
  },
  "language_info": {
   "codemirror_mode": {
    "name": "ipython",
    "version": 3
   },
   "file_extension": ".py",
   "mimetype": "text/x-python",
   "name": "python",
   "nbconvert_exporter": "python",
   "pygments_lexer": "ipython3",
   "version": "3.9.13"
  },
  "toc": {
   "base_numbering": 1,
   "nav_menu": {},
   "number_sections": true,
   "sideBar": true,
   "skip_h1_title": true,
   "title_cell": "Table of Contents",
   "title_sidebar": "Contents",
   "toc_cell": false,
   "toc_position": {},
   "toc_section_display": true,
   "toc_window_display": true
  }
 },
 "nbformat": 4,
 "nbformat_minor": 2
}
